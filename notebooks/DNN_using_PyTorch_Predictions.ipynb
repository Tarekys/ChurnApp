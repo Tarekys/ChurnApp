{
  "cells": [
    {
      "cell_type": "markdown",
      "metadata": {
        "id": "zvYDtbKpZS0M"
      },
      "source": [
        "## **Import Libraries**"
      ]
    },
    {
      "cell_type": "code",
      "execution_count": null,
      "metadata": {
        "id": "adJ2GI5LH63w"
      },
      "outputs": [],
      "source": [
        "import pandas as pd\n",
        "import numpy as np\n",
        "import missingno as msno\n",
        "import matplotlib.pyplot as plt\n",
        "import seaborn as sns\n",
        "import plotly.express as px\n",
        "import plotly.graph_objects as go\n",
        "from plotly.subplots import make_subplots\n",
        "import warnings\n",
        "warnings.filterwarnings('ignore')\n",
        "\n",
        "from sklearn.model_selection import train_test_split\n",
        "from sklearn.preprocessing import StandardScaler\n",
        "from sklearn.metrics import accuracy_score, classification_report, confusion_matrix\n",
        "\n",
        "import torch\n",
        "import torch.nn as nn\n",
        "import torch.optim as optim\n",
        "import torch.nn.functional as F\n",
        "from torch.utils.data import Dataset, DataLoader\n",
        "from torch.utils.data import DataLoader, TensorDataset"
      ]
    },
    {
      "cell_type": "code",
      "execution_count": null,
      "metadata": {
        "id": "4otVXl9HMpde"
      },
      "outputs": [],
      "source": []
    },
    {
      "cell_type": "code",
      "source": [],
      "metadata": {
        "id": "uN2ydcpOSmRa"
      },
      "execution_count": null,
      "outputs": []
    },
    {
      "cell_type": "code",
      "source": [
        "from google.colab import drive\n",
        "drive.mount('/content/drive')"
      ],
      "metadata": {
        "colab": {
          "base_uri": "https://localhost:8080/"
        },
        "id": "GkGs9Vj-SqX1",
        "outputId": "ecb9c584-c78f-4d8d-e556-972e169abe39"
      },
      "execution_count": null,
      "outputs": [
        {
          "output_type": "stream",
          "name": "stdout",
          "text": [
            "Mounted at /content/drive\n"
          ]
        }
      ]
    },
    {
      "cell_type": "markdown",
      "metadata": {
        "id": "cz63x37jMAi9"
      },
      "source": [
        "## **Data Preparation**"
      ]
    },
    {
      "cell_type": "markdown",
      "metadata": {
        "id": "hNNwR0AVM0bt"
      },
      "source": [
        "**1.** **Undertanding the data**"
      ]
    },
    {
      "cell_type": "code",
      "execution_count": null,
      "metadata": {
        "colab": {
          "base_uri": "https://localhost:8080/",
          "height": 617
        },
        "id": "Zbvf6gOhMfUj",
        "outputId": "ad9b0bce-7c9d-485d-c4be-73422b52da9c"
      },
      "outputs": [
        {
          "output_type": "execute_result",
          "data": {
            "text/plain": [
              "      customerID  gender  SeniorCitizen Partner Dependents  tenure  \\\n",
              "0     7590-VHVEG  Female              0     Yes         No       1   \n",
              "1     5575-GNVDE    Male              0      No         No      34   \n",
              "2     3668-QPYBK    Male              0      No         No       2   \n",
              "3     7795-CFOCW    Male              0      No         No      45   \n",
              "4     9237-HQITU  Female              0      No         No       2   \n",
              "...          ...     ...            ...     ...        ...     ...   \n",
              "7038  6840-RESVB    Male              0     Yes        Yes      24   \n",
              "7039  2234-XADUH  Female              0     Yes        Yes      72   \n",
              "7040  4801-JZAZL  Female              0     Yes        Yes      11   \n",
              "7041  8361-LTMKD    Male              1     Yes         No       4   \n",
              "7042  3186-AJIEK    Male              0      No         No      66   \n",
              "\n",
              "     PhoneService     MultipleLines InternetService OnlineSecurity  ...  \\\n",
              "0              No  No phone service             DSL             No  ...   \n",
              "1             Yes                No             DSL            Yes  ...   \n",
              "2             Yes                No             DSL            Yes  ...   \n",
              "3              No  No phone service             DSL            Yes  ...   \n",
              "4             Yes                No     Fiber optic             No  ...   \n",
              "...           ...               ...             ...            ...  ...   \n",
              "7038          Yes               Yes             DSL            Yes  ...   \n",
              "7039          Yes               Yes     Fiber optic             No  ...   \n",
              "7040           No  No phone service             DSL            Yes  ...   \n",
              "7041          Yes               Yes     Fiber optic             No  ...   \n",
              "7042          Yes                No     Fiber optic            Yes  ...   \n",
              "\n",
              "     DeviceProtection TechSupport StreamingTV StreamingMovies        Contract  \\\n",
              "0                  No          No          No              No  Month-to-month   \n",
              "1                 Yes          No          No              No        One year   \n",
              "2                  No          No          No              No  Month-to-month   \n",
              "3                 Yes         Yes          No              No        One year   \n",
              "4                  No          No          No              No  Month-to-month   \n",
              "...               ...         ...         ...             ...             ...   \n",
              "7038              Yes         Yes         Yes             Yes        One year   \n",
              "7039              Yes          No         Yes             Yes        One year   \n",
              "7040               No          No          No              No  Month-to-month   \n",
              "7041               No          No          No              No  Month-to-month   \n",
              "7042              Yes         Yes         Yes             Yes        Two year   \n",
              "\n",
              "     PaperlessBilling              PaymentMethod MonthlyCharges  TotalCharges  \\\n",
              "0                 Yes           Electronic check          29.85         29.85   \n",
              "1                  No               Mailed check          56.95        1889.5   \n",
              "2                 Yes               Mailed check          53.85        108.15   \n",
              "3                  No  Bank transfer (automatic)          42.30       1840.75   \n",
              "4                 Yes           Electronic check          70.70        151.65   \n",
              "...               ...                        ...            ...           ...   \n",
              "7038              Yes               Mailed check          84.80        1990.5   \n",
              "7039              Yes    Credit card (automatic)         103.20        7362.9   \n",
              "7040              Yes           Electronic check          29.60        346.45   \n",
              "7041              Yes               Mailed check          74.40         306.6   \n",
              "7042              Yes  Bank transfer (automatic)         105.65        6844.5   \n",
              "\n",
              "     Churn  \n",
              "0       No  \n",
              "1       No  \n",
              "2      Yes  \n",
              "3       No  \n",
              "4      Yes  \n",
              "...    ...  \n",
              "7038    No  \n",
              "7039    No  \n",
              "7040    No  \n",
              "7041   Yes  \n",
              "7042    No  \n",
              "\n",
              "[7043 rows x 21 columns]"
            ],
            "text/html": [
              "\n",
              "  <div id=\"df-536d003b-3404-4c90-a530-1b25c190e6fa\" class=\"colab-df-container\">\n",
              "    <div>\n",
              "<style scoped>\n",
              "    .dataframe tbody tr th:only-of-type {\n",
              "        vertical-align: middle;\n",
              "    }\n",
              "\n",
              "    .dataframe tbody tr th {\n",
              "        vertical-align: top;\n",
              "    }\n",
              "\n",
              "    .dataframe thead th {\n",
              "        text-align: right;\n",
              "    }\n",
              "</style>\n",
              "<table border=\"1\" class=\"dataframe\">\n",
              "  <thead>\n",
              "    <tr style=\"text-align: right;\">\n",
              "      <th></th>\n",
              "      <th>customerID</th>\n",
              "      <th>gender</th>\n",
              "      <th>SeniorCitizen</th>\n",
              "      <th>Partner</th>\n",
              "      <th>Dependents</th>\n",
              "      <th>tenure</th>\n",
              "      <th>PhoneService</th>\n",
              "      <th>MultipleLines</th>\n",
              "      <th>InternetService</th>\n",
              "      <th>OnlineSecurity</th>\n",
              "      <th>...</th>\n",
              "      <th>DeviceProtection</th>\n",
              "      <th>TechSupport</th>\n",
              "      <th>StreamingTV</th>\n",
              "      <th>StreamingMovies</th>\n",
              "      <th>Contract</th>\n",
              "      <th>PaperlessBilling</th>\n",
              "      <th>PaymentMethod</th>\n",
              "      <th>MonthlyCharges</th>\n",
              "      <th>TotalCharges</th>\n",
              "      <th>Churn</th>\n",
              "    </tr>\n",
              "  </thead>\n",
              "  <tbody>\n",
              "    <tr>\n",
              "      <th>0</th>\n",
              "      <td>7590-VHVEG</td>\n",
              "      <td>Female</td>\n",
              "      <td>0</td>\n",
              "      <td>Yes</td>\n",
              "      <td>No</td>\n",
              "      <td>1</td>\n",
              "      <td>No</td>\n",
              "      <td>No phone service</td>\n",
              "      <td>DSL</td>\n",
              "      <td>No</td>\n",
              "      <td>...</td>\n",
              "      <td>No</td>\n",
              "      <td>No</td>\n",
              "      <td>No</td>\n",
              "      <td>No</td>\n",
              "      <td>Month-to-month</td>\n",
              "      <td>Yes</td>\n",
              "      <td>Electronic check</td>\n",
              "      <td>29.85</td>\n",
              "      <td>29.85</td>\n",
              "      <td>No</td>\n",
              "    </tr>\n",
              "    <tr>\n",
              "      <th>1</th>\n",
              "      <td>5575-GNVDE</td>\n",
              "      <td>Male</td>\n",
              "      <td>0</td>\n",
              "      <td>No</td>\n",
              "      <td>No</td>\n",
              "      <td>34</td>\n",
              "      <td>Yes</td>\n",
              "      <td>No</td>\n",
              "      <td>DSL</td>\n",
              "      <td>Yes</td>\n",
              "      <td>...</td>\n",
              "      <td>Yes</td>\n",
              "      <td>No</td>\n",
              "      <td>No</td>\n",
              "      <td>No</td>\n",
              "      <td>One year</td>\n",
              "      <td>No</td>\n",
              "      <td>Mailed check</td>\n",
              "      <td>56.95</td>\n",
              "      <td>1889.5</td>\n",
              "      <td>No</td>\n",
              "    </tr>\n",
              "    <tr>\n",
              "      <th>2</th>\n",
              "      <td>3668-QPYBK</td>\n",
              "      <td>Male</td>\n",
              "      <td>0</td>\n",
              "      <td>No</td>\n",
              "      <td>No</td>\n",
              "      <td>2</td>\n",
              "      <td>Yes</td>\n",
              "      <td>No</td>\n",
              "      <td>DSL</td>\n",
              "      <td>Yes</td>\n",
              "      <td>...</td>\n",
              "      <td>No</td>\n",
              "      <td>No</td>\n",
              "      <td>No</td>\n",
              "      <td>No</td>\n",
              "      <td>Month-to-month</td>\n",
              "      <td>Yes</td>\n",
              "      <td>Mailed check</td>\n",
              "      <td>53.85</td>\n",
              "      <td>108.15</td>\n",
              "      <td>Yes</td>\n",
              "    </tr>\n",
              "    <tr>\n",
              "      <th>3</th>\n",
              "      <td>7795-CFOCW</td>\n",
              "      <td>Male</td>\n",
              "      <td>0</td>\n",
              "      <td>No</td>\n",
              "      <td>No</td>\n",
              "      <td>45</td>\n",
              "      <td>No</td>\n",
              "      <td>No phone service</td>\n",
              "      <td>DSL</td>\n",
              "      <td>Yes</td>\n",
              "      <td>...</td>\n",
              "      <td>Yes</td>\n",
              "      <td>Yes</td>\n",
              "      <td>No</td>\n",
              "      <td>No</td>\n",
              "      <td>One year</td>\n",
              "      <td>No</td>\n",
              "      <td>Bank transfer (automatic)</td>\n",
              "      <td>42.30</td>\n",
              "      <td>1840.75</td>\n",
              "      <td>No</td>\n",
              "    </tr>\n",
              "    <tr>\n",
              "      <th>4</th>\n",
              "      <td>9237-HQITU</td>\n",
              "      <td>Female</td>\n",
              "      <td>0</td>\n",
              "      <td>No</td>\n",
              "      <td>No</td>\n",
              "      <td>2</td>\n",
              "      <td>Yes</td>\n",
              "      <td>No</td>\n",
              "      <td>Fiber optic</td>\n",
              "      <td>No</td>\n",
              "      <td>...</td>\n",
              "      <td>No</td>\n",
              "      <td>No</td>\n",
              "      <td>No</td>\n",
              "      <td>No</td>\n",
              "      <td>Month-to-month</td>\n",
              "      <td>Yes</td>\n",
              "      <td>Electronic check</td>\n",
              "      <td>70.70</td>\n",
              "      <td>151.65</td>\n",
              "      <td>Yes</td>\n",
              "    </tr>\n",
              "    <tr>\n",
              "      <th>...</th>\n",
              "      <td>...</td>\n",
              "      <td>...</td>\n",
              "      <td>...</td>\n",
              "      <td>...</td>\n",
              "      <td>...</td>\n",
              "      <td>...</td>\n",
              "      <td>...</td>\n",
              "      <td>...</td>\n",
              "      <td>...</td>\n",
              "      <td>...</td>\n",
              "      <td>...</td>\n",
              "      <td>...</td>\n",
              "      <td>...</td>\n",
              "      <td>...</td>\n",
              "      <td>...</td>\n",
              "      <td>...</td>\n",
              "      <td>...</td>\n",
              "      <td>...</td>\n",
              "      <td>...</td>\n",
              "      <td>...</td>\n",
              "      <td>...</td>\n",
              "    </tr>\n",
              "    <tr>\n",
              "      <th>7038</th>\n",
              "      <td>6840-RESVB</td>\n",
              "      <td>Male</td>\n",
              "      <td>0</td>\n",
              "      <td>Yes</td>\n",
              "      <td>Yes</td>\n",
              "      <td>24</td>\n",
              "      <td>Yes</td>\n",
              "      <td>Yes</td>\n",
              "      <td>DSL</td>\n",
              "      <td>Yes</td>\n",
              "      <td>...</td>\n",
              "      <td>Yes</td>\n",
              "      <td>Yes</td>\n",
              "      <td>Yes</td>\n",
              "      <td>Yes</td>\n",
              "      <td>One year</td>\n",
              "      <td>Yes</td>\n",
              "      <td>Mailed check</td>\n",
              "      <td>84.80</td>\n",
              "      <td>1990.5</td>\n",
              "      <td>No</td>\n",
              "    </tr>\n",
              "    <tr>\n",
              "      <th>7039</th>\n",
              "      <td>2234-XADUH</td>\n",
              "      <td>Female</td>\n",
              "      <td>0</td>\n",
              "      <td>Yes</td>\n",
              "      <td>Yes</td>\n",
              "      <td>72</td>\n",
              "      <td>Yes</td>\n",
              "      <td>Yes</td>\n",
              "      <td>Fiber optic</td>\n",
              "      <td>No</td>\n",
              "      <td>...</td>\n",
              "      <td>Yes</td>\n",
              "      <td>No</td>\n",
              "      <td>Yes</td>\n",
              "      <td>Yes</td>\n",
              "      <td>One year</td>\n",
              "      <td>Yes</td>\n",
              "      <td>Credit card (automatic)</td>\n",
              "      <td>103.20</td>\n",
              "      <td>7362.9</td>\n",
              "      <td>No</td>\n",
              "    </tr>\n",
              "    <tr>\n",
              "      <th>7040</th>\n",
              "      <td>4801-JZAZL</td>\n",
              "      <td>Female</td>\n",
              "      <td>0</td>\n",
              "      <td>Yes</td>\n",
              "      <td>Yes</td>\n",
              "      <td>11</td>\n",
              "      <td>No</td>\n",
              "      <td>No phone service</td>\n",
              "      <td>DSL</td>\n",
              "      <td>Yes</td>\n",
              "      <td>...</td>\n",
              "      <td>No</td>\n",
              "      <td>No</td>\n",
              "      <td>No</td>\n",
              "      <td>No</td>\n",
              "      <td>Month-to-month</td>\n",
              "      <td>Yes</td>\n",
              "      <td>Electronic check</td>\n",
              "      <td>29.60</td>\n",
              "      <td>346.45</td>\n",
              "      <td>No</td>\n",
              "    </tr>\n",
              "    <tr>\n",
              "      <th>7041</th>\n",
              "      <td>8361-LTMKD</td>\n",
              "      <td>Male</td>\n",
              "      <td>1</td>\n",
              "      <td>Yes</td>\n",
              "      <td>No</td>\n",
              "      <td>4</td>\n",
              "      <td>Yes</td>\n",
              "      <td>Yes</td>\n",
              "      <td>Fiber optic</td>\n",
              "      <td>No</td>\n",
              "      <td>...</td>\n",
              "      <td>No</td>\n",
              "      <td>No</td>\n",
              "      <td>No</td>\n",
              "      <td>No</td>\n",
              "      <td>Month-to-month</td>\n",
              "      <td>Yes</td>\n",
              "      <td>Mailed check</td>\n",
              "      <td>74.40</td>\n",
              "      <td>306.6</td>\n",
              "      <td>Yes</td>\n",
              "    </tr>\n",
              "    <tr>\n",
              "      <th>7042</th>\n",
              "      <td>3186-AJIEK</td>\n",
              "      <td>Male</td>\n",
              "      <td>0</td>\n",
              "      <td>No</td>\n",
              "      <td>No</td>\n",
              "      <td>66</td>\n",
              "      <td>Yes</td>\n",
              "      <td>No</td>\n",
              "      <td>Fiber optic</td>\n",
              "      <td>Yes</td>\n",
              "      <td>...</td>\n",
              "      <td>Yes</td>\n",
              "      <td>Yes</td>\n",
              "      <td>Yes</td>\n",
              "      <td>Yes</td>\n",
              "      <td>Two year</td>\n",
              "      <td>Yes</td>\n",
              "      <td>Bank transfer (automatic)</td>\n",
              "      <td>105.65</td>\n",
              "      <td>6844.5</td>\n",
              "      <td>No</td>\n",
              "    </tr>\n",
              "  </tbody>\n",
              "</table>\n",
              "<p>7043 rows × 21 columns</p>\n",
              "</div>\n",
              "    <div class=\"colab-df-buttons\">\n",
              "\n",
              "  <div class=\"colab-df-container\">\n",
              "    <button class=\"colab-df-convert\" onclick=\"convertToInteractive('df-536d003b-3404-4c90-a530-1b25c190e6fa')\"\n",
              "            title=\"Convert this dataframe to an interactive table.\"\n",
              "            style=\"display:none;\">\n",
              "\n",
              "  <svg xmlns=\"http://www.w3.org/2000/svg\" height=\"24px\" viewBox=\"0 -960 960 960\">\n",
              "    <path d=\"M120-120v-720h720v720H120Zm60-500h600v-160H180v160Zm220 220h160v-160H400v160Zm0 220h160v-160H400v160ZM180-400h160v-160H180v160Zm440 0h160v-160H620v160ZM180-180h160v-160H180v160Zm440 0h160v-160H620v160Z\"/>\n",
              "  </svg>\n",
              "    </button>\n",
              "\n",
              "  <style>\n",
              "    .colab-df-container {\n",
              "      display:flex;\n",
              "      gap: 12px;\n",
              "    }\n",
              "\n",
              "    .colab-df-convert {\n",
              "      background-color: #E8F0FE;\n",
              "      border: none;\n",
              "      border-radius: 50%;\n",
              "      cursor: pointer;\n",
              "      display: none;\n",
              "      fill: #1967D2;\n",
              "      height: 32px;\n",
              "      padding: 0 0 0 0;\n",
              "      width: 32px;\n",
              "    }\n",
              "\n",
              "    .colab-df-convert:hover {\n",
              "      background-color: #E2EBFA;\n",
              "      box-shadow: 0px 1px 2px rgba(60, 64, 67, 0.3), 0px 1px 3px 1px rgba(60, 64, 67, 0.15);\n",
              "      fill: #174EA6;\n",
              "    }\n",
              "\n",
              "    .colab-df-buttons div {\n",
              "      margin-bottom: 4px;\n",
              "    }\n",
              "\n",
              "    [theme=dark] .colab-df-convert {\n",
              "      background-color: #3B4455;\n",
              "      fill: #D2E3FC;\n",
              "    }\n",
              "\n",
              "    [theme=dark] .colab-df-convert:hover {\n",
              "      background-color: #434B5C;\n",
              "      box-shadow: 0px 1px 3px 1px rgba(0, 0, 0, 0.15);\n",
              "      filter: drop-shadow(0px 1px 2px rgba(0, 0, 0, 0.3));\n",
              "      fill: #FFFFFF;\n",
              "    }\n",
              "  </style>\n",
              "\n",
              "    <script>\n",
              "      const buttonEl =\n",
              "        document.querySelector('#df-536d003b-3404-4c90-a530-1b25c190e6fa button.colab-df-convert');\n",
              "      buttonEl.style.display =\n",
              "        google.colab.kernel.accessAllowed ? 'block' : 'none';\n",
              "\n",
              "      async function convertToInteractive(key) {\n",
              "        const element = document.querySelector('#df-536d003b-3404-4c90-a530-1b25c190e6fa');\n",
              "        const dataTable =\n",
              "          await google.colab.kernel.invokeFunction('convertToInteractive',\n",
              "                                                    [key], {});\n",
              "        if (!dataTable) return;\n",
              "\n",
              "        const docLinkHtml = 'Like what you see? Visit the ' +\n",
              "          '<a target=\"_blank\" href=https://colab.research.google.com/notebooks/data_table.ipynb>data table notebook</a>'\n",
              "          + ' to learn more about interactive tables.';\n",
              "        element.innerHTML = '';\n",
              "        dataTable['output_type'] = 'display_data';\n",
              "        await google.colab.output.renderOutput(dataTable, element);\n",
              "        const docLink = document.createElement('div');\n",
              "        docLink.innerHTML = docLinkHtml;\n",
              "        element.appendChild(docLink);\n",
              "      }\n",
              "    </script>\n",
              "  </div>\n",
              "\n",
              "\n",
              "<div id=\"df-48f82903-244d-4654-a207-9228c9b6fc4a\">\n",
              "  <button class=\"colab-df-quickchart\" onclick=\"quickchart('df-48f82903-244d-4654-a207-9228c9b6fc4a')\"\n",
              "            title=\"Suggest charts\"\n",
              "            style=\"display:none;\">\n",
              "\n",
              "<svg xmlns=\"http://www.w3.org/2000/svg\" height=\"24px\"viewBox=\"0 0 24 24\"\n",
              "     width=\"24px\">\n",
              "    <g>\n",
              "        <path d=\"M19 3H5c-1.1 0-2 .9-2 2v14c0 1.1.9 2 2 2h14c1.1 0 2-.9 2-2V5c0-1.1-.9-2-2-2zM9 17H7v-7h2v7zm4 0h-2V7h2v10zm4 0h-2v-4h2v4z\"/>\n",
              "    </g>\n",
              "</svg>\n",
              "  </button>\n",
              "\n",
              "<style>\n",
              "  .colab-df-quickchart {\n",
              "      --bg-color: #E8F0FE;\n",
              "      --fill-color: #1967D2;\n",
              "      --hover-bg-color: #E2EBFA;\n",
              "      --hover-fill-color: #174EA6;\n",
              "      --disabled-fill-color: #AAA;\n",
              "      --disabled-bg-color: #DDD;\n",
              "  }\n",
              "\n",
              "  [theme=dark] .colab-df-quickchart {\n",
              "      --bg-color: #3B4455;\n",
              "      --fill-color: #D2E3FC;\n",
              "      --hover-bg-color: #434B5C;\n",
              "      --hover-fill-color: #FFFFFF;\n",
              "      --disabled-bg-color: #3B4455;\n",
              "      --disabled-fill-color: #666;\n",
              "  }\n",
              "\n",
              "  .colab-df-quickchart {\n",
              "    background-color: var(--bg-color);\n",
              "    border: none;\n",
              "    border-radius: 50%;\n",
              "    cursor: pointer;\n",
              "    display: none;\n",
              "    fill: var(--fill-color);\n",
              "    height: 32px;\n",
              "    padding: 0;\n",
              "    width: 32px;\n",
              "  }\n",
              "\n",
              "  .colab-df-quickchart:hover {\n",
              "    background-color: var(--hover-bg-color);\n",
              "    box-shadow: 0 1px 2px rgba(60, 64, 67, 0.3), 0 1px 3px 1px rgba(60, 64, 67, 0.15);\n",
              "    fill: var(--button-hover-fill-color);\n",
              "  }\n",
              "\n",
              "  .colab-df-quickchart-complete:disabled,\n",
              "  .colab-df-quickchart-complete:disabled:hover {\n",
              "    background-color: var(--disabled-bg-color);\n",
              "    fill: var(--disabled-fill-color);\n",
              "    box-shadow: none;\n",
              "  }\n",
              "\n",
              "  .colab-df-spinner {\n",
              "    border: 2px solid var(--fill-color);\n",
              "    border-color: transparent;\n",
              "    border-bottom-color: var(--fill-color);\n",
              "    animation:\n",
              "      spin 1s steps(1) infinite;\n",
              "  }\n",
              "\n",
              "  @keyframes spin {\n",
              "    0% {\n",
              "      border-color: transparent;\n",
              "      border-bottom-color: var(--fill-color);\n",
              "      border-left-color: var(--fill-color);\n",
              "    }\n",
              "    20% {\n",
              "      border-color: transparent;\n",
              "      border-left-color: var(--fill-color);\n",
              "      border-top-color: var(--fill-color);\n",
              "    }\n",
              "    30% {\n",
              "      border-color: transparent;\n",
              "      border-left-color: var(--fill-color);\n",
              "      border-top-color: var(--fill-color);\n",
              "      border-right-color: var(--fill-color);\n",
              "    }\n",
              "    40% {\n",
              "      border-color: transparent;\n",
              "      border-right-color: var(--fill-color);\n",
              "      border-top-color: var(--fill-color);\n",
              "    }\n",
              "    60% {\n",
              "      border-color: transparent;\n",
              "      border-right-color: var(--fill-color);\n",
              "    }\n",
              "    80% {\n",
              "      border-color: transparent;\n",
              "      border-right-color: var(--fill-color);\n",
              "      border-bottom-color: var(--fill-color);\n",
              "    }\n",
              "    90% {\n",
              "      border-color: transparent;\n",
              "      border-bottom-color: var(--fill-color);\n",
              "    }\n",
              "  }\n",
              "</style>\n",
              "\n",
              "  <script>\n",
              "    async function quickchart(key) {\n",
              "      const quickchartButtonEl =\n",
              "        document.querySelector('#' + key + ' button');\n",
              "      quickchartButtonEl.disabled = true;  // To prevent multiple clicks.\n",
              "      quickchartButtonEl.classList.add('colab-df-spinner');\n",
              "      try {\n",
              "        const charts = await google.colab.kernel.invokeFunction(\n",
              "            'suggestCharts', [key], {});\n",
              "      } catch (error) {\n",
              "        console.error('Error during call to suggestCharts:', error);\n",
              "      }\n",
              "      quickchartButtonEl.classList.remove('colab-df-spinner');\n",
              "      quickchartButtonEl.classList.add('colab-df-quickchart-complete');\n",
              "    }\n",
              "    (() => {\n",
              "      let quickchartButtonEl =\n",
              "        document.querySelector('#df-48f82903-244d-4654-a207-9228c9b6fc4a button');\n",
              "      quickchartButtonEl.style.display =\n",
              "        google.colab.kernel.accessAllowed ? 'block' : 'none';\n",
              "    })();\n",
              "  </script>\n",
              "</div>\n",
              "\n",
              "  <div id=\"id_87a7446d-1bd5-454d-8902-fa26e09093c5\">\n",
              "    <style>\n",
              "      .colab-df-generate {\n",
              "        background-color: #E8F0FE;\n",
              "        border: none;\n",
              "        border-radius: 50%;\n",
              "        cursor: pointer;\n",
              "        display: none;\n",
              "        fill: #1967D2;\n",
              "        height: 32px;\n",
              "        padding: 0 0 0 0;\n",
              "        width: 32px;\n",
              "      }\n",
              "\n",
              "      .colab-df-generate:hover {\n",
              "        background-color: #E2EBFA;\n",
              "        box-shadow: 0px 1px 2px rgba(60, 64, 67, 0.3), 0px 1px 3px 1px rgba(60, 64, 67, 0.15);\n",
              "        fill: #174EA6;\n",
              "      }\n",
              "\n",
              "      [theme=dark] .colab-df-generate {\n",
              "        background-color: #3B4455;\n",
              "        fill: #D2E3FC;\n",
              "      }\n",
              "\n",
              "      [theme=dark] .colab-df-generate:hover {\n",
              "        background-color: #434B5C;\n",
              "        box-shadow: 0px 1px 3px 1px rgba(0, 0, 0, 0.15);\n",
              "        filter: drop-shadow(0px 1px 2px rgba(0, 0, 0, 0.3));\n",
              "        fill: #FFFFFF;\n",
              "      }\n",
              "    </style>\n",
              "    <button class=\"colab-df-generate\" onclick=\"generateWithVariable('data')\"\n",
              "            title=\"Generate code using this dataframe.\"\n",
              "            style=\"display:none;\">\n",
              "\n",
              "  <svg xmlns=\"http://www.w3.org/2000/svg\" height=\"24px\"viewBox=\"0 0 24 24\"\n",
              "       width=\"24px\">\n",
              "    <path d=\"M7,19H8.4L18.45,9,17,7.55,7,17.6ZM5,21V16.75L18.45,3.32a2,2,0,0,1,2.83,0l1.4,1.43a1.91,1.91,0,0,1,.58,1.4,1.91,1.91,0,0,1-.58,1.4L9.25,21ZM18.45,9,17,7.55Zm-12,3A5.31,5.31,0,0,0,4.9,8.1,5.31,5.31,0,0,0,1,6.5,5.31,5.31,0,0,0,4.9,4.9,5.31,5.31,0,0,0,6.5,1,5.31,5.31,0,0,0,8.1,4.9,5.31,5.31,0,0,0,12,6.5,5.46,5.46,0,0,0,6.5,12Z\"/>\n",
              "  </svg>\n",
              "    </button>\n",
              "    <script>\n",
              "      (() => {\n",
              "      const buttonEl =\n",
              "        document.querySelector('#id_87a7446d-1bd5-454d-8902-fa26e09093c5 button.colab-df-generate');\n",
              "      buttonEl.style.display =\n",
              "        google.colab.kernel.accessAllowed ? 'block' : 'none';\n",
              "\n",
              "      buttonEl.onclick = () => {\n",
              "        google.colab.notebook.generateWithVariable('data');\n",
              "      }\n",
              "      })();\n",
              "    </script>\n",
              "  </div>\n",
              "\n",
              "    </div>\n",
              "  </div>\n"
            ],
            "application/vnd.google.colaboratory.intrinsic+json": {
              "type": "dataframe",
              "variable_name": "data"
            }
          },
          "metadata": {},
          "execution_count": 3
        }
      ],
      "source": [
        "data = pd.read_csv(\"/content/drive/MyDrive/Text/WA_Fn-UseC_-Telco-Customer-Churn.csv\")\n",
        "data"
      ]
    },
    {
      "cell_type": "markdown",
      "metadata": {
        "id": "XSVKJKX7NNqY"
      },
      "source": [
        "* **Customers who left within the last month** – the column is called Churn.\n",
        "* **Services that each customer has signed up for** –  phone, multiple lines, internet, online security, online backup, device protection, tech support, and streaming TV and movies.\n",
        "\n",
        "* **Customer account information** - how long they’ve been a customer, contract, payment method, paperless billing, monthly charges, and total charges\n",
        "\n",
        "* **Demographic info about customers** – gender, age range, and if they have partners and dependents\n",
        "\n"
      ]
    },
    {
      "cell_type": "code",
      "execution_count": null,
      "metadata": {
        "colab": {
          "base_uri": "https://localhost:8080/"
        },
        "id": "GchKxaOkMfYE",
        "outputId": "bf6ea225-49fd-4ef0-a58a-2c16c97f7be4"
      },
      "outputs": [
        {
          "output_type": "execute_result",
          "data": {
            "text/plain": [
              "(7043, 21)"
            ]
          },
          "metadata": {},
          "execution_count": 227
        }
      ],
      "source": [
        "data.shape"
      ]
    },
    {
      "cell_type": "code",
      "execution_count": null,
      "metadata": {
        "colab": {
          "base_uri": "https://localhost:8080/"
        },
        "id": "K_0wroxhMfdq",
        "outputId": "f68978ee-e3ec-4b12-e5c2-cefea617ff10"
      },
      "outputs": [
        {
          "output_type": "stream",
          "name": "stdout",
          "text": [
            "<class 'pandas.core.frame.DataFrame'>\n",
            "RangeIndex: 7043 entries, 0 to 7042\n",
            "Data columns (total 21 columns):\n",
            " #   Column            Non-Null Count  Dtype  \n",
            "---  ------            --------------  -----  \n",
            " 0   customerID        7043 non-null   object \n",
            " 1   gender            7043 non-null   object \n",
            " 2   SeniorCitizen     7043 non-null   int64  \n",
            " 3   Partner           7043 non-null   object \n",
            " 4   Dependents        7043 non-null   object \n",
            " 5   tenure            7043 non-null   int64  \n",
            " 6   PhoneService      7043 non-null   object \n",
            " 7   MultipleLines     7043 non-null   object \n",
            " 8   InternetService   7043 non-null   object \n",
            " 9   OnlineSecurity    7043 non-null   object \n",
            " 10  OnlineBackup      7043 non-null   object \n",
            " 11  DeviceProtection  7043 non-null   object \n",
            " 12  TechSupport       7043 non-null   object \n",
            " 13  StreamingTV       7043 non-null   object \n",
            " 14  StreamingMovies   7043 non-null   object \n",
            " 15  Contract          7043 non-null   object \n",
            " 16  PaperlessBilling  7043 non-null   object \n",
            " 17  PaymentMethod     7043 non-null   object \n",
            " 18  MonthlyCharges    7043 non-null   float64\n",
            " 19  TotalCharges      7043 non-null   object \n",
            " 20  Churn             7043 non-null   object \n",
            "dtypes: float64(1), int64(2), object(18)\n",
            "memory usage: 1.1+ MB\n"
          ]
        }
      ],
      "source": [
        "data.info()"
      ]
    },
    {
      "cell_type": "code",
      "execution_count": null,
      "metadata": {
        "colab": {
          "base_uri": "https://localhost:8080/",
          "height": 742
        },
        "id": "J8QWsBeUMflD",
        "outputId": "325484e8-1174-4931-9aee-570c9e4f290f"
      },
      "outputs": [
        {
          "output_type": "execute_result",
          "data": {
            "text/plain": [
              "customerID          0\n",
              "gender              0\n",
              "SeniorCitizen       0\n",
              "Partner             0\n",
              "Dependents          0\n",
              "tenure              0\n",
              "PhoneService        0\n",
              "MultipleLines       0\n",
              "InternetService     0\n",
              "OnlineSecurity      0\n",
              "OnlineBackup        0\n",
              "DeviceProtection    0\n",
              "TechSupport         0\n",
              "StreamingTV         0\n",
              "StreamingMovies     0\n",
              "Contract            0\n",
              "PaperlessBilling    0\n",
              "PaymentMethod       0\n",
              "MonthlyCharges      0\n",
              "TotalCharges        0\n",
              "Churn               0\n",
              "dtype: int64"
            ],
            "text/html": [
              "<div>\n",
              "<style scoped>\n",
              "    .dataframe tbody tr th:only-of-type {\n",
              "        vertical-align: middle;\n",
              "    }\n",
              "\n",
              "    .dataframe tbody tr th {\n",
              "        vertical-align: top;\n",
              "    }\n",
              "\n",
              "    .dataframe thead th {\n",
              "        text-align: right;\n",
              "    }\n",
              "</style>\n",
              "<table border=\"1\" class=\"dataframe\">\n",
              "  <thead>\n",
              "    <tr style=\"text-align: right;\">\n",
              "      <th></th>\n",
              "      <th>0</th>\n",
              "    </tr>\n",
              "  </thead>\n",
              "  <tbody>\n",
              "    <tr>\n",
              "      <th>customerID</th>\n",
              "      <td>0</td>\n",
              "    </tr>\n",
              "    <tr>\n",
              "      <th>gender</th>\n",
              "      <td>0</td>\n",
              "    </tr>\n",
              "    <tr>\n",
              "      <th>SeniorCitizen</th>\n",
              "      <td>0</td>\n",
              "    </tr>\n",
              "    <tr>\n",
              "      <th>Partner</th>\n",
              "      <td>0</td>\n",
              "    </tr>\n",
              "    <tr>\n",
              "      <th>Dependents</th>\n",
              "      <td>0</td>\n",
              "    </tr>\n",
              "    <tr>\n",
              "      <th>tenure</th>\n",
              "      <td>0</td>\n",
              "    </tr>\n",
              "    <tr>\n",
              "      <th>PhoneService</th>\n",
              "      <td>0</td>\n",
              "    </tr>\n",
              "    <tr>\n",
              "      <th>MultipleLines</th>\n",
              "      <td>0</td>\n",
              "    </tr>\n",
              "    <tr>\n",
              "      <th>InternetService</th>\n",
              "      <td>0</td>\n",
              "    </tr>\n",
              "    <tr>\n",
              "      <th>OnlineSecurity</th>\n",
              "      <td>0</td>\n",
              "    </tr>\n",
              "    <tr>\n",
              "      <th>OnlineBackup</th>\n",
              "      <td>0</td>\n",
              "    </tr>\n",
              "    <tr>\n",
              "      <th>DeviceProtection</th>\n",
              "      <td>0</td>\n",
              "    </tr>\n",
              "    <tr>\n",
              "      <th>TechSupport</th>\n",
              "      <td>0</td>\n",
              "    </tr>\n",
              "    <tr>\n",
              "      <th>StreamingTV</th>\n",
              "      <td>0</td>\n",
              "    </tr>\n",
              "    <tr>\n",
              "      <th>StreamingMovies</th>\n",
              "      <td>0</td>\n",
              "    </tr>\n",
              "    <tr>\n",
              "      <th>Contract</th>\n",
              "      <td>0</td>\n",
              "    </tr>\n",
              "    <tr>\n",
              "      <th>PaperlessBilling</th>\n",
              "      <td>0</td>\n",
              "    </tr>\n",
              "    <tr>\n",
              "      <th>PaymentMethod</th>\n",
              "      <td>0</td>\n",
              "    </tr>\n",
              "    <tr>\n",
              "      <th>MonthlyCharges</th>\n",
              "      <td>0</td>\n",
              "    </tr>\n",
              "    <tr>\n",
              "      <th>TotalCharges</th>\n",
              "      <td>0</td>\n",
              "    </tr>\n",
              "    <tr>\n",
              "      <th>Churn</th>\n",
              "      <td>0</td>\n",
              "    </tr>\n",
              "  </tbody>\n",
              "</table>\n",
              "</div><br><label><b>dtype:</b> int64</label>"
            ]
          },
          "metadata": {},
          "execution_count": 5
        }
      ],
      "source": [
        "data.isnull().sum()"
      ]
    },
    {
      "cell_type": "code",
      "execution_count": null,
      "metadata": {
        "colab": {
          "base_uri": "https://localhost:8080/"
        },
        "id": "CZ4ahSzgN5y6",
        "outputId": "cf532d1b-effe-4d8f-888c-331f4c499f5e"
      },
      "outputs": [
        {
          "output_type": "execute_result",
          "data": {
            "text/plain": [
              "array(['customerID', 'gender', 'SeniorCitizen', 'Partner', 'Dependents',\n",
              "       'tenure', 'PhoneService', 'MultipleLines', 'InternetService',\n",
              "       'OnlineSecurity', 'OnlineBackup', 'DeviceProtection',\n",
              "       'TechSupport', 'StreamingTV', 'StreamingMovies', 'Contract',\n",
              "       'PaperlessBilling', 'PaymentMethod', 'MonthlyCharges',\n",
              "       'TotalCharges', 'Churn'], dtype=object)"
            ]
          },
          "metadata": {},
          "execution_count": 230
        }
      ],
      "source": [
        "data.columns.values"
      ]
    },
    {
      "cell_type": "markdown",
      "metadata": {
        "id": "JECm-DdxOJNB"
      },
      "source": [
        "**2.** **Visualize missing values**\n"
      ]
    },
    {
      "cell_type": "code",
      "execution_count": null,
      "metadata": {
        "colab": {
          "base_uri": "https://localhost:8080/",
          "height": 473
        },
        "id": "oV9cKgloOIW4",
        "outputId": "978333b8-cb0f-4821-bee2-8ccae39f1e3b"
      },
      "outputs": [
        {
          "output_type": "display_data",
          "data": {
            "text/plain": [
              "<Figure size 2500x1000 with 2 Axes>"
            ],
            "image/png": "[encoded data removed]"
          },
          "metadata": {}
        }
      ],
      "source": [
        "# Visualize missing values as a matrix\n",
        "msno.matrix(data);"
      ]
    },
    {
      "cell_type": "markdown",
      "metadata": {
        "id": "svU_YEXJPLJM"
      },
      "source": [
        "**3.** **Data Manipulation**"
      ]
    },
    {
      "cell_type": "code",
      "execution_count": null,
      "metadata": {
        "id": "YBE60NhzP9CA"
      },
      "outputs": [],
      "source": [
        "from sklearn.ensemble import RandomForestClassifier\n",
        "from sklearn.preprocessing import LabelEncoder"
      ]
    },
    {
      "cell_type": "markdown",
      "metadata": {
        "id": "lNJ4Jr0yRj9a"
      },
      "source": [
        "Feature Importance Analysis"
      ]
    },
    {
      "cell_type": "code",
      "execution_count": null,
      "metadata": {
        "colab": {
          "base_uri": "https://localhost:8080/",
          "height": 703
        },
        "id": "kDttSMqaN5tS",
        "outputId": "7455f2dc-e76a-4e91-8089-e8126091688a"
      },
      "outputs": [
        {
          "output_type": "display_data",
          "data": {
            "text/plain": [
              "<Figure size 1200x600 with 1 Axes>"
            ],
            "image/png": "[encoded data removed]"
          },
          "metadata": {}
        },
        {
          "output_type": "stream",
          "name": "stdout",
          "text": [
            "\n",
            "🛑 low features Effective:\n",
            "            Feature  Importance\n",
            "1     SeniorCitizen    0.021134\n",
            "3        Dependents    0.019623\n",
            "13  StreamingMovies    0.017572\n",
            "12      StreamingTV    0.016878\n",
            "5      PhoneService    0.005117\n"
          ]
        }
      ],
      "source": [
        "data.drop(columns=[\"customerID\"], inplace=True)\n",
        "\n",
        "# LabelEncoder\n",
        "categorical_columns = data.select_dtypes(include=[\"object\"]).columns\n",
        "\n",
        "label_encoders = {}\n",
        "for col in categorical_columns:\n",
        "    if col != \"Churn\":\n",
        "        label_encoders[col] = LabelEncoder()\n",
        "        data[col] = label_encoders[col].fit_transform(data[col])\n",
        "\n",
        "data[\"Churn\"] = data[\"Churn\"].map({\"No\": 0, \"Yes\": 1})\n",
        "\n",
        "# drop Features\n",
        "X = data.drop(columns=[\"Churn\"])\n",
        "y = data[\"Churn\"]\n",
        "\n",
        "# Create a Random Forest model to determine the significance of the scale\n",
        "rf = RandomForestClassifier(n_estimators=100, random_state=42)\n",
        "rf.fit(X, y)\n",
        "\n",
        "# Extract the importance of features\n",
        "feature_importances = rf.feature_importances_\n",
        "feature_importance_df = pd.DataFrame({\n",
        "    \"Feature\": X.columns,\n",
        "    \"Importance\": feature_importances\n",
        "}).sort_values(by=\"Importance\", ascending=False)\n",
        "\n",
        "# most important features\n",
        "plt.figure(figsize=(12, 6))\n",
        "plt.barh(feature_importance_df[\"Feature\"], feature_importance_df[\"Importance\"], color=\"skyblue\")\n",
        "plt.xlabel(\"Feature Importance\")\n",
        "plt.ylabel(\"Features\")\n",
        "plt.title(\"Feature Importance for Customer Churn Prediction\")\n",
        "plt.gca().invert_yaxis()\n",
        "plt.show()\n",
        "\n",
        "\n",
        "print(\"\\n🛑 low features Effective:\")\n",
        "print(feature_importance_df.tail(5))"
      ]
    },
    {
      "cell_type": "code",
      "execution_count": null,
      "metadata": {
        "id": "9sqMpnBpXvwe"
      },
      "outputs": [],
      "source": []
    },
    {
      "cell_type": "code",
      "execution_count": null,
      "metadata": {
        "id": "MBGTS69pXtf9",
        "colab": {
          "base_uri": "https://localhost:8080/",
          "height": 517
        },
        "outputId": "04661670-d508-407e-8178-81d13dd68287"
      },
      "outputs": [
        {
          "output_type": "display_data",
          "data": {
            "text/html": [
              "<html>\n",
              "<head><meta charset=\"utf-8\" /></head>\n",
              "<body>\n",
              "    <div>            <script src=\"https://cdnjs.cloudflare.com/ajax/libs/mathjax/2.7.5/MathJax.js?config=TeX-AMS-MML_SVG\"></script><script type=\"text/javascript\">if (window.MathJax && window.MathJax.Hub && window.MathJax.Hub.Config) {window.MathJax.Hub.Config({SVG: {font: \"STIX-Web\"}});}</script>                <script type=\"text/javascript\">window.PlotlyConfig = {MathJaxConfig: 'local'};</script>\n",
              "        <script charset=\"utf-8\" src=\"https://cdn.plot.ly/plotly-2.35.2.min.js\"></script>                <div id=\"3092544e-871d-43ed-837e-d6bca93dca6c\" class=\"plotly-graph-div\" style=\"height:500px; width:700px;\"></div>            <script type=\"text/javascript\">                                    window.PLOTLYENV=window.PLOTLYENV || {};                                    if (document.getElementById(\"3092544e-871d-43ed-837e-d6bca93dca6c\")) {                    Plotly.newPlot(                        \"3092544e-871d-43ed-837e-d6bca93dca6c\",                        [{\"alignmentgroup\":\"True\",\"bingroup\":\"x\",\"hovertemplate\":\"PhoneService=0\\u003cbr\\u003eChurn=%{x}\\u003cbr\\u003ecount=%{y}\\u003cextra\\u003e\\u003c\\u002fextra\\u003e\",\"legendgroup\":\"0\",\"marker\":{\"color\":\"#00cc96\",\"pattern\":{\"shape\":\"\"}},\"name\":\"0\",\"offsetgroup\":\"0\",\"orientation\":\"v\",\"showlegend\":true,\"x\":[0,0,0,1,1,0,0,0,0,0,0,0,0,0,1,1,1,1,1,0,0,0,0,0,0,0,0,1,0,0,1,0,1,0,0,0,0,0,0,1,1,0,0,0,0,0,0,0,0,0,0,1,0,1,1,1,0,0,1,0,0,0,1,0,0,1,1,0,0,0,0,0,0,0,0,0,0,0,0,0,0,0,1,0,0,0,1,0,0,0,0,0,1,0,0,0,1,0,1,0,0,0,1,1,0,0,1,0,0,0,0,1,0,1,0,0,0,0,0,0,0,0,1,0,0,0,1,0,1,0,0,0,0,0,0,0,0,1,1,0,0,0,0,0,0,0,0,0,0,0,1,0,0,1,0,0,0,0,0,1,0,1,1,0,0,0,0,0,0,0,1,0,0,1,0,1,0,0,0,0,1,0,0,0,1,1,0,0,0,0,0,0,0,1,1,0,0,0,0,0,0,0,0,0,0,0,1,0,0,0,0,0,1,1,0,1,1,1,0,0,0,0,0,1,1,0,0,1,0,1,0,0,0,0,0,0,0,0,1,0,1,0,1,0,0,1,0,0,0,0,0,0,0,0,0,0,0,0,0,0,1,0,1,0,0,1,0,0,0,0,1,0,0,1,1,0,0,0,0,0,1,0,0,1,0,1,0,0,0,0,1,1,0,0,1,0,0,0,0,0,0,0,0,0,0,0,1,0,0,0,0,0,0,0,0,0,0,0,0,0,0,0,0,1,0,0,0,1,0,1,1,0,0,0,1,0,1,0,0,0,0,1,1,0,0,0,0,1,0,1,0,0,0,1,1,0,0,0,1,1,0,0,0,0,1,0,0,0,0,0,1,0,0,1,0,0,0,0,1,1,0,1,0,1,0,0,0,1,0,1,0,0,0,0,0,0,0,0,1,0,0,1,0,1,1,0,1,0,0,1,0,0,0,0,0,0,0,0,0,0,0,1,0,0,0,0,0,0,0,0,1,0,0,1,0,0,0,0,0,0,0,0,0,0,1,0,1,0,0,1,0,1,1,0,0,1,0,1,1,0,0,0,0,0,0,0,0,0,1,1,0,0,0,1,0,1,0,0,0,0,0,1,0,1,1,0,1,0,0,0,1,0,0,0,0,0,1,0,0,0,0,0,1,0,0,0,0,1,1,0,1,0,0,0,1,0,0,1,0,1,0,1,0,0,0,0,0,1,0,0,0,0,0,0,0,1,0,0,0,1,1,1,0,1,1,0,0,0,1,0,0,0,0,1,0,0,0,0,0,0,1,0,1,1,0,1,0,1,1,0,0,0,0,0,0,0,0,0,1,0,0,0,0,0,1,0,1,0,0,0,1,0,0,0,0,0,0,0,0,0,0,1,0,0,0,0,0,1,0,0,0,0,0,0,0,0,0,1,0,1,0,0,0,0,0,0,0,0,1,1,1,0,0,0,0,0,0,0,0,0,0,0,0,1,0,0,0,0,1,0,0,0,1,1,1,1,0,1,0,1,0,0,0,0,0,0,0,1,0,0,0,0,0,1,0,0,1,0,0,0,0,0],\"xaxis\":\"x\",\"yaxis\":\"y\",\"type\":\"histogram\"},{\"alignmentgroup\":\"True\",\"bingroup\":\"x\",\"hovertemplate\":\"PhoneService=1\\u003cbr\\u003eChurn=%{x}\\u003cbr\\u003ecount=%{y}\\u003cextra\\u003e\\u003c\\u002fextra\\u003e\",\"legendgroup\":\"1\",\"marker\":{\"color\":\"#ab63fa\",\"pattern\":{\"shape\":\"\"}},\"name\":\"1\",\"offsetgroup\":\"1\",\"orientation\":\"v\",\"showlegend\":true,\"x\":[0,1,1,1,0,1,0,0,0,0,1,0,0,0,0,1,0,0,1,0,0,0,1,0,1,0,0,0,0,0,0,1,0,1,1,0,0,0,0,0,0,0,1,0,0,0,1,0,1,0,1,0,0,0,0,0,0,0,1,0,0,0,0,0,0,0,0,0,0,0,0,0,0,0,1,1,0,0,0,0,0,0,0,0,0,0,0,1,0,1,0,1,0,0,0,1,0,0,0,1,0,0,1,0,1,0,0,0,0,1,0,0,0,1,0,0,0,0,1,0,0,0,0,1,0,1,0,0,0,0,0,1,0,0,0,1,0,0,0,0,0,0,0,0,0,1,0,0,0,0,1,0,0,0,1,0,1,0,0,1,1,0,0,0,1,0,1,0,0,0,0,1,0,0,0,0,0,0,0,0,0,0,0,0,0,0,1,1,0,1,0,0,0,0,0,1,0,0,1,0,0,1,0,0,0,0,1,0,0,1,0,1,0,0,0,0,0,0,0,0,1,1,0,0,1,0,0,0,0,1,1,0,0,0,0,0,1,0,1,0,0,1,1,1,0,0,0,0,0,0,1,0,0,1,1,1,1,0,0,0,0,0,0,0,0,1,0,1,0,0,0,1,0,0,0,0,0,0,0,1,0,0,1,1,0,1,0,0,0,0,1,0,0,0,0,1,1,1,1,0,0,1,0,0,0,0,0,0,1,0,0,0,0,0,1,1,0,0,0,0,0,0,0,0,1,0,0,0,0,0,1,0,0,0,1,0,0,0,1,1,0,1,1,0,0,0,0,0,0,0,0,0,1,0,0,0,1,0,0,0,0,0,1,1,1,0,0,0,0,0,0,0,1,1,0,0,0,0,0,0,0,0,0,1,0,1,0,0,0,0,0,0,0,0,0,0,1,1,0,0,0,0,0,1,0,0,0,0,0,0,0,0,1,1,0,0,0,0,1,0,1,0,0,1,1,0,0,1,1,0,0,0,1,0,0,0,1,0,0,1,0,0,0,0,1,0,0,0,0,0,1,0,1,1,0,0,0,1,0,0,1,0,0,1,0,0,0,0,1,1,0,0,0,0,0,0,0,0,0,1,0,0,0,0,0,0,0,0,1,0,1,0,0,0,0,0,0,0,1,0,0,0,0,0,0,0,0,0,0,0,0,0,1,0,0,0,1,0,0,0,0,0,0,1,1,1,0,0,1,0,0,0,0,0,0,0,0,0,1,0,0,0,0,0,0,0,0,0,0,0,0,1,1,0,0,0,0,0,0,0,0,0,0,1,0,0,0,0,1,1,0,0,0,1,0,0,1,1,0,1,1,0,0,1,1,0,1,0,1,1,0,0,1,0,0,0,1,0,0,0,0,0,0,1,1,0,0,1,0,0,0,0,0,1,0,0,0,0,0,0,1,0,0,0,0,1,0,0,0,1,0,0,0,0,0,0,0,1,0,0,0,0,1,0,0,0,0,0,0,0,0,0,1,1,1,0,0,0,1,0,1,0,0,0,0,0,0,0,0,0,0,1,0,0,0,0,0,0,0,0,0,0,0,0,1,0,0,1,0,0,1,1,0,0,0,0,0,0,0,1,1,1,1,0,1,0,1,0,0,0,1,1,0,0,0,0,0,0,0,0,0,0,0,1,0,1,0,0,1,0,0,0,1,1,1,1,0,0,0,1,0,1,0,0,0,0,0,0,1,1,0,1,1,0,0,0,1,0,0,1,0,0,1,0,1,1,0,0,0,0,0,0,0,0,0,1,0,1,0,0,0,1,1,1,1,0,1,0,0,0,0,0,1,0,0,1,0,1,0,0,0,0,0,1,0,1,0,0,0,0,0,1,0,0,1,1,0,0,1,0,0,0,0,1,0,0,0,0,1,0,0,0,0,0,0,0,0,0,1,1,0,0,0,0,0,1,0,0,1,0,0,0,0,0,1,0,0,1,0,1,0,0,0,0,1,0,0,0,0,0,0,0,1,1,1,0,0,1,1,0,0,0,1,1,0,1,0,0,0,0,1,0,1,0,0,0,0,0,0,0,0,0,1,1,1,0,0,1,1,0,0,0,0,1,1,1,0,0,0,0,1,1,0,0,0,0,0,0,0,0,0,1,0,1,1,0,0,1,0,0,0,0,0,1,1,0,0,1,0,0,0,0,0,1,0,1,0,1,1,1,1,0,0,0,0,0,1,0,0,1,0,1,1,1,0,0,0,1,0,0,0,0,0,1,0,1,1,0,1,0,0,0,0,0,0,0,0,1,0,0,0,0,1,0,0,0,0,0,0,0,1,0,1,0,0,0,0,0,0,0,0,0,1,1,0,0,0,0,1,1,0,0,0,0,0,0,0,0,0,0,0,0,0,1,1,0,0,0,0,0,0,0,0,1,0,0,1,0,0,0,0,0,0,1,0,1,0,0,1,0,1,0,0,1,0,0,1,0,0,0,0,0,0,1,0,0,0,0,0,0,0,0,0,1,0,1,0,0,1,0,1,1,0,0,1,1,0,0,1,0,0,0,1,1,0,0,0,0,0,0,1,0,0,0,1,0,1,0,0,0,1,1,0,0,0,1,1,0,1,0,1,0,0,0,1,0,0,0,1,0,0,0,0,1,0,0,0,0,0,0,0,0,0,0,0,0,0,0,1,0,0,0,0,0,1,0,0,1,0,0,0,1,0,0,0,0,1,0,1,0,1,1,1,0,1,1,0,0,0,0,1,0,0,0,0,1,1,1,0,0,0,0,1,0,0,1,1,1,0,0,0,0,1,0,1,0,0,0,1,0,0,0,0,1,1,1,1,0,0,1,0,0,0,0,1,0,0,0,0,1,0,0,0,0,0,1,1,0,0,0,0,1,0,0,0,0,0,1,1,0,0,0,0,1,0,0,1,0,0,0,1,0,1,0,0,0,0,0,0,0,1,0,1,0,0,0,0,1,0,0,0,0,0,1,0,1,0,0,1,0,0,0,0,0,0,0,1,0,0,0,0,0,0,0,1,0,1,0,1,0,0,1,0,0,0,0,0,1,0,0,1,1,0,0,0,1,1,0,0,0,1,1,0,0,0,0,0,1,0,1,0,0,0,1,0,0,0,0,0,1,0,0,1,0,0,0,0,0,0,0,0,0,0,1,0,0,0,0,0,0,0,1,0,0,1,0,0,0,0,1,0,0,0,0,1,0,0,0,1,0,1,0,0,0,0,0,1,1,0,1,0,1,0,1,0,0,0,0,0,0,0,1,0,0,1,0,1,1,1,0,0,0,0,0,0,0,0,0,0,1,0,0,1,0,0,0,0,1,0,1,1,0,0,0,1,0,0,0,0,1,0,0,0,0,1,0,1,0,0,1,1,0,0,0,0,0,1,1,0,0,0,0,1,0,0,0,0,1,1,0,1,0,0,1,1,0,0,1,0,0,1,0,0,0,1,1,1,0,0,0,0,0,1,0,0,1,0,1,0,0,0,0,0,0,0,0,0,0,1,0,0,0,0,0,0,1,0,0,0,0,1,1,1,0,0,0,1,0,0,0,0,0,0,0,0,0,0,0,0,1,0,0,0,0,0,0,0,1,1,0,0,0,1,0,0,1,0,0,1,0,0,0,0,1,0,0,0,1,0,0,0,0,0,0,0,0,0,0,0,0,0,0,0,0,0,0,1,1,1,0,0,0,0,0,0,0,1,0,0,1,1,0,1,0,0,1,0,0,0,0,1,0,0,0,1,0,0,0,0,0,1,1,1,0,0,0,0,0,0,0,0,0,0,1,1,1,0,0,0,0,0,0,0,0,1,0,1,1,0,0,1,0,0,0,0,0,0,0,1,0,1,1,0,1,0,1,1,0,1,0,0,0,0,1,0,0,0,0,0,0,0,0,0,0,0,1,1,0,1,0,0,0,1,0,1,1,0,0,0,1,1,0,0,0,0,0,1,0,0,0,0,0,0,0,0,0,1,0,0,1,0,0,0,0,0,0,1,1,1,0,0,0,0,0,1,0,0,0,0,0,0,0,0,0,0,0,0,1,0,1,0,0,1,1,0,0,0,0,0,0,0,0,0,1,0,1,0,1,0,0,0,1,0,1,0,0,0,0,1,0,0,1,0,1,1,1,0,0,1,0,1,0,0,1,0,0,1,1,1,1,1,1,0,1,0,1,0,0,0,1,0,1,1,0,0,0,1,0,0,0,0,0,1,0,1,1,0,0,0,0,1,1,0,0,0,0,0,0,0,1,0,0,0,1,1,0,0,1,0,0,0,1,0,0,0,0,0,0,0,1,1,0,0,0,1,0,0,1,0,0,0,0,0,1,1,1,1,0,0,0,0,0,1,1,0,0,0,0,1,0,0,1,1,0,0,0,0,0,0,0,0,0,0,1,0,0,0,0,0,0,0,0,0,1,1,0,1,0,0,0,0,0,0,1,0,0,0,0,0,0,0,0,0,0,0,0,0,0,1,1,0,0,0,0,1,0,1,0,0,0,1,1,0,0,0,0,0,0,1,0,0,0,0,0,0,0,0,1,1,0,0,0,0,1,0,0,1,0,0,0,0,0,0,0,1,0,1,0,1,1,1,0,0,0,0,0,1,0,0,0,0,0,0,0,1,1,0,0,0,0,1,0,0,0,0,0,0,0,0,0,0,1,0,1,0,0,0,0,0,0,0,0,0,0,0,0,0,1,0,1,1,0,1,0,0,0,1,1,0,0,0,1,1,0,1,0,0,0,1,1,1,0,1,0,1,0,0,1,0,0,1,0,1,0,0,1,0,0,1,0,0,0,0,0,0,0,0,0,0,0,0,0,0,0,0,0,0,1,1,0,0,0,0,0,0,0,0,0,0,0,1,1,0,1,0,0,0,0,0,0,0,0,0,0,0,0,0,0,0,0,0,0,1,0,0,0,1,1,0,0,0,0,0,0,0,0,0,0,1,1,0,0,0,0,0,0,0,0,0,0,1,0,0,0,1,0,0,0,0,0,1,1,1,0,0,0,0,1,0,0,0,0,0,1,0,1,0,0,0,0,0,0,0,1,0,0,0,1,0,1,0,1,0,1,0,0,1,1,0,0,1,0,0,0,0,0,0,0,0,1,0,0,0,0,1,0,0,0,0,0,0,0,0,1,0,0,1,0,1,0,0,1,0,0,0,0,1,0,0,0,0,0,0,0,0,0,1,0,0,0,0,0,1,0,0,0,1,0,1,1,0,0,0,1,0,0,0,0,1,1,1,1,0,0,0,0,0,1,0,0,0,0,1,0,0,0,0,0,0,0,0,0,0,0,0,0,0,0,1,0,1,1,0,0,1,0,0,1,0,0,1,1,0,0,1,1,0,0,0,0,0,0,0,0,0,0,1,0,0,0,0,0,0,0,0,0,0,0,0,0,0,0,0,0,1,1,1,0,1,1,0,1,1,0,1,0,0,0,0,0,0,0,0,1,0,1,0,0,1,0,0,1,1,0,0,1,1,0,0,0,0,0,0,1,0,0,1,1,0,0,0,0,0,0,0,0,0,0,1,1,0,0,0,1,0,0,0,1,0,1,0,1,1,0,0,1,0,1,0,1,0,0,0,0,0,0,0,0,0,0,1,0,0,1,1,1,0,1,0,0,0,0,0,0,1,1,0,0,0,0,1,1,0,0,0,0,0,0,0,0,0,0,1,1,0,0,0,1,0,0,0,0,1,0,1,0,0,0,0,0,0,0,0,0,0,0,1,1,0,0,0,1,1,0,0,1,1,0,0,1,0,0,0,0,0,1,0,0,0,0,1,0,1,1,0,0,0,1,0,0,0,0,0,0,0,1,0,1,0,0,1,0,0,1,1,0,0,0,0,0,0,1,0,1,0,0,0,0,0,1,0,0,0,0,1,0,0,0,0,0,0,0,0,0,0,0,0,0,0,0,0,1,1,0,0,0,0,0,0,1,0,1,0,1,0,1,0,1,0,1,0,0,0,0,0,0,0,1,1,1,1,0,1,1,0,0,0,1,0,0,1,0,0,1,1,0,0,1,0,0,0,0,1,1,0,1,0,0,0,0,0,0,0,0,0,0,0,0,0,1,0,0,0,0,0,0,1,0,0,0,0,1,1,1,0,0,0,0,1,0,0,0,1,0,0,0,1,0,1,1,0,0,0,0,0,0,0,0,0,0,0,0,0,0,0,0,0,0,1,0,0,1,0,0,1,1,0,1,1,0,0,0,0,0,0,0,0,1,0,0,1,0,0,0,0,0,1,0,1,1,1,0,0,1,0,0,0,1,0,1,0,0,1,0,1,1,0,0,0,0,1,0,0,1,0,1,0,0,0,0,1,0,0,0,0,0,0,1,0,1,1,1,0,0,0,1,0,1,0,0,1,0,0,0,0,0,1,0,0,0,1,1,0,0,0,0,0,0,0,1,0,0,0,1,0,0,0,1,0,1,0,0,0,0,0,0,0,0,0,0,1,1,0,1,0,1,1,0,0,1,1,0,0,0,0,0,0,0,0,0,1,1,0,0,0,0,0,0,0,0,0,0,0,0,1,0,1,0,1,0,0,0,0,0,0,0,1,0,0,0,0,0,1,0,0,1,0,0,0,0,0,0,0,0,1,0,0,0,0,0,1,0,0,0,0,0,1,0,0,0,0,1,0,0,0,0,0,0,0,0,1,1,0,0,1,1,0,1,0,0,1,0,0,0,0,0,0,0,1,0,1,0,0,1,0,0,0,0,0,1,1,1,0,0,1,0,0,0,0,0,0,0,0,0,1,1,0,0,0,0,1,0,0,0,0,0,0,1,1,1,0,0,0,0,0,0,1,0,0,0,0,0,1,0,0,1,0,0,1,1,0,0,0,1,0,1,0,1,0,0,0,1,0,1,0,0,1,0,0,0,0,1,1,1,1,0,0,1,1,0,0,1,0,1,1,0,0,0,0,0,1,0,1,1,0,0,0,0,0,1,0,0,1,1,1,0,0,0,0,0,0,0,0,0,0,0,0,0,0,0,0,1,0,0,0,0,0,1,0,1,1,0,0,1,0,0,0,0,0,0,1,1,0,1,0,1,0,0,1,0,0,0,0,0,0,1,1,0,0,0,0,0,0,0,1,0,0,0,0,0,1,0,0,1,0,0,0,1,0,0,0,0,1,0,0,0,0,0,1,0,0,0,0,0,1,0,0,0,0,0,1,0,0,0,0,1,0,0,1,1,0,0,1,1,0,0,0,0,0,0,0,0,0,0,0,0,0,0,1,1,0,0,0,0,0,0,1,1,1,1,1,0,0,0,1,0,1,0,0,0,0,1,0,0,1,0,0,0,0,0,1,1,0,0,0,1,0,0,0,0,1,1,0,0,1,0,1,0,0,0,0,0,0,0,0,1,0,0,1,0,0,0,0,1,0,0,0,1,1,1,1,1,0,0,0,1,0,0,1,0,0,0,0,1,0,1,0,0,1,0,0,0,0,0,0,0,0,0,0,0,1,1,0,0,0,0,0,1,1,0,1,0,0,0,0,0,0,0,0,0,0,0,0,0,0,0,0,0,0,1,0,0,0,1,0,0,0,0,1,1,1,1,0,0,0,1,1,1,0,0,1,1,0,1,0,0,0,1,0,1,0,0,0,1,0,1,0,0,0,0,0,0,0,0,0,0,1,0,0,1,0,0,0,0,1,0,0,1,1,1,0,0,1,0,0,0,0,0,1,0,0,0,0,1,0,1,1,0,0,1,0,0,0,0,1,0,0,1,0,0,0,1,0,0,1,0,0,0,0,1,1,0,1,0,0,0,1,0,0,0,0,1,1,0,0,1,0,1,0,1,0,0,0,1,0,0,1,0,1,0,1,0,1,0,1,0,0,0,0,0,0,0,1,0,0,0,0,1,0,0,0,0,0,0,0,1,1,1,0,0,1,0,0,1,0,0,0,1,0,1,1,1,0,0,0,1,0,0,0,0,0,0,0,0,0,0,0,0,0,1,0,0,0,1,0,1,0,0,1,0,0,1,0,0,0,0,0,0,0,1,1,0,1,0,0,0,0,0,0,0,0,0,0,0,0,0,1,0,0,0,1,1,0,0,0,0,0,1,1,1,0,0,0,1,1,0,1,0,0,0,0,1,0,0,0,0,0,1,0,1,0,0,0,0,0,1,0,0,1,0,1,0,1,0,0,1,0,0,0,0,0,0,0,0,1,0,0,1,0,0,0,1,0,0,0,0,0,1,0,0,1,0,0,1,1,0,0,0,1,0,0,0,0,0,1,0,0,0,0,0,1,0,0,0,0,0,0,1,1,0,0,1,0,0,0,0,0,0,0,0,0,0,0,0,0,0,1,0,0,0,0,0,0,0,1,1,0,0,1,1,0,1,0,0,0,0,0,0,1,1,0,0,1,0,0,1,1,1,1,0,0,1,1,0,0,0,0,0,0,0,0,1,0,0,0,0,0,0,1,0,0,0,0,0,0,0,0,0,0,0,0,0,1,0,0,0,0,0,0,0,1,0,0,0,0,0,1,0,1,0,1,0,0,1,0,0,0,0,0,1,0,0,0,0,0,0,0,0,0,0,0,0,1,0,1,0,0,0,0,0,0,0,1,1,0,0,0,1,0,1,0,0,0,0,0,0,0,0,1,0,0,0,0,0,0,0,0,1,1,1,1,0,0,0,0,0,0,0,0,0,0,0,1,0,1,0,1,0,1,0,0,0,1,0,1,1,0,0,0,0,0,0,0,0,0,0,0,1,1,0,0,1,1,0,0,1,0,0,1,1,0,0,1,0,0,1,1,0,0,1,0,0,0,0,0,0,0,0,0,1,1,0,0,1,1,0,0,1,0,0,0,0,0,0,0,0,0,0,1,0,0,0,1,1,0,0,0,0,0,0,0,1,0,0,1,0,0,1,1,0,0,0,0,0,0,0,0,0,1,0,1,0,0,0,0,1,1,0,0,0,1,0,0,0,0,0,0,0,0,0,0,0,0,0,0,1,0,0,0,0,0,0,0,0,0,0,0,1,0,0,1,0,1,0,0,0,0,0,0,1,0,1,0,0,0,0,0,0,1,0,0,0,0,0,1,0,0,0,1,1,0,0,0,0,0,0,0,0,1,0,0,0,0,0,0,0,0,0,0,0,0,1,0,1,0,1,0,1,0,1,0,0,1,0,1,0,0,1,1,0,0,1,1,1,1,0,1,0,0,1,0,0,0,1,0,0,0,1,1,0,0,0,0,0,1,0,0,0,0,0,0,1,0,0,0,1,0,0,1,1,0,0,0,0,0,1,0,0,0,1,0,0,0,1,1,0,1,0,0,1,0,0,1,0,0,0,1,1,0,0,1,1,1,1,0,1,0,0,1,0,1,0,1,0,0,0,0,0,0,0,1,1,0,0,0,0,1,1,0,0,0,1,0,0,0,0,0,0,0,0,0,0,0,0,0,0,0,1,0,0,0,0,0,0,0,0,1,0,0,1,0,0,0,0,0,0,0,0,0,0,0,1,0,1,0,0,0,0,0,1,0,0,0,0,1,0,0,0,0,0,0,1,1,0,0,0,0,0,1,0,1,1,0,0,1,0,0,0,0,0,1,0,0,0,0,0,0,1,0,0,1,1,0,0,0,0,1,0,1,0,1,0,1,1,0,0,1,1,0,1,0,0,1,0,0,0,1,0,0,0,0,0,0,1,0,0,0,1,0,0,1,0,0,0,0,0,0,0,0,0,0,0,1,0,1,0,1,0,1,0,0,0,0,0,1,0,0,0,1,0,0,0,0,0,0,1,0,0,1,1,0,1,0,0,0,1,0,1,0,0,0,0,1,0,0,0,0,0,1,0,0,1,0,0,0,0,0,0,0,0,0,1,0,0,0,1,0,0,1,0,0,1,0,0,0,0,1,0,0,0,0,0,0,0,0,0,1,1,1,0,1,1,0,0,0,1,0,0,1,0,0,1,1,0,0,0,0,0,0,0,1,0,1,0,1,0,0,0,1,1,0,1,0,0,0,1,0,0,0,1,0,0,0,0,0,1,0,0,0,0,0,1,1,1,0,0,0,0,0,0,0,0,0,0,0,0,0,0,1,0,0,0,1,1,1,0,1,0,0,0,0,1,0,1,0,1,0,0,0,0,0,0,0,0,0,0,0,0,1,0,0,0,0,0,0,0,0,1,0,0,1,1,0,0,0,1,1,0,1,0,0,0,1,1,1,0,0,1,1,0,0,0,1,0,1,0,0,0,0,0,0,1,0,0,1,0,0,0,0,0,0,1,1,1,0,1,0,0,0,1,1,0,1,1,0,0,0,0,0,0,0,1,0,0,0,0,0,1,0,0,0,1,0,0,1,0,0,0,0,1,1,0,1,0,0,0,1,0,0,0,0,0,1,1,0,0,0,0,0,0,0,0,1,0,1,0,0,0,1,1,0,0,0,0,1,0,0,0,0,0,0,0,0,1,0,0,0,1,0,0,0,0,0,0,1,1,1,0,0,0,0,1,0,0,0,0,0,1,1,0,0,0,1,0,0,1,0,0,1,0,1,0,1,0,0,1,0,1,1,0,0,0,0,0,0,0,0,0,0,0,0,0,0,0,0,0,1,0,0,0,0,0,0,0,0,0,1,0,0,1,0,0,0,0,0,1,0,1,0,1,0,0,1,0,0,0,0,0,0,0,0,0,1,0,0,0,1,0,0,0,0,0,0,0,0,0,1,0,1,1,0,0,0,0,0,0,0,0,0,0,0,0,1,0,1,0,1,0,0,0,0,0,0,0,0,1,0,0,0,1,1,0,0,1,0,0,0,0,1,1,1,0,0,0,0,0,0,0,0,0,1,0,1,0,0,1,0,1,0,0,0,0,1,0,0,1,0,1,0,0,0,0,0,0,0,1,1,1,0,0,0,1,0,0,0,0,1,1,0,1,0,1,0,0,0,0,0,0,0,0,1,0,0,1,0,1,1,0,0,0,0,0,1,1,0,1,0,0,0,0,1,0,0,0,0,0,0,1,0,0,0,1,0,0,0,1,0,0,1,0,0,1,1,0,0,0,0,1,1,1,0,1,0,1,0,1,1,0,1,0,1,0,0,0,0,0,0,0,0,0,0,0,1,0,0,0,1,0,0,0,0,0,0,0,0,1,0,0,0,0,1,0,1,0,1,0,0,0,0,1,1,1,0,1,0,0,0,0,1,0,0,0,1,0,0,0,1,0,0,1,0,0,0,0,1,0,0,0,0,1,0,0,0,0,0,0,1,1,0,0,0,0,1,1,1,0,0,0,0,0,0,0,0,1,1,1,0,1,1,0,1,0,1,0,0,0,1,0,0,0,0,0,0,1,0,1,0,0,0,1,0,0,0,0,0,0,0,0,0,0,0,0,0,1,0,1,1,0,0,1,0,1,0,1,0,0,0,1,0,0,1,0,0,0,0,0,0,0,0,0,0,1,0,0,0,1,0,0,1,0,0,1,0,1,0,1,1,1,0,0,1,1,0,1,0,0,0,0,0,1,0,1,1,0,1,0,0,0,0,1,1,0,0,0,0,1,0,0,0,0,0,1,1,0,0,0,0,0,1,1,1,0,0,1,0,0,1,0,1,0,0,1,1,0,1,0,0,0,1,0,1,0,0,0,0,0,0,0,0,1,0,1,0,0,0,1,0,0,0,0,0,0,1,1,1,0,1,0,1,0,0,0,0,0,0,0,0,1,1,1,0,0,0,1,0,0,0,1,0,0,0,0,1,0,0,1,1,0,1,0,0,0,1,0,1,0,0,0,1,0,0,0,0,0,0,0,0,0,1,0,1,0,0,0,0,1,0,0,0,1,0,0,0,0,0,0,0,0,1,0,0,0,0,1,0,0,0,0,0,0,0,0,0,0,0,0,0,1,0,0,1,1,0,0,0,1,0,0,1,0,0,0,0,1,0,0,0,1,0,0,1,0,0,0,1,0,1,0,0,1,0,1,0,0,0,0,0,0,0,1,1,0,0,0,1,1,0,0,0,0,0,0,0,0,0,1,0,0,0,0,1,0,1,0,0,0,0,1,0,0,1,0,0,1,0,0,0,0,0,0,1,1,1,0,1,0,1,1,0,0,0,0,0,0,0,0,1,0,0,0,1,0,0,0,0,0,1,0,0,0,0,1,0,1,0,0,1,0,0,0,0,0,0,0,0,0,0,0,0,0,0,0,0,0,0,1,1,1,1,0,0,1,0,0,1,1,0,1,1,0,0,0,0,0,1,1,0,0,0,0,0,0,0,1,1,0,0,0,1,0,0,1,0,0,0,0,0,0,1,0,0,0,0,1,0,1,1,0,1,0,0,0,0,0,0,1,0,0,0,0,1,0,0,1,0,0,0,1,0,0,0,0,0,0,1,0,0,0,1,0,1,1,0,1,0,0,1,1,0,0,0,0,0,0,1,0,0,0,0,0,1,0,0,0,0,0,0,0,0,0,1,1,0,0,0,0,0,0,0,0,0,0,0,1,0,0,1,0,1,1,0,1,0,0,0,0,0,0,0,1,0,0,0,0,1,1,0,0,0,0,0,0,0,0,0,0,0,0,0,0,0,0,0,1,1,0,0,0,1,0,0,0,1,0,0,0,1,1,0,0,1,0,0,0,1,1,0,0,1,0,1,0,0,0,0,0,0,0,1,0,1,1,0,0,1,0,0,1,1,0,1,0,0,0,0,0,1,0,0,0,1,0,0,0,0,1,0,1,0,1,0,0,1,0,1,0,1,0,0,1,0,0,1,0,0,0,0,1,0,0,0,1,0,0,0,1,1,0,0,0,1,0,0,1,1,0,0,0,0,0,0,0,0,0,0,0,1,0,0,0,0,0,0,1,1,0,0,0,0,1,0,0,0,1,0,0,0,0,0,1,0,0,1,0,1,1,0,0,0,1,0,0,0,0,0,0,1,0,1,1,0,0,0,0,0,1,1,0,0,0,1,0,0,1,1,0,0,1,0,0,0,0,0,1,0,0,0,0,0,1,0,1,0,0,1,0,1,0,0,0,0,1,0,0,0,0,0,1,0,0,1,0,0,0,0,1,0,1,0,1,0,0,0,0,1,0,1,1,0,0,0,0,1,0,0,1,0,0,0,0,0,1,0,0,1,0,0,1,0,0,0,0,0,1,0,0,0,0,1,0,1,0,0,0,0,0,0,0,0,1,0,0,0,0,0,1,0,0,1,0,0,0,0,0,1,0,0,0,1,0,0,0,0,1,0,0,0,1,0,1,0,0,0,0,0,0,0,0,0,0,1,0,0,0,0,0,1,0,0,1,0,0,0,1,0,1,1,0,1,0,1,1,0,1,0,0,0,1,0,1,1,1,0,0,0,0,1,0,1,0,1,0,1,0,1,1,0,1,0,0,0,0,1,1,1,0,0,0,1,0,1,1,0,0,1,1,0,1,1,0,0,0,1,0,0,0,1,1,0,0,0,0,0,0,0,0,0,0,0,0,0,0,0,0,0,0,0,0,0,0,0,0,1,1,0,0,0,0,1,0,1,0,0,0,0,1,1,1,1,0,0,1,0,0,0,1,0,0,0,1,0,1,1,1,1,0,0,0,0,0,1,1,1,0,0,0,0,0,1,0,0,0,0,0,0,0,0,0,0,0,1,0,0,0,1,0,1,0,0,0,1,0,0,0,0,0,0,0,0,0,0,1,1,0,0,0,1,0,0,0,0,0,0,0,0,0,0,0,0,0,0,0,0,0,1,0,0,0,0,0,0,0,1,1,1,0,0,0,0,0,1,0,1,0,0,0,0,0,0,1,0,0,0,0,0,1,1,0,0,0,1,1,1,0,0,0,0,0,0,0,0,1,0,1,0,1,0,0,0,0,0,0,0,1,1,0,0,0,0,0,1,0,0,1,1,0,0,1,0,1,0,0,0,1,0,0,0,1,0,0,0,0,0,0,0,0,1,0,0,0,1,0,0,1,0,1,1,0,1,0,0,0,0,0,0,1,0,0,0,1,0,1,1,0,0,0,1,0,0,1,0,0,0,0,0,0,1,0,0,0,0,1,0,1,1,1,0,0,1,0,1,1,0,0,0,0,0,0,0,1,1,0,0,0,0,1,1,0,0,0,0,0,1,1,1,0,0,1,0,0,0,0,0,1,1,0,0,0,0,0,1,0,0,0,1,0,0,0,0,0,1,0,1,0,0,0,1,0,0,1,0,0,1,0,0,0,0,1,0,0,0,0,1,1,0,0,0,0,0,0,0,1,1,0,0,1,1,1,1,1,1,0,0,0,0,0,0,0,0,0,1,0,0,0,0,1,0,1,0,0,1,0,0,0,1,0,0,0,1,1,1,1,1,0,0,0,0,0,0,1,0,0,1,0,0,0,0,1,0,0,0,0,1,0,1,0,0,0,0,1,0],\"xaxis\":\"x\",\"yaxis\":\"y\",\"type\":\"histogram\"}],                        {\"template\":{\"data\":{\"histogram2dcontour\":[{\"type\":\"histogram2dcontour\",\"colorbar\":{\"outlinewidth\":0,\"ticks\":\"\"},\"colorscale\":[[0.0,\"#0d0887\"],[0.1111111111111111,\"#46039f\"],[0.2222222222222222,\"#7201a8\"],[0.3333333333333333,\"#9c179e\"],[0.4444444444444444,\"#bd3786\"],[0.5555555555555556,\"#d8576b\"],[0.6666666666666666,\"#ed7953\"],[0.7777777777777778,\"#fb9f3a\"],[0.8888888888888888,\"#fdca26\"],[1.0,\"#f0f921\"]]}],\"choropleth\":[{\"type\":\"choropleth\",\"colorbar\":{\"outlinewidth\":0,\"ticks\":\"\"}}],\"histogram2d\":[{\"type\":\"histogram2d\",\"colorbar\":{\"outlinewidth\":0,\"ticks\":\"\"},\"colorscale\":[[0.0,\"#0d0887\"],[0.1111111111111111,\"#46039f\"],[0.2222222222222222,\"#7201a8\"],[0.3333333333333333,\"#9c179e\"],[0.4444444444444444,\"#bd3786\"],[0.5555555555555556,\"#d8576b\"],[0.6666666666666666,\"#ed7953\"],[0.7777777777777778,\"#fb9f3a\"],[0.8888888888888888,\"#fdca26\"],[1.0,\"#f0f921\"]]}],\"heatmap\":[{\"type\":\"heatmap\",\"colorbar\":{\"outlinewidth\":0,\"ticks\":\"\"},\"colorscale\":[[0.0,\"#0d0887\"],[0.1111111111111111,\"#46039f\"],[0.2222222222222222,\"#7201a8\"],[0.3333333333333333,\"#9c179e\"],[0.4444444444444444,\"#bd3786\"],[0.5555555555555556,\"#d8576b\"],[0.6666666666666666,\"#ed7953\"],[0.7777777777777778,\"#fb9f3a\"],[0.8888888888888888,\"#fdca26\"],[1.0,\"#f0f921\"]]}],\"heatmapgl\":[{\"type\":\"heatmapgl\",\"colorbar\":{\"outlinewidth\":0,\"ticks\":\"\"},\"colorscale\":[[0.0,\"#0d0887\"],[0.1111111111111111,\"#46039f\"],[0.2222222222222222,\"#7201a8\"],[0.3333333333333333,\"#9c179e\"],[0.4444444444444444,\"#bd3786\"],[0.5555555555555556,\"#d8576b\"],[0.6666666666666666,\"#ed7953\"],[0.7777777777777778,\"#fb9f3a\"],[0.8888888888888888,\"#fdca26\"],[1.0,\"#f0f921\"]]}],\"contourcarpet\":[{\"type\":\"contourcarpet\",\"colorbar\":{\"outlinewidth\":0,\"ticks\":\"\"}}],\"contour\":[{\"type\":\"contour\",\"colorbar\":{\"outlinewidth\":0,\"ticks\":\"\"},\"colorscale\":[[0.0,\"#0d0887\"],[0.1111111111111111,\"#46039f\"],[0.2222222222222222,\"#7201a8\"],[0.3333333333333333,\"#9c179e\"],[0.4444444444444444,\"#bd3786\"],[0.5555555555555556,\"#d8576b\"],[0.6666666666666666,\"#ed7953\"],[0.7777777777777778,\"#fb9f3a\"],[0.8888888888888888,\"#fdca26\"],[1.0,\"#f0f921\"]]}],\"surface\":[{\"type\":\"surface\",\"colorbar\":{\"outlinewidth\":0,\"ticks\":\"\"},\"colorscale\":[[0.0,\"#0d0887\"],[0.1111111111111111,\"#46039f\"],[0.2222222222222222,\"#7201a8\"],[0.3333333333333333,\"#9c179e\"],[0.4444444444444444,\"#bd3786\"],[0.5555555555555556,\"#d8576b\"],[0.6666666666666666,\"#ed7953\"],[0.7777777777777778,\"#fb9f3a\"],[0.8888888888888888,\"#fdca26\"],[1.0,\"#f0f921\"]]}],\"mesh3d\":[{\"type\":\"mesh3d\",\"colorbar\":{\"outlinewidth\":0,\"ticks\":\"\"}}],\"scatter\":[{\"fillpattern\":{\"fillmode\":\"overlay\",\"size\":10,\"solidity\":0.2},\"type\":\"scatter\"}],\"parcoords\":[{\"type\":\"parcoords\",\"line\":{\"colorbar\":{\"outlinewidth\":0,\"ticks\":\"\"}}}],\"scatterpolargl\":[{\"type\":\"scatterpolargl\",\"marker\":{\"colorbar\":{\"outlinewidth\":0,\"ticks\":\"\"}}}],\"bar\":[{\"error_x\":{\"color\":\"#2a3f5f\"},\"error_y\":{\"color\":\"#2a3f5f\"},\"marker\":{\"line\":{\"color\":\"#E5ECF6\",\"width\":0.5},\"pattern\":{\"fillmode\":\"overlay\",\"size\":10,\"solidity\":0.2}},\"type\":\"bar\"}],\"scattergeo\":[{\"type\":\"scattergeo\",\"marker\":{\"colorbar\":{\"outlinewidth\":0,\"ticks\":\"\"}}}],\"scatterpolar\":[{\"type\":\"scatterpolar\",\"marker\":{\"colorbar\":{\"outlinewidth\":0,\"ticks\":\"\"}}}],\"histogram\":[{\"marker\":{\"pattern\":{\"fillmode\":\"overlay\",\"size\":10,\"solidity\":0.2}},\"type\":\"histogram\"}],\"scattergl\":[{\"type\":\"scattergl\",\"marker\":{\"colorbar\":{\"outlinewidth\":0,\"ticks\":\"\"}}}],\"scatter3d\":[{\"type\":\"scatter3d\",\"line\":{\"colorbar\":{\"outlinewidth\":0,\"ticks\":\"\"}},\"marker\":{\"colorbar\":{\"outlinewidth\":0,\"ticks\":\"\"}}}],\"scattermapbox\":[{\"type\":\"scattermapbox\",\"marker\":{\"colorbar\":{\"outlinewidth\":0,\"ticks\":\"\"}}}],\"scatterternary\":[{\"type\":\"scatterternary\",\"marker\":{\"colorbar\":{\"outlinewidth\":0,\"ticks\":\"\"}}}],\"scattercarpet\":[{\"type\":\"scattercarpet\",\"marker\":{\"colorbar\":{\"outlinewidth\":0,\"ticks\":\"\"}}}],\"carpet\":[{\"aaxis\":{\"endlinecolor\":\"#2a3f5f\",\"gridcolor\":\"white\",\"linecolor\":\"white\",\"minorgridcolor\":\"white\",\"startlinecolor\":\"#2a3f5f\"},\"baxis\":{\"endlinecolor\":\"#2a3f5f\",\"gridcolor\":\"white\",\"linecolor\":\"white\",\"minorgridcolor\":\"white\",\"startlinecolor\":\"#2a3f5f\"},\"type\":\"carpet\"}],\"table\":[{\"cells\":{\"fill\":{\"color\":\"#EBF0F8\"},\"line\":{\"color\":\"white\"}},\"header\":{\"fill\":{\"color\":\"#C8D4E3\"},\"line\":{\"color\":\"white\"}},\"type\":\"table\"}],\"barpolar\":[{\"marker\":{\"line\":{\"color\":\"#E5ECF6\",\"width\":0.5},\"pattern\":{\"fillmode\":\"overlay\",\"size\":10,\"solidity\":0.2}},\"type\":\"barpolar\"}],\"pie\":[{\"automargin\":true,\"type\":\"pie\"}]},\"layout\":{\"autotypenumbers\":\"strict\",\"colorway\":[\"#636efa\",\"#EF553B\",\"#00cc96\",\"#ab63fa\",\"#FFA15A\",\"#19d3f3\",\"#FF6692\",\"#B6E880\",\"#FF97FF\",\"#FECB52\"],\"font\":{\"color\":\"#2a3f5f\"},\"hovermode\":\"closest\",\"hoverlabel\":{\"align\":\"left\"},\"paper_bgcolor\":\"white\",\"plot_bgcolor\":\"#E5ECF6\",\"polar\":{\"bgcolor\":\"#E5ECF6\",\"angularaxis\":{\"gridcolor\":\"white\",\"linecolor\":\"white\",\"ticks\":\"\"},\"radialaxis\":{\"gridcolor\":\"white\",\"linecolor\":\"white\",\"ticks\":\"\"}},\"ternary\":{\"bgcolor\":\"#E5ECF6\",\"aaxis\":{\"gridcolor\":\"white\",\"linecolor\":\"white\",\"ticks\":\"\"},\"baxis\":{\"gridcolor\":\"white\",\"linecolor\":\"white\",\"ticks\":\"\"},\"caxis\":{\"gridcolor\":\"white\",\"linecolor\":\"white\",\"ticks\":\"\"}},\"coloraxis\":{\"colorbar\":{\"outlinewidth\":0,\"ticks\":\"\"}},\"colorscale\":{\"sequential\":[[0.0,\"#0d0887\"],[0.1111111111111111,\"#46039f\"],[0.2222222222222222,\"#7201a8\"],[0.3333333333333333,\"#9c179e\"],[0.4444444444444444,\"#bd3786\"],[0.5555555555555556,\"#d8576b\"],[0.6666666666666666,\"#ed7953\"],[0.7777777777777778,\"#fb9f3a\"],[0.8888888888888888,\"#fdca26\"],[1.0,\"#f0f921\"]],\"sequentialminus\":[[0.0,\"#0d0887\"],[0.1111111111111111,\"#46039f\"],[0.2222222222222222,\"#7201a8\"],[0.3333333333333333,\"#9c179e\"],[0.4444444444444444,\"#bd3786\"],[0.5555555555555556,\"#d8576b\"],[0.6666666666666666,\"#ed7953\"],[0.7777777777777778,\"#fb9f3a\"],[0.8888888888888888,\"#fdca26\"],[1.0,\"#f0f921\"]],\"diverging\":[[0,\"#8e0152\"],[0.1,\"#c51b7d\"],[0.2,\"#de77ae\"],[0.3,\"#f1b6da\"],[0.4,\"#fde0ef\"],[0.5,\"#f7f7f7\"],[0.6,\"#e6f5d0\"],[0.7,\"#b8e186\"],[0.8,\"#7fbc41\"],[0.9,\"#4d9221\"],[1,\"#276419\"]]},\"xaxis\":{\"gridcolor\":\"white\",\"linecolor\":\"white\",\"ticks\":\"\",\"title\":{\"standoff\":15},\"zerolinecolor\":\"white\",\"automargin\":true,\"zerolinewidth\":2},\"yaxis\":{\"gridcolor\":\"white\",\"linecolor\":\"white\",\"ticks\":\"\",\"title\":{\"standoff\":15},\"zerolinecolor\":\"white\",\"automargin\":true,\"zerolinewidth\":2},\"scene\":{\"xaxis\":{\"backgroundcolor\":\"#E5ECF6\",\"gridcolor\":\"white\",\"linecolor\":\"white\",\"showbackground\":true,\"ticks\":\"\",\"zerolinecolor\":\"white\",\"gridwidth\":2},\"yaxis\":{\"backgroundcolor\":\"#E5ECF6\",\"gridcolor\":\"white\",\"linecolor\":\"white\",\"showbackground\":true,\"ticks\":\"\",\"zerolinecolor\":\"white\",\"gridwidth\":2},\"zaxis\":{\"backgroundcolor\":\"#E5ECF6\",\"gridcolor\":\"white\",\"linecolor\":\"white\",\"showbackground\":true,\"ticks\":\"\",\"zerolinecolor\":\"white\",\"gridwidth\":2}},\"shapedefaults\":{\"line\":{\"color\":\"#2a3f5f\"}},\"annotationdefaults\":{\"arrowcolor\":\"#2a3f5f\",\"arrowhead\":0,\"arrowwidth\":1},\"geo\":{\"bgcolor\":\"white\",\"landcolor\":\"#E5ECF6\",\"subunitcolor\":\"white\",\"showland\":true,\"showlakes\":true,\"lakecolor\":\"white\"},\"title\":{\"x\":0.05},\"mapbox\":{\"style\":\"light\"}}},\"xaxis\":{\"anchor\":\"y\",\"domain\":[0.0,1.0],\"title\":{\"text\":\"Churn\"}},\"yaxis\":{\"anchor\":\"x\",\"domain\":[0.0,1.0],\"title\":{\"text\":\"count\"}},\"legend\":{\"title\":{\"text\":\"PhoneService\"},\"tracegroupgap\":0},\"title\":{\"text\":\"\\u003cb\\u003eChrun distribution w.r.t. Phone Service\\u003c\\u002fb\\u003e\"},\"barmode\":\"relative\",\"width\":700,\"height\":500,\"bargap\":0.1},                        {\"responsive\": true}                    ).then(function(){\n",
              "                            \n",
              "var gd = document.getElementById('3092544e-871d-43ed-837e-d6bca93dca6c');\n",
              "var x = new MutationObserver(function (mutations, observer) {{\n",
              "        var display = window.getComputedStyle(gd).display;\n",
              "        if (!display || display === 'none') {{\n",
              "            console.log([gd, 'removed!']);\n",
              "            Plotly.purge(gd);\n",
              "            observer.disconnect();\n",
              "        }}\n",
              "}});\n",
              "\n",
              "// Listen for the removal of the full notebook cells\n",
              "var notebookContainer = gd.closest('#notebook-container');\n",
              "if (notebookContainer) {{\n",
              "    x.observe(notebookContainer, {childList: true});\n",
              "}}\n",
              "\n",
              "// Listen for the clearing of the current output cell\n",
              "var outputEl = gd.closest('.output');\n",
              "if (outputEl) {{\n",
              "    x.observe(outputEl, {childList: true});\n",
              "}}\n",
              "\n",
              "                        })                };                            </script>        </div>\n",
              "</body>\n",
              "</html>"
            ]
          },
          "metadata": {}
        }
      ],
      "source": [
        "color_map = {\"Yes\": '#00CC96', \"No\": '#B6E880'}\n",
        "fig = px.histogram(data, x=\"Churn\", color=\"PhoneService\", title=\"<b>Chrun distribution w.r.t. Phone Service</b>\", color_discrete_map=color_map)\n",
        "fig.update_layout(width=700, height=500, bargap=0.1)\n",
        "fig.show()"
      ]
    },
    {
      "cell_type": "markdown",
      "source": [
        "* **Very small fraction of customers don't have a phone service and out of that, 1/3rd Customers are more likely to churn**."
      ],
      "metadata": {
        "id": "Cr8OFqghed5u"
      }
    },
    {
      "cell_type": "code",
      "execution_count": null,
      "metadata": {
        "id": "c0aXuSNsNrV2"
      },
      "outputs": [],
      "source": [
        "data.drop(columns=[\"PhoneService\", \"StreamingTV\"], inplace=True)"
      ]
    },
    {
      "cell_type": "code",
      "execution_count": null,
      "metadata": {
        "colab": {
          "base_uri": "https://localhost:8080/",
          "height": 351
        },
        "id": "D8NEUjy7Mfqp",
        "outputId": "2682f1b6-405b-4ef3-e938-34de9a170178"
      },
      "outputs": [
        {
          "output_type": "execute_result",
          "data": {
            "text/plain": [
              "   gender  SeniorCitizen  Partner  Dependents  tenure  MultipleLines  \\\n",
              "0       0              0        1           0       1              1   \n",
              "1       1              0        0           0      34              0   \n",
              "2       1              0        0           0       2              0   \n",
              "3       1              0        0           0      45              1   \n",
              "4       0              0        0           0       2              0   \n",
              "5       0              0        0           0       8              2   \n",
              "6       1              0        0           1      22              2   \n",
              "7       0              0        0           0      10              1   \n",
              "8       0              0        1           0      28              2   \n",
              "\n",
              "   InternetService  OnlineSecurity  OnlineBackup  DeviceProtection  \\\n",
              "0                0               0             2                 0   \n",
              "1                0               2             0                 2   \n",
              "2                0               2             2                 0   \n",
              "3                0               2             0                 2   \n",
              "4                1               0             0                 0   \n",
              "5                1               0             0                 2   \n",
              "6                1               0             2                 0   \n",
              "7                0               2             0                 0   \n",
              "8                1               0             0                 2   \n",
              "\n",
              "   TechSupport  StreamingMovies  Contract  PaperlessBilling  PaymentMethod  \\\n",
              "0            0                0         0                 1              2   \n",
              "1            0                0         1                 0              3   \n",
              "2            0                0         0                 1              3   \n",
              "3            2                0         1                 0              0   \n",
              "4            0                0         0                 1              2   \n",
              "5            0                2         0                 1              2   \n",
              "6            0                0         0                 1              1   \n",
              "7            0                0         0                 0              3   \n",
              "8            2                2         0                 1              2   \n",
              "\n",
              "   MonthlyCharges  TotalCharges  Churn  \n",
              "0           29.85          2505      0  \n",
              "1           56.95          1466      0  \n",
              "2           53.85           157      1  \n",
              "3           42.30          1400      0  \n",
              "4           70.70           925      1  \n",
              "5           99.65          6104      1  \n",
              "6           89.10          1550      0  \n",
              "7           29.75          2609      0  \n",
              "8          104.80          2646      1  "
            ],
            "text/html": [
              "\n",
              "  <div id=\"df-d6806cc0-f200-4a5d-be03-0934e8c24738\" class=\"colab-df-container\">\n",
              "    <div>\n",
              "<style scoped>\n",
              "    .dataframe tbody tr th:only-of-type {\n",
              "        vertical-align: middle;\n",
              "    }\n",
              "\n",
              "    .dataframe tbody tr th {\n",
              "        vertical-align: top;\n",
              "    }\n",
              "\n",
              "    .dataframe thead th {\n",
              "        text-align: right;\n",
              "    }\n",
              "</style>\n",
              "<table border=\"1\" class=\"dataframe\">\n",
              "  <thead>\n",
              "    <tr style=\"text-align: right;\">\n",
              "      <th></th>\n",
              "      <th>gender</th>\n",
              "      <th>SeniorCitizen</th>\n",
              "      <th>Partner</th>\n",
              "      <th>Dependents</th>\n",
              "      <th>tenure</th>\n",
              "      <th>MultipleLines</th>\n",
              "      <th>InternetService</th>\n",
              "      <th>OnlineSecurity</th>\n",
              "      <th>OnlineBackup</th>\n",
              "      <th>DeviceProtection</th>\n",
              "      <th>TechSupport</th>\n",
              "      <th>StreamingMovies</th>\n",
              "      <th>Contract</th>\n",
              "      <th>PaperlessBilling</th>\n",
              "      <th>PaymentMethod</th>\n",
              "      <th>MonthlyCharges</th>\n",
              "      <th>TotalCharges</th>\n",
              "      <th>Churn</th>\n",
              "    </tr>\n",
              "  </thead>\n",
              "  <tbody>\n",
              "    <tr>\n",
              "      <th>0</th>\n",
              "      <td>0</td>\n",
              "      <td>0</td>\n",
              "      <td>1</td>\n",
              "      <td>0</td>\n",
              "      <td>1</td>\n",
              "      <td>1</td>\n",
              "      <td>0</td>\n",
              "      <td>0</td>\n",
              "      <td>2</td>\n",
              "      <td>0</td>\n",
              "      <td>0</td>\n",
              "      <td>0</td>\n",
              "      <td>0</td>\n",
              "      <td>1</td>\n",
              "      <td>2</td>\n",
              "      <td>29.85</td>\n",
              "      <td>2505</td>\n",
              "      <td>0</td>\n",
              "    </tr>\n",
              "    <tr>\n",
              "      <th>1</th>\n",
              "      <td>1</td>\n",
              "      <td>0</td>\n",
              "      <td>0</td>\n",
              "      <td>0</td>\n",
              "      <td>34</td>\n",
              "      <td>0</td>\n",
              "      <td>0</td>\n",
              "      <td>2</td>\n",
              "      <td>0</td>\n",
              "      <td>2</td>\n",
              "      <td>0</td>\n",
              "      <td>0</td>\n",
              "      <td>1</td>\n",
              "      <td>0</td>\n",
              "      <td>3</td>\n",
              "      <td>56.95</td>\n",
              "      <td>1466</td>\n",
              "      <td>0</td>\n",
              "    </tr>\n",
              "    <tr>\n",
              "      <th>2</th>\n",
              "      <td>1</td>\n",
              "      <td>0</td>\n",
              "      <td>0</td>\n",
              "      <td>0</td>\n",
              "      <td>2</td>\n",
              "      <td>0</td>\n",
              "      <td>0</td>\n",
              "      <td>2</td>\n",
              "      <td>2</td>\n",
              "      <td>0</td>\n",
              "      <td>0</td>\n",
              "      <td>0</td>\n",
              "      <td>0</td>\n",
              "      <td>1</td>\n",
              "      <td>3</td>\n",
              "      <td>53.85</td>\n",
              "      <td>157</td>\n",
              "      <td>1</td>\n",
              "    </tr>\n",
              "    <tr>\n",
              "      <th>3</th>\n",
              "      <td>1</td>\n",
              "      <td>0</td>\n",
              "      <td>0</td>\n",
              "      <td>0</td>\n",
              "      <td>45</td>\n",
              "      <td>1</td>\n",
              "      <td>0</td>\n",
              "      <td>2</td>\n",
              "      <td>0</td>\n",
              "      <td>2</td>\n",
              "      <td>2</td>\n",
              "      <td>0</td>\n",
              "      <td>1</td>\n",
              "      <td>0</td>\n",
              "      <td>0</td>\n",
              "      <td>42.30</td>\n",
              "      <td>1400</td>\n",
              "      <td>0</td>\n",
              "    </tr>\n",
              "    <tr>\n",
              "      <th>4</th>\n",
              "      <td>0</td>\n",
              "      <td>0</td>\n",
              "      <td>0</td>\n",
              "      <td>0</td>\n",
              "      <td>2</td>\n",
              "      <td>0</td>\n",
              "      <td>1</td>\n",
              "      <td>0</td>\n",
              "      <td>0</td>\n",
              "      <td>0</td>\n",
              "      <td>0</td>\n",
              "      <td>0</td>\n",
              "      <td>0</td>\n",
              "      <td>1</td>\n",
              "      <td>2</td>\n",
              "      <td>70.70</td>\n",
              "      <td>925</td>\n",
              "      <td>1</td>\n",
              "    </tr>\n",
              "    <tr>\n",
              "      <th>5</th>\n",
              "      <td>0</td>\n",
              "      <td>0</td>\n",
              "      <td>0</td>\n",
              "      <td>0</td>\n",
              "      <td>8</td>\n",
              "      <td>2</td>\n",
              "      <td>1</td>\n",
              "      <td>0</td>\n",
              "      <td>0</td>\n",
              "      <td>2</td>\n",
              "      <td>0</td>\n",
              "      <td>2</td>\n",
              "      <td>0</td>\n",
              "      <td>1</td>\n",
              "      <td>2</td>\n",
              "      <td>99.65</td>\n",
              "      <td>6104</td>\n",
              "      <td>1</td>\n",
              "    </tr>\n",
              "    <tr>\n",
              "      <th>6</th>\n",
              "      <td>1</td>\n",
              "      <td>0</td>\n",
              "      <td>0</td>\n",
              "      <td>1</td>\n",
              "      <td>22</td>\n",
              "      <td>2</td>\n",
              "      <td>1</td>\n",
              "      <td>0</td>\n",
              "      <td>2</td>\n",
              "      <td>0</td>\n",
              "      <td>0</td>\n",
              "      <td>0</td>\n",
              "      <td>0</td>\n",
              "      <td>1</td>\n",
              "      <td>1</td>\n",
              "      <td>89.10</td>\n",
              "      <td>1550</td>\n",
              "      <td>0</td>\n",
              "    </tr>\n",
              "    <tr>\n",
              "      <th>7</th>\n",
              "      <td>0</td>\n",
              "      <td>0</td>\n",
              "      <td>0</td>\n",
              "      <td>0</td>\n",
              "      <td>10</td>\n",
              "      <td>1</td>\n",
              "      <td>0</td>\n",
              "      <td>2</td>\n",
              "      <td>0</td>\n",
              "      <td>0</td>\n",
              "      <td>0</td>\n",
              "      <td>0</td>\n",
              "      <td>0</td>\n",
              "      <td>0</td>\n",
              "      <td>3</td>\n",
              "      <td>29.75</td>\n",
              "      <td>2609</td>\n",
              "      <td>0</td>\n",
              "    </tr>\n",
              "    <tr>\n",
              "      <th>8</th>\n",
              "      <td>0</td>\n",
              "      <td>0</td>\n",
              "      <td>1</td>\n",
              "      <td>0</td>\n",
              "      <td>28</td>\n",
              "      <td>2</td>\n",
              "      <td>1</td>\n",
              "      <td>0</td>\n",
              "      <td>0</td>\n",
              "      <td>2</td>\n",
              "      <td>2</td>\n",
              "      <td>2</td>\n",
              "      <td>0</td>\n",
              "      <td>1</td>\n",
              "      <td>2</td>\n",
              "      <td>104.80</td>\n",
              "      <td>2646</td>\n",
              "      <td>1</td>\n",
              "    </tr>\n",
              "  </tbody>\n",
              "</table>\n",
              "</div>\n",
              "    <div class=\"colab-df-buttons\">\n",
              "\n",
              "  <div class=\"colab-df-container\">\n",
              "    <button class=\"colab-df-convert\" onclick=\"convertToInteractive('df-d6806cc0-f200-4a5d-be03-0934e8c24738')\"\n",
              "            title=\"Convert this dataframe to an interactive table.\"\n",
              "            style=\"display:none;\">\n",
              "\n",
              "  <svg xmlns=\"http://www.w3.org/2000/svg\" height=\"24px\" viewBox=\"0 -960 960 960\">\n",
              "    <path d=\"M120-120v-720h720v720H120Zm60-500h600v-160H180v160Zm220 220h160v-160H400v160Zm0 220h160v-160H400v160ZM180-400h160v-160H180v160Zm440 0h160v-160H620v160ZM180-180h160v-160H180v160Zm440 0h160v-160H620v160Z\"/>\n",
              "  </svg>\n",
              "    </button>\n",
              "\n",
              "  <style>\n",
              "    .colab-df-container {\n",
              "      display:flex;\n",
              "      gap: 12px;\n",
              "    }\n",
              "\n",
              "    .colab-df-convert {\n",
              "      background-color: #E8F0FE;\n",
              "      border: none;\n",
              "      border-radius: 50%;\n",
              "      cursor: pointer;\n",
              "      display: none;\n",
              "      fill: #1967D2;\n",
              "      height: 32px;\n",
              "      padding: 0 0 0 0;\n",
              "      width: 32px;\n",
              "    }\n",
              "\n",
              "    .colab-df-convert:hover {\n",
              "      background-color: #E2EBFA;\n",
              "      box-shadow: 0px 1px 2px rgba(60, 64, 67, 0.3), 0px 1px 3px 1px rgba(60, 64, 67, 0.15);\n",
              "      fill: #174EA6;\n",
              "    }\n",
              "\n",
              "    .colab-df-buttons div {\n",
              "      margin-bottom: 4px;\n",
              "    }\n",
              "\n",
              "    [theme=dark] .colab-df-convert {\n",
              "      background-color: #3B4455;\n",
              "      fill: #D2E3FC;\n",
              "    }\n",
              "\n",
              "    [theme=dark] .colab-df-convert:hover {\n",
              "      background-color: #434B5C;\n",
              "      box-shadow: 0px 1px 3px 1px rgba(0, 0, 0, 0.15);\n",
              "      filter: drop-shadow(0px 1px 2px rgba(0, 0, 0, 0.3));\n",
              "      fill: #FFFFFF;\n",
              "    }\n",
              "  </style>\n",
              "\n",
              "    <script>\n",
              "      const buttonEl =\n",
              "        document.querySelector('#df-d6806cc0-f200-4a5d-be03-0934e8c24738 button.colab-df-convert');\n",
              "      buttonEl.style.display =\n",
              "        google.colab.kernel.accessAllowed ? 'block' : 'none';\n",
              "\n",
              "      async function convertToInteractive(key) {\n",
              "        const element = document.querySelector('#df-d6806cc0-f200-4a5d-be03-0934e8c24738');\n",
              "        const dataTable =\n",
              "          await google.colab.kernel.invokeFunction('convertToInteractive',\n",
              "                                                    [key], {});\n",
              "        if (!dataTable) return;\n",
              "\n",
              "        const docLinkHtml = 'Like what you see? Visit the ' +\n",
              "          '<a target=\"_blank\" href=https://colab.research.google.com/notebooks/data_table.ipynb>data table notebook</a>'\n",
              "          + ' to learn more about interactive tables.';\n",
              "        element.innerHTML = '';\n",
              "        dataTable['output_type'] = 'display_data';\n",
              "        await google.colab.output.renderOutput(dataTable, element);\n",
              "        const docLink = document.createElement('div');\n",
              "        docLink.innerHTML = docLinkHtml;\n",
              "        element.appendChild(docLink);\n",
              "      }\n",
              "    </script>\n",
              "  </div>\n",
              "\n",
              "\n",
              "<div id=\"df-404b0395-c25b-4510-a3e5-bd97754be1f3\">\n",
              "  <button class=\"colab-df-quickchart\" onclick=\"quickchart('df-404b0395-c25b-4510-a3e5-bd97754be1f3')\"\n",
              "            title=\"Suggest charts\"\n",
              "            style=\"display:none;\">\n",
              "\n",
              "<svg xmlns=\"http://www.w3.org/2000/svg\" height=\"24px\"viewBox=\"0 0 24 24\"\n",
              "     width=\"24px\">\n",
              "    <g>\n",
              "        <path d=\"M19 3H5c-1.1 0-2 .9-2 2v14c0 1.1.9 2 2 2h14c1.1 0 2-.9 2-2V5c0-1.1-.9-2-2-2zM9 17H7v-7h2v7zm4 0h-2V7h2v10zm4 0h-2v-4h2v4z\"/>\n",
              "    </g>\n",
              "</svg>\n",
              "  </button>\n",
              "\n",
              "<style>\n",
              "  .colab-df-quickchart {\n",
              "      --bg-color: #E8F0FE;\n",
              "      --fill-color: #1967D2;\n",
              "      --hover-bg-color: #E2EBFA;\n",
              "      --hover-fill-color: #174EA6;\n",
              "      --disabled-fill-color: #AAA;\n",
              "      --disabled-bg-color: #DDD;\n",
              "  }\n",
              "\n",
              "  [theme=dark] .colab-df-quickchart {\n",
              "      --bg-color: #3B4455;\n",
              "      --fill-color: #D2E3FC;\n",
              "      --hover-bg-color: #434B5C;\n",
              "      --hover-fill-color: #FFFFFF;\n",
              "      --disabled-bg-color: #3B4455;\n",
              "      --disabled-fill-color: #666;\n",
              "  }\n",
              "\n",
              "  .colab-df-quickchart {\n",
              "    background-color: var(--bg-color);\n",
              "    border: none;\n",
              "    border-radius: 50%;\n",
              "    cursor: pointer;\n",
              "    display: none;\n",
              "    fill: var(--fill-color);\n",
              "    height: 32px;\n",
              "    padding: 0;\n",
              "    width: 32px;\n",
              "  }\n",
              "\n",
              "  .colab-df-quickchart:hover {\n",
              "    background-color: var(--hover-bg-color);\n",
              "    box-shadow: 0 1px 2px rgba(60, 64, 67, 0.3), 0 1px 3px 1px rgba(60, 64, 67, 0.15);\n",
              "    fill: var(--button-hover-fill-color);\n",
              "  }\n",
              "\n",
              "  .colab-df-quickchart-complete:disabled,\n",
              "  .colab-df-quickchart-complete:disabled:hover {\n",
              "    background-color: var(--disabled-bg-color);\n",
              "    fill: var(--disabled-fill-color);\n",
              "    box-shadow: none;\n",
              "  }\n",
              "\n",
              "  .colab-df-spinner {\n",
              "    border: 2px solid var(--fill-color);\n",
              "    border-color: transparent;\n",
              "    border-bottom-color: var(--fill-color);\n",
              "    animation:\n",
              "      spin 1s steps(1) infinite;\n",
              "  }\n",
              "\n",
              "  @keyframes spin {\n",
              "    0% {\n",
              "      border-color: transparent;\n",
              "      border-bottom-color: var(--fill-color);\n",
              "      border-left-color: var(--fill-color);\n",
              "    }\n",
              "    20% {\n",
              "      border-color: transparent;\n",
              "      border-left-color: var(--fill-color);\n",
              "      border-top-color: var(--fill-color);\n",
              "    }\n",
              "    30% {\n",
              "      border-color: transparent;\n",
              "      border-left-color: var(--fill-color);\n",
              "      border-top-color: var(--fill-color);\n",
              "      border-right-color: var(--fill-color);\n",
              "    }\n",
              "    40% {\n",
              "      border-color: transparent;\n",
              "      border-right-color: var(--fill-color);\n",
              "      border-top-color: var(--fill-color);\n",
              "    }\n",
              "    60% {\n",
              "      border-color: transparent;\n",
              "      border-right-color: var(--fill-color);\n",
              "    }\n",
              "    80% {\n",
              "      border-color: transparent;\n",
              "      border-right-color: var(--fill-color);\n",
              "      border-bottom-color: var(--fill-color);\n",
              "    }\n",
              "    90% {\n",
              "      border-color: transparent;\n",
              "      border-bottom-color: var(--fill-color);\n",
              "    }\n",
              "  }\n",
              "</style>\n",
              "\n",
              "  <script>\n",
              "    async function quickchart(key) {\n",
              "      const quickchartButtonEl =\n",
              "        document.querySelector('#' + key + ' button');\n",
              "      quickchartButtonEl.disabled = true;  // To prevent multiple clicks.\n",
              "      quickchartButtonEl.classList.add('colab-df-spinner');\n",
              "      try {\n",
              "        const charts = await google.colab.kernel.invokeFunction(\n",
              "            'suggestCharts', [key], {});\n",
              "      } catch (error) {\n",
              "        console.error('Error during call to suggestCharts:', error);\n",
              "      }\n",
              "      quickchartButtonEl.classList.remove('colab-df-spinner');\n",
              "      quickchartButtonEl.classList.add('colab-df-quickchart-complete');\n",
              "    }\n",
              "    (() => {\n",
              "      let quickchartButtonEl =\n",
              "        document.querySelector('#df-404b0395-c25b-4510-a3e5-bd97754be1f3 button');\n",
              "      quickchartButtonEl.style.display =\n",
              "        google.colab.kernel.accessAllowed ? 'block' : 'none';\n",
              "    })();\n",
              "  </script>\n",
              "</div>\n",
              "\n",
              "    </div>\n",
              "  </div>\n"
            ],
            "application/vnd.google.colaboratory.intrinsic+json": {
              "type": "dataframe",
              "variable_name": "data",
              "summary": "{\n  \"name\": \"data\",\n  \"rows\": 7043,\n  \"fields\": [\n    {\n      \"column\": \"gender\",\n      \"properties\": {\n        \"dtype\": \"number\",\n        \"std\": 0,\n        \"min\": 0,\n        \"max\": 1,\n        \"num_unique_values\": 2,\n        \"samples\": [\n          1,\n          0\n        ],\n        \"semantic_type\": \"\",\n        \"description\": \"\"\n      }\n    },\n    {\n      \"column\": \"SeniorCitizen\",\n      \"properties\": {\n        \"dtype\": \"number\",\n        \"std\": 0,\n        \"min\": 0,\n        \"max\": 1,\n        \"num_unique_values\": 2,\n        \"samples\": [\n          1,\n          0\n        ],\n        \"semantic_type\": \"\",\n        \"description\": \"\"\n      }\n    },\n    {\n      \"column\": \"Partner\",\n      \"properties\": {\n        \"dtype\": \"number\",\n        \"std\": 0,\n        \"min\": 0,\n        \"max\": 1,\n        \"num_unique_values\": 2,\n        \"samples\": [\n          0,\n          1\n        ],\n        \"semantic_type\": \"\",\n        \"description\": \"\"\n      }\n    },\n    {\n      \"column\": \"Dependents\",\n      \"properties\": {\n        \"dtype\": \"number\",\n        \"std\": 0,\n        \"min\": 0,\n        \"max\": 1,\n        \"num_unique_values\": 2,\n        \"samples\": [\n          1,\n          0\n        ],\n        \"semantic_type\": \"\",\n        \"description\": \"\"\n      }\n    },\n    {\n      \"column\": \"tenure\",\n      \"properties\": {\n        \"dtype\": \"number\",\n        \"std\": 24,\n        \"min\": 0,\n        \"max\": 72,\n        \"num_unique_values\": 73,\n        \"samples\": [\n          8,\n          40\n        ],\n        \"semantic_type\": \"\",\n        \"description\": \"\"\n      }\n    },\n    {\n      \"column\": \"MultipleLines\",\n      \"properties\": {\n        \"dtype\": \"number\",\n        \"std\": 0,\n        \"min\": 0,\n        \"max\": 2,\n        \"num_unique_values\": 3,\n        \"samples\": [\n          1,\n          0\n        ],\n        \"semantic_type\": \"\",\n        \"description\": \"\"\n      }\n    },\n    {\n      \"column\": \"InternetService\",\n      \"properties\": {\n        \"dtype\": \"number\",\n        \"std\": 0,\n        \"min\": 0,\n        \"max\": 2,\n        \"num_unique_values\": 3,\n        \"samples\": [\n          0,\n          1\n        ],\n        \"semantic_type\": \"\",\n        \"description\": \"\"\n      }\n    },\n    {\n      \"column\": \"OnlineSecurity\",\n      \"properties\": {\n        \"dtype\": \"number\",\n        \"std\": 0,\n        \"min\": 0,\n        \"max\": 2,\n        \"num_unique_values\": 3,\n        \"samples\": [\n          0,\n          2\n        ],\n        \"semantic_type\": \"\",\n        \"description\": \"\"\n      }\n    },\n    {\n      \"column\": \"OnlineBackup\",\n      \"properties\": {\n        \"dtype\": \"number\",\n        \"std\": 0,\n        \"min\": 0,\n        \"max\": 2,\n        \"num_unique_values\": 3,\n        \"samples\": [\n          2,\n          0\n        ],\n        \"semantic_type\": \"\",\n        \"description\": \"\"\n      }\n    },\n    {\n      \"column\": \"DeviceProtection\",\n      \"properties\": {\n        \"dtype\": \"number\",\n        \"std\": 0,\n        \"min\": 0,\n        \"max\": 2,\n        \"num_unique_values\": 3,\n        \"samples\": [\n          0,\n          2\n        ],\n        \"semantic_type\": \"\",\n        \"description\": \"\"\n      }\n    },\n    {\n      \"column\": \"TechSupport\",\n      \"properties\": {\n        \"dtype\": \"number\",\n        \"std\": 0,\n        \"min\": 0,\n        \"max\": 2,\n        \"num_unique_values\": 3,\n        \"samples\": [\n          0,\n          2\n        ],\n        \"semantic_type\": \"\",\n        \"description\": \"\"\n      }\n    },\n    {\n      \"column\": \"StreamingMovies\",\n      \"properties\": {\n        \"dtype\": \"number\",\n        \"std\": 0,\n        \"min\": 0,\n        \"max\": 2,\n        \"num_unique_values\": 3,\n        \"samples\": [\n          0,\n          2\n        ],\n        \"semantic_type\": \"\",\n        \"description\": \"\"\n      }\n    },\n    {\n      \"column\": \"Contract\",\n      \"properties\": {\n        \"dtype\": \"number\",\n        \"std\": 0,\n        \"min\": 0,\n        \"max\": 2,\n        \"num_unique_values\": 3,\n        \"samples\": [\n          0,\n          1\n        ],\n        \"semantic_type\": \"\",\n        \"description\": \"\"\n      }\n    },\n    {\n      \"column\": \"PaperlessBilling\",\n      \"properties\": {\n        \"dtype\": \"number\",\n        \"std\": 0,\n        \"min\": 0,\n        \"max\": 1,\n        \"num_unique_values\": 2,\n        \"samples\": [\n          0,\n          1\n        ],\n        \"semantic_type\": \"\",\n        \"description\": \"\"\n      }\n    },\n    {\n      \"column\": \"PaymentMethod\",\n      \"properties\": {\n        \"dtype\": \"number\",\n        \"std\": 1,\n        \"min\": 0,\n        \"max\": 3,\n        \"num_unique_values\": 4,\n        \"samples\": [\n          3,\n          1\n        ],\n        \"semantic_type\": \"\",\n        \"description\": \"\"\n      }\n    },\n    {\n      \"column\": \"MonthlyCharges\",\n      \"properties\": {\n        \"dtype\": \"number\",\n        \"std\": 30.09004709767854,\n        \"min\": 18.25,\n        \"max\": 118.75,\n        \"num_unique_values\": 1585,\n        \"samples\": [\n          48.85,\n          20.05\n        ],\n        \"semantic_type\": \"\",\n        \"description\": \"\"\n      }\n    },\n    {\n      \"column\": \"TotalCharges\",\n      \"properties\": {\n        \"dtype\": \"number\",\n        \"std\": 1888,\n        \"min\": 0,\n        \"max\": 6530,\n        \"num_unique_values\": 6531,\n        \"samples\": [\n          3911,\n          1613\n        ],\n        \"semantic_type\": \"\",\n        \"description\": \"\"\n      }\n    },\n    {\n      \"column\": \"Churn\",\n      \"properties\": {\n        \"dtype\": \"number\",\n        \"std\": 0,\n        \"min\": 0,\n        \"max\": 1,\n        \"num_unique_values\": 2,\n        \"samples\": [\n          1,\n          0\n        ],\n        \"semantic_type\": \"\",\n        \"description\": \"\"\n      }\n    }\n  ]\n}"
            }
          },
          "metadata": {},
          "execution_count": 10
        }
      ],
      "source": [
        "data.head(9)"
      ]
    },
    {
      "cell_type": "code",
      "execution_count": null,
      "metadata": {
        "colab": {
          "base_uri": "https://localhost:8080/",
          "height": 178
        },
        "id": "Zo4h85odTdc9",
        "outputId": "3fe3c1ee-3f0b-4833-9982-9030ea59bd0a"
      },
      "outputs": [
        {
          "output_type": "execute_result",
          "data": {
            "text/plain": [
              "Churn\n",
              "0    5174\n",
              "1    1869\n",
              "Name: count, dtype: int64"
            ],
            "text/html": [
              "<div>\n",
              "<style scoped>\n",
              "    .dataframe tbody tr th:only-of-type {\n",
              "        vertical-align: middle;\n",
              "    }\n",
              "\n",
              "    .dataframe tbody tr th {\n",
              "        vertical-align: top;\n",
              "    }\n",
              "\n",
              "    .dataframe thead th {\n",
              "        text-align: right;\n",
              "    }\n",
              "</style>\n",
              "<table border=\"1\" class=\"dataframe\">\n",
              "  <thead>\n",
              "    <tr style=\"text-align: right;\">\n",
              "      <th></th>\n",
              "      <th>count</th>\n",
              "    </tr>\n",
              "    <tr>\n",
              "      <th>Churn</th>\n",
              "      <th></th>\n",
              "    </tr>\n",
              "  </thead>\n",
              "  <tbody>\n",
              "    <tr>\n",
              "      <th>0</th>\n",
              "      <td>5174</td>\n",
              "    </tr>\n",
              "    <tr>\n",
              "      <th>1</th>\n",
              "      <td>1869</td>\n",
              "    </tr>\n",
              "  </tbody>\n",
              "</table>\n",
              "</div><br><label><b>dtype:</b> int64</label>"
            ]
          },
          "metadata": {},
          "execution_count": 11
        }
      ],
      "source": [
        "data[\"Churn\"].value_counts()"
      ]
    },
    {
      "cell_type": "code",
      "execution_count": null,
      "metadata": {
        "colab": {
          "base_uri": "https://localhost:8080/",
          "height": 625
        },
        "id": "AdVH-Nw9TdYt",
        "outputId": "14b6e5f8-d68e-42d2-9a53-7e5d5dc16acb"
      },
      "outputs": [
        {
          "output_type": "display_data",
          "data": {
            "text/plain": [
              "<Figure size 1200x600 with 1 Axes>"
            ],
            "image/png": "[encoded data removed]"
          },
          "metadata": {}
        }
      ],
      "source": [
        "# processing Outliers value\n",
        "numerical_columns = data.select_dtypes(include=[\"int64\", \"float64\"]).columns\n",
        "\n",
        "plt.figure(figsize=(12, 6))\n",
        "data[numerical_columns].boxplot(rot=45)\n",
        "plt.title(\"Boxplot outliers\")\n",
        "plt.show()"
      ]
    },
    {
      "cell_type": "code",
      "execution_count": null,
      "metadata": {
        "colab": {
          "base_uri": "https://localhost:8080/"
        },
        "id": "Wr1_htXrTdV2",
        "outputId": "bf7b6e21-d6f5-4ca1-80d3-38e90b428f4d"
      },
      "outputs": [
        {
          "output_type": "stream",
          "name": "stdout",
          "text": [
            "\n",
            " Z-score numbers of outliers values:\n",
            "gender              0\n",
            "SeniorCitizen       0\n",
            "Partner             0\n",
            "Dependents          0\n",
            "tenure              0\n",
            "MultipleLines       0\n",
            "InternetService     0\n",
            "OnlineSecurity      0\n",
            "OnlineBackup        0\n",
            "DeviceProtection    0\n",
            "TechSupport         0\n",
            "StreamingMovies     0\n",
            "Contract            0\n",
            "PaperlessBilling    0\n",
            "PaymentMethod       0\n",
            "MonthlyCharges      0\n",
            "TotalCharges        0\n",
            "Churn               0\n",
            "dtype: int64\n",
            "\n",
            " After dropped outliers 7043\n"
          ]
        }
      ],
      "source": [
        "from scipy import stats\n",
        "import numpy as np\n",
        "\n",
        "z_scores = np.abs(stats.zscore(data[numerical_columns]))\n",
        "\n",
        "outliers = (z_scores > 3)\n",
        "\n",
        "print(\"\\n Z-score numbers of outliers values:\")\n",
        "print(outliers.sum(axis=0))\n",
        "\n",
        "df_cleaned = data[~outliers.any(axis=1)]\n",
        "print(\"\\n After dropped outliers\", df_cleaned.shape[0])"
      ]
    },
    {
      "cell_type": "markdown",
      "metadata": {
        "id": "eFQNRnluVIp2"
      },
      "source": [
        "**5. Data Visualization**"
      ]
    },
    {
      "cell_type": "code",
      "execution_count": null,
      "metadata": {
        "colab": {
          "base_uri": "https://localhost:8080/",
          "height": 542
        },
        "id": "g9vl5cyuU4li",
        "outputId": "efbc6821-5dda-4de9-cd05-bd6b344e2e87"
      },
      "outputs": [
        {
          "output_type": "display_data",
          "data": {
            "text/html": [
              "<html>\n",
              "<head><meta charset=\"utf-8\" /></head>\n",
              "<body>\n",
              "    <div>            <script src=\"https://cdnjs.cloudflare.com/ajax/libs/mathjax/2.7.5/MathJax.js?config=TeX-AMS-MML_SVG\"></script><script type=\"text/javascript\">if (window.MathJax && window.MathJax.Hub && window.MathJax.Hub.Config) {window.MathJax.Hub.Config({SVG: {font: \"STIX-Web\"}});}</script>                <script type=\"text/javascript\">window.PlotlyConfig = {MathJaxConfig: 'local'};</script>\n",
              "        <script charset=\"utf-8\" src=\"https://cdn.plot.ly/plotly-2.35.2.min.js\"></script>                <div id=\"8c6d320b-ade6-4b3d-88c8-f00bf1779ed4\" class=\"plotly-graph-div\" style=\"height:525px; width:100%;\"></div>            <script type=\"text/javascript\">                                    window.PLOTLYENV=window.PLOTLYENV || {};                                    if (document.getElementById(\"8c6d320b-ade6-4b3d-88c8-f00bf1779ed4\")) {                    Plotly.newPlot(                        \"8c6d320b-ade6-4b3d-88c8-f00bf1779ed4\",                        [{\"labels\":[\"Male\",\"Female\"],\"name\":\"Gender\",\"values\":[3555,3488],\"type\":\"pie\",\"domain\":{\"x\":[0.0,0.45],\"y\":[0.0,1.0]},\"textfont\":{\"size\":16},\"hole\":0.4,\"hoverinfo\":\"label+percent+name\"},{\"labels\":[\"No\",\"Yes\"],\"name\":\"Churn\",\"values\":[5174,1869],\"type\":\"pie\",\"domain\":{\"x\":[0.55,1.0],\"y\":[0.0,1.0]},\"textfont\":{\"size\":16},\"hole\":0.4,\"hoverinfo\":\"label+percent+name\"}],                        {\"template\":{\"data\":{\"histogram2dcontour\":[{\"type\":\"histogram2dcontour\",\"colorbar\":{\"outlinewidth\":0,\"ticks\":\"\"},\"colorscale\":[[0.0,\"#0d0887\"],[0.1111111111111111,\"#46039f\"],[0.2222222222222222,\"#7201a8\"],[0.3333333333333333,\"#9c179e\"],[0.4444444444444444,\"#bd3786\"],[0.5555555555555556,\"#d8576b\"],[0.6666666666666666,\"#ed7953\"],[0.7777777777777778,\"#fb9f3a\"],[0.8888888888888888,\"#fdca26\"],[1.0,\"#f0f921\"]]}],\"choropleth\":[{\"type\":\"choropleth\",\"colorbar\":{\"outlinewidth\":0,\"ticks\":\"\"}}],\"histogram2d\":[{\"type\":\"histogram2d\",\"colorbar\":{\"outlinewidth\":0,\"ticks\":\"\"},\"colorscale\":[[0.0,\"#0d0887\"],[0.1111111111111111,\"#46039f\"],[0.2222222222222222,\"#7201a8\"],[0.3333333333333333,\"#9c179e\"],[0.4444444444444444,\"#bd3786\"],[0.5555555555555556,\"#d8576b\"],[0.6666666666666666,\"#ed7953\"],[0.7777777777777778,\"#fb9f3a\"],[0.8888888888888888,\"#fdca26\"],[1.0,\"#f0f921\"]]}],\"heatmap\":[{\"type\":\"heatmap\",\"colorbar\":{\"outlinewidth\":0,\"ticks\":\"\"},\"colorscale\":[[0.0,\"#0d0887\"],[0.1111111111111111,\"#46039f\"],[0.2222222222222222,\"#7201a8\"],[0.3333333333333333,\"#9c179e\"],[0.4444444444444444,\"#bd3786\"],[0.5555555555555556,\"#d8576b\"],[0.6666666666666666,\"#ed7953\"],[0.7777777777777778,\"#fb9f3a\"],[0.8888888888888888,\"#fdca26\"],[1.0,\"#f0f921\"]]}],\"heatmapgl\":[{\"type\":\"heatmapgl\",\"colorbar\":{\"outlinewidth\":0,\"ticks\":\"\"},\"colorscale\":[[0.0,\"#0d0887\"],[0.1111111111111111,\"#46039f\"],[0.2222222222222222,\"#7201a8\"],[0.3333333333333333,\"#9c179e\"],[0.4444444444444444,\"#bd3786\"],[0.5555555555555556,\"#d8576b\"],[0.6666666666666666,\"#ed7953\"],[0.7777777777777778,\"#fb9f3a\"],[0.8888888888888888,\"#fdca26\"],[1.0,\"#f0f921\"]]}],\"contourcarpet\":[{\"type\":\"contourcarpet\",\"colorbar\":{\"outlinewidth\":0,\"ticks\":\"\"}}],\"contour\":[{\"type\":\"contour\",\"colorbar\":{\"outlinewidth\":0,\"ticks\":\"\"},\"colorscale\":[[0.0,\"#0d0887\"],[0.1111111111111111,\"#46039f\"],[0.2222222222222222,\"#7201a8\"],[0.3333333333333333,\"#9c179e\"],[0.4444444444444444,\"#bd3786\"],[0.5555555555555556,\"#d8576b\"],[0.6666666666666666,\"#ed7953\"],[0.7777777777777778,\"#fb9f3a\"],[0.8888888888888888,\"#fdca26\"],[1.0,\"#f0f921\"]]}],\"surface\":[{\"type\":\"surface\",\"colorbar\":{\"outlinewidth\":0,\"ticks\":\"\"},\"colorscale\":[[0.0,\"#0d0887\"],[0.1111111111111111,\"#46039f\"],[0.2222222222222222,\"#7201a8\"],[0.3333333333333333,\"#9c179e\"],[0.4444444444444444,\"#bd3786\"],[0.5555555555555556,\"#d8576b\"],[0.6666666666666666,\"#ed7953\"],[0.7777777777777778,\"#fb9f3a\"],[0.8888888888888888,\"#fdca26\"],[1.0,\"#f0f921\"]]}],\"mesh3d\":[{\"type\":\"mesh3d\",\"colorbar\":{\"outlinewidth\":0,\"ticks\":\"\"}}],\"scatter\":[{\"fillpattern\":{\"fillmode\":\"overlay\",\"size\":10,\"solidity\":0.2},\"type\":\"scatter\"}],\"parcoords\":[{\"type\":\"parcoords\",\"line\":{\"colorbar\":{\"outlinewidth\":0,\"ticks\":\"\"}}}],\"scatterpolargl\":[{\"type\":\"scatterpolargl\",\"marker\":{\"colorbar\":{\"outlinewidth\":0,\"ticks\":\"\"}}}],\"bar\":[{\"error_x\":{\"color\":\"#2a3f5f\"},\"error_y\":{\"color\":\"#2a3f5f\"},\"marker\":{\"line\":{\"color\":\"#E5ECF6\",\"width\":0.5},\"pattern\":{\"fillmode\":\"overlay\",\"size\":10,\"solidity\":0.2}},\"type\":\"bar\"}],\"scattergeo\":[{\"type\":\"scattergeo\",\"marker\":{\"colorbar\":{\"outlinewidth\":0,\"ticks\":\"\"}}}],\"scatterpolar\":[{\"type\":\"scatterpolar\",\"marker\":{\"colorbar\":{\"outlinewidth\":0,\"ticks\":\"\"}}}],\"histogram\":[{\"marker\":{\"pattern\":{\"fillmode\":\"overlay\",\"size\":10,\"solidity\":0.2}},\"type\":\"histogram\"}],\"scattergl\":[{\"type\":\"scattergl\",\"marker\":{\"colorbar\":{\"outlinewidth\":0,\"ticks\":\"\"}}}],\"scatter3d\":[{\"type\":\"scatter3d\",\"line\":{\"colorbar\":{\"outlinewidth\":0,\"ticks\":\"\"}},\"marker\":{\"colorbar\":{\"outlinewidth\":0,\"ticks\":\"\"}}}],\"scattermapbox\":[{\"type\":\"scattermapbox\",\"marker\":{\"colorbar\":{\"outlinewidth\":0,\"ticks\":\"\"}}}],\"scatterternary\":[{\"type\":\"scatterternary\",\"marker\":{\"colorbar\":{\"outlinewidth\":0,\"ticks\":\"\"}}}],\"scattercarpet\":[{\"type\":\"scattercarpet\",\"marker\":{\"colorbar\":{\"outlinewidth\":0,\"ticks\":\"\"}}}],\"carpet\":[{\"aaxis\":{\"endlinecolor\":\"#2a3f5f\",\"gridcolor\":\"white\",\"linecolor\":\"white\",\"minorgridcolor\":\"white\",\"startlinecolor\":\"#2a3f5f\"},\"baxis\":{\"endlinecolor\":\"#2a3f5f\",\"gridcolor\":\"white\",\"linecolor\":\"white\",\"minorgridcolor\":\"white\",\"startlinecolor\":\"#2a3f5f\"},\"type\":\"carpet\"}],\"table\":[{\"cells\":{\"fill\":{\"color\":\"#EBF0F8\"},\"line\":{\"color\":\"white\"}},\"header\":{\"fill\":{\"color\":\"#C8D4E3\"},\"line\":{\"color\":\"white\"}},\"type\":\"table\"}],\"barpolar\":[{\"marker\":{\"line\":{\"color\":\"#E5ECF6\",\"width\":0.5},\"pattern\":{\"fillmode\":\"overlay\",\"size\":10,\"solidity\":0.2}},\"type\":\"barpolar\"}],\"pie\":[{\"automargin\":true,\"type\":\"pie\"}]},\"layout\":{\"autotypenumbers\":\"strict\",\"colorway\":[\"#636efa\",\"#EF553B\",\"#00cc96\",\"#ab63fa\",\"#FFA15A\",\"#19d3f3\",\"#FF6692\",\"#B6E880\",\"#FF97FF\",\"#FECB52\"],\"font\":{\"color\":\"#2a3f5f\"},\"hovermode\":\"closest\",\"hoverlabel\":{\"align\":\"left\"},\"paper_bgcolor\":\"white\",\"plot_bgcolor\":\"#E5ECF6\",\"polar\":{\"bgcolor\":\"#E5ECF6\",\"angularaxis\":{\"gridcolor\":\"white\",\"linecolor\":\"white\",\"ticks\":\"\"},\"radialaxis\":{\"gridcolor\":\"white\",\"linecolor\":\"white\",\"ticks\":\"\"}},\"ternary\":{\"bgcolor\":\"#E5ECF6\",\"aaxis\":{\"gridcolor\":\"white\",\"linecolor\":\"white\",\"ticks\":\"\"},\"baxis\":{\"gridcolor\":\"white\",\"linecolor\":\"white\",\"ticks\":\"\"},\"caxis\":{\"gridcolor\":\"white\",\"linecolor\":\"white\",\"ticks\":\"\"}},\"coloraxis\":{\"colorbar\":{\"outlinewidth\":0,\"ticks\":\"\"}},\"colorscale\":{\"sequential\":[[0.0,\"#0d0887\"],[0.1111111111111111,\"#46039f\"],[0.2222222222222222,\"#7201a8\"],[0.3333333333333333,\"#9c179e\"],[0.4444444444444444,\"#bd3786\"],[0.5555555555555556,\"#d8576b\"],[0.6666666666666666,\"#ed7953\"],[0.7777777777777778,\"#fb9f3a\"],[0.8888888888888888,\"#fdca26\"],[1.0,\"#f0f921\"]],\"sequentialminus\":[[0.0,\"#0d0887\"],[0.1111111111111111,\"#46039f\"],[0.2222222222222222,\"#7201a8\"],[0.3333333333333333,\"#9c179e\"],[0.4444444444444444,\"#bd3786\"],[0.5555555555555556,\"#d8576b\"],[0.6666666666666666,\"#ed7953\"],[0.7777777777777778,\"#fb9f3a\"],[0.8888888888888888,\"#fdca26\"],[1.0,\"#f0f921\"]],\"diverging\":[[0,\"#8e0152\"],[0.1,\"#c51b7d\"],[0.2,\"#de77ae\"],[0.3,\"#f1b6da\"],[0.4,\"#fde0ef\"],[0.5,\"#f7f7f7\"],[0.6,\"#e6f5d0\"],[0.7,\"#b8e186\"],[0.8,\"#7fbc41\"],[0.9,\"#4d9221\"],[1,\"#276419\"]]},\"xaxis\":{\"gridcolor\":\"white\",\"linecolor\":\"white\",\"ticks\":\"\",\"title\":{\"standoff\":15},\"zerolinecolor\":\"white\",\"automargin\":true,\"zerolinewidth\":2},\"yaxis\":{\"gridcolor\":\"white\",\"linecolor\":\"white\",\"ticks\":\"\",\"title\":{\"standoff\":15},\"zerolinecolor\":\"white\",\"automargin\":true,\"zerolinewidth\":2},\"scene\":{\"xaxis\":{\"backgroundcolor\":\"#E5ECF6\",\"gridcolor\":\"white\",\"linecolor\":\"white\",\"showbackground\":true,\"ticks\":\"\",\"zerolinecolor\":\"white\",\"gridwidth\":2},\"yaxis\":{\"backgroundcolor\":\"#E5ECF6\",\"gridcolor\":\"white\",\"linecolor\":\"white\",\"showbackground\":true,\"ticks\":\"\",\"zerolinecolor\":\"white\",\"gridwidth\":2},\"zaxis\":{\"backgroundcolor\":\"#E5ECF6\",\"gridcolor\":\"white\",\"linecolor\":\"white\",\"showbackground\":true,\"ticks\":\"\",\"zerolinecolor\":\"white\",\"gridwidth\":2}},\"shapedefaults\":{\"line\":{\"color\":\"#2a3f5f\"}},\"annotationdefaults\":{\"arrowcolor\":\"#2a3f5f\",\"arrowhead\":0,\"arrowwidth\":1},\"geo\":{\"bgcolor\":\"white\",\"landcolor\":\"#E5ECF6\",\"subunitcolor\":\"white\",\"showland\":true,\"showlakes\":true,\"lakecolor\":\"white\"},\"title\":{\"x\":0.05},\"mapbox\":{\"style\":\"light\"}}},\"title\":{\"text\":\"Gender and Churn Distributions\"},\"annotations\":[{\"showarrow\":false,\"text\":\"Gender\",\"x\":0.16,\"y\":0.5,\"font\":{\"size\":20}},{\"showarrow\":false,\"text\":\"Churn\",\"x\":0.84,\"y\":0.5,\"font\":{\"size\":20}}]},                        {\"responsive\": true}                    ).then(function(){\n",
              "                            \n",
              "var gd = document.getElementById('8c6d320b-ade6-4b3d-88c8-f00bf1779ed4');\n",
              "var x = new MutationObserver(function (mutations, observer) {{\n",
              "        var display = window.getComputedStyle(gd).display;\n",
              "        if (!display || display === 'none') {{\n",
              "            console.log([gd, 'removed!']);\n",
              "            Plotly.purge(gd);\n",
              "            observer.disconnect();\n",
              "        }}\n",
              "}});\n",
              "\n",
              "// Listen for the removal of the full notebook cells\n",
              "var notebookContainer = gd.closest('#notebook-container');\n",
              "if (notebookContainer) {{\n",
              "    x.observe(notebookContainer, {childList: true});\n",
              "}}\n",
              "\n",
              "// Listen for the clearing of the current output cell\n",
              "var outputEl = gd.closest('.output');\n",
              "if (outputEl) {{\n",
              "    x.observe(outputEl, {childList: true});\n",
              "}}\n",
              "\n",
              "                        })                };                            </script>        </div>\n",
              "</body>\n",
              "</html>"
            ]
          },
          "metadata": {}
        }
      ],
      "source": [
        "g_labels = ['Male', 'Female']\n",
        "c_labels = ['No', 'Yes']\n",
        "# Create subplots: use 'domain' type for Pie subplot\n",
        "fig = make_subplots(rows=1, cols=2, specs=[[{'type':'domain'}, {'type':'domain'}]])\n",
        "fig.add_trace(go.Pie(labels=g_labels, values=data['gender'].value_counts(), name=\"Gender\"),\n",
        "              1, 1)\n",
        "fig.add_trace(go.Pie(labels=c_labels, values=data['Churn'].value_counts(), name=\"Churn\"),\n",
        "              1, 2)\n",
        "\n",
        "# Use `hole` to create a donut-like pie chart\n",
        "fig.update_traces(hole=.4, hoverinfo=\"label+percent+name\", textfont_size=16)\n",
        "\n",
        "fig.update_layout(\n",
        "    title_text=\"Gender and Churn Distributions\",\n",
        "    # Add annotations in the center of the donut pies.\n",
        "    annotations=[dict(text='Gender', x=0.16, y=0.5, font_size=20, showarrow=False),\n",
        "                 dict(text='Churn', x=0.84, y=0.5, font_size=20, showarrow=False)])\n",
        "fig.show()"
      ]
    },
    {
      "cell_type": "code",
      "execution_count": null,
      "metadata": {
        "colab": {
          "base_uri": "https://localhost:8080/",
          "height": 517
        },
        "id": "WpKh4YPuU4dp",
        "outputId": "b312b5dc-34c5-435e-e14b-85abaa70e053"
      },
      "outputs": [
        {
          "output_type": "display_data",
          "data": {
            "text/html": [
              "<html>\n",
              "<head><meta charset=\"utf-8\" /></head>\n",
              "<body>\n",
              "    <div>            <script src=\"https://cdnjs.cloudflare.com/ajax/libs/mathjax/2.7.5/MathJax.js?config=TeX-AMS-MML_SVG\"></script><script type=\"text/javascript\">if (window.MathJax && window.MathJax.Hub && window.MathJax.Hub.Config) {window.MathJax.Hub.Config({SVG: {font: \"STIX-Web\"}});}</script>                <script type=\"text/javascript\">window.PlotlyConfig = {MathJaxConfig: 'local'};</script>\n",
              "        <script charset=\"utf-8\" src=\"https://cdn.plot.ly/plotly-2.35.2.min.js\"></script>                <div id=\"a6fdb0ca-ae1c-4080-948b-4d1f688ce849\" class=\"plotly-graph-div\" style=\"height:500px; width:700px;\"></div>            <script type=\"text/javascript\">                                    window.PLOTLYENV=window.PLOTLYENV || {};                                    if (document.getElementById(\"a6fdb0ca-ae1c-4080-948b-4d1f688ce849\")) {                    Plotly.newPlot(                        \"a6fdb0ca-ae1c-4080-948b-4d1f688ce849\",                        [{\"alignmentgroup\":\"True\",\"bingroup\":\"x\",\"hovertemplate\":\"Contract=0\\u003cbr\\u003eChurn=%{x}\\u003cbr\\u003ecount=%{y}\\u003cextra\\u003e\\u003c\\u002fextra\\u003e\",\"legendgroup\":\"0\",\"marker\":{\"color\":\"#636efa\",\"pattern\":{\"shape\":\"\"}},\"name\":\"0\",\"offsetgroup\":\"0\",\"orientation\":\"v\",\"showlegend\":true,\"x\":[0,1,1,1,0,0,1,0,1,0,1,0,1,1,0,0,1,1,1,0,0,0,1,0,1,1,0,0,0,1,0,1,0,1,1,0,0,1,0,0,0,0,0,0,1,0,1,0,0,0,0,0,0,1,1,1,0,0,0,1,0,1,0,1,0,0,1,0,0,1,0,0,1,1,1,0,1,1,1,0,0,1,0,0,0,0,1,0,1,1,0,1,0,1,1,0,1,0,1,1,1,0,0,0,1,0,0,0,0,0,0,1,1,1,0,0,0,0,1,1,1,0,0,1,0,1,0,1,0,0,0,1,1,1,1,0,1,0,1,1,0,0,1,1,0,1,1,1,0,0,0,0,0,0,0,1,0,1,1,1,1,0,0,0,0,0,1,1,0,0,1,0,0,0,0,1,1,0,0,0,0,1,0,0,1,1,0,1,0,0,0,1,0,0,1,1,1,0,1,0,0,1,0,0,1,0,0,1,1,1,1,1,0,0,0,0,0,0,0,0,1,0,1,0,1,1,1,0,0,0,0,1,1,0,0,0,0,0,0,1,0,1,0,0,0,0,0,0,0,1,1,0,0,0,1,0,0,0,0,0,1,1,1,1,0,0,1,1,0,0,1,1,1,0,1,0,1,0,1,0,0,1,1,0,1,0,1,1,0,0,1,0,0,1,0,1,0,0,0,1,1,0,1,0,0,0,0,1,1,1,0,1,0,0,0,0,0,0,1,0,0,0,0,1,1,1,0,0,1,0,0,1,0,0,1,1,1,0,0,0,0,0,1,0,0,1,1,0,1,1,1,1,0,1,1,1,0,1,1,0,1,0,0,1,0,0,0,1,0,1,1,0,1,1,0,0,1,0,0,0,1,0,0,1,0,1,0,0,0,0,1,0,0,1,0,0,0,0,0,0,1,1,1,0,0,1,1,0,0,0,0,0,0,1,0,0,0,0,0,1,0,1,0,1,1,0,0,0,0,1,1,1,0,1,1,0,0,1,0,0,0,0,0,1,1,0,1,1,0,0,1,1,0,0,1,1,0,0,0,1,0,1,0,0,1,0,0,1,1,1,1,1,0,1,0,1,0,1,1,0,0,1,0,1,0,1,0,1,0,0,1,1,1,0,0,1,0,1,0,0,0,0,0,0,1,1,0,1,0,1,0,0,0,0,1,0,0,1,1,0,0,0,0,1,0,0,0,0,0,1,1,1,0,1,1,0,1,1,0,0,1,1,0,0,0,1,1,1,0,1,1,0,0,1,1,1,0,0,0,1,0,0,0,0,0,0,1,1,1,0,0,1,0,1,1,0,1,0,0,1,1,0,1,1,1,1,1,1,0,0,1,0,1,1,1,1,0,0,1,0,0,1,1,1,0,1,0,0,0,0,0,0,1,0,0,1,1,0,0,0,0,1,1,0,0,1,1,0,0,0,0,0,0,1,0,0,1,1,0,0,0,0,1,0,1,1,0,0,1,0,1,1,0,1,0,0,1,0,1,0,0,0,0,0,0,1,0,0,1,1,1,0,1,1,1,0,0,0,1,1,1,0,0,0,1,1,1,0,0,0,0,1,1,0,0,1,1,1,0,1,1,0,0,0,1,0,0,0,0,1,0,1,1,0,0,1,1,0,1,1,1,1,0,0,0,1,0,1,1,0,0,1,1,0,1,1,1,0,1,1,0,0,1,0,0,0,0,1,1,1,1,1,1,0,0,1,0,0,0,0,1,1,0,1,0,0,0,0,0,1,1,0,1,0,1,0,1,0,0,0,0,1,1,0,0,1,0,0,1,0,1,0,1,0,0,0,1,0,0,0,0,0,0,0,1,1,1,0,1,0,0,0,1,0,0,1,1,0,0,1,0,1,1,0,0,1,0,0,0,0,1,0,0,0,1,0,1,0,1,0,0,1,0,1,0,0,0,0,0,1,0,0,1,0,1,0,0,1,0,0,1,0,0,0,1,0,1,0,1,0,0,1,0,0,0,0,0,1,1,1,1,0,0,0,0,1,0,1,0,1,1,1,1,0,0,1,0,1,1,0,0,0,0,1,0,1,0,0,1,1,1,0,0,1,1,0,1,0,0,1,0,0,1,1,1,0,0,0,1,1,1,0,0,0,0,1,0,0,1,1,1,0,1,0,0,1,0,0,0,0,0,1,0,0,0,0,1,1,0,1,1,0,1,0,0,1,1,0,1,0,0,0,0,0,1,1,1,0,0,0,0,1,1,1,0,1,0,1,0,1,0,0,0,1,1,1,0,0,0,0,0,1,1,1,0,0,0,0,0,1,0,1,0,1,1,0,0,1,0,1,1,1,1,1,1,1,1,0,1,0,0,0,0,1,1,0,0,1,0,1,0,1,1,0,0,0,0,1,1,0,0,1,0,0,0,0,1,0,1,0,0,0,1,1,1,0,0,0,1,0,0,0,0,1,0,1,1,0,0,1,1,0,0,0,0,0,0,1,0,1,0,1,1,0,0,1,0,1,1,1,1,0,1,1,1,1,0,0,1,1,1,1,1,0,1,0,0,1,1,0,1,0,0,1,1,0,0,0,1,1,0,0,0,0,1,0,0,1,1,0,0,1,0,1,0,0,1,1,0,1,0,1,0,0,0,1,1,1,1,1,0,0,0,1,1,0,0,0,0,0,1,1,0,0,0,0,1,0,0,0,1,0,0,1,1,0,0,0,0,1,0,0,0,0,0,0,0,0,1,1,1,0,1,1,1,0,0,0,1,0,1,1,0,1,1,0,0,1,1,1,1,0,1,0,0,0,1,1,0,1,0,0,0,0,1,0,0,0,0,1,0,1,1,1,1,1,0,0,1,1,0,1,0,0,1,1,1,0,1,0,0,1,1,1,1,0,0,1,0,0,0,0,0,0,1,1,0,0,0,0,0,0,0,1,1,0,0,0,0,0,0,0,0,0,1,0,0,0,0,1,1,0,0,0,1,1,0,0,0,0,0,0,0,0,0,1,0,0,0,0,0,1,1,1,0,1,0,0,0,0,0,0,0,1,1,1,0,0,0,0,1,0,0,1,1,0,1,0,1,0,1,0,1,0,0,0,1,1,1,1,0,0,0,0,1,0,1,0,1,0,1,0,1,0,1,0,0,1,1,1,1,1,0,0,1,1,1,1,0,1,0,0,0,0,0,0,0,0,0,1,1,1,1,1,1,0,0,1,1,0,0,0,0,0,0,1,0,0,0,0,0,0,0,1,1,1,1,1,0,1,1,1,1,0,0,0,0,0,1,1,1,1,0,0,1,1,1,0,0,0,0,1,0,1,1,0,0,1,1,1,0,1,0,1,1,1,1,1,0,1,1,0,0,0,0,0,0,1,1,1,1,0,0,0,0,0,1,1,0,0,1,1,0,0,0,0,0,0,1,1,1,0,1,0,1,1,0,0,1,0,0,1,0,0,0,0,1,1,0,0,0,1,0,1,0,0,1,0,0,0,0,1,0,1,1,0,1,0,0,1,1,0,1,1,0,0,1,1,0,1,0,0,0,1,0,0,0,0,0,0,0,0,1,1,0,0,0,0,1,1,1,1,1,0,1,0,0,0,1,1,1,1,0,1,1,0,0,1,0,1,1,1,0,0,0,1,1,0,1,0,0,0,0,1,1,0,0,0,0,1,0,0,1,1,1,0,0,0,0,1,0,1,1,0,0,1,1,1,0,0,0,0,0,1,0,0,0,0,1,0,0,1,0,1,1,0,1,1,0,0,0,1,1,0,0,0,1,0,1,1,1,1,0,0,1,1,1,1,0,1,1,0,1,1,0,0,0,0,0,1,0,0,0,1,1,1,0,1,1,0,1,1,1,0,0,1,0,0,1,1,0,0,0,0,0,1,1,1,0,0,0,1,0,0,0,1,1,1,1,0,1,1,0,0,1,1,0,0,0,0,0,0,0,0,1,1,0,0,0,0,0,1,1,1,0,1,1,0,1,0,0,1,0,1,0,0,0,1,0,0,1,0,0,0,0,1,0,0,0,1,0,0,0,0,1,0,0,1,1,1,0,1,0,0,0,0,0,1,1,0,0,1,0,1,1,1,0,1,0,1,0,0,0,0,0,1,0,0,1,1,0,0,1,0,0,0,1,1,0,1,0,0,1,0,0,1,1,1,0,0,1,1,0,1,0,1,1,1,1,0,1,1,0,0,1,0,1,1,0,0,1,0,1,1,0,0,1,1,1,1,0,0,0,0,0,0,1,0,0,1,1,1,0,0,0,0,0,1,1,1,0,1,1,0,1,0,1,0,0,1,0,1,0,0,1,0,0,0,1,0,0,0,0,1,0,0,1,0,0,0,0,1,0,1,0,0,1,1,0,0,1,1,0,0,0,0,0,0,0,1,0,0,0,1,1,1,1,1,0,0,1,0,1,0,1,0,1,1,0,1,0,0,1,1,0,1,1,0,0,0,0,0,0,0,0,1,0,0,1,1,0,0,1,1,1,0,1,1,0,0,0,1,0,0,1,0,0,1,1,0,1,1,0,0,1,0,0,0,0,1,1,0,0,0,1,1,1,0,0,0,1,0,0,0,1,0,0,1,0,0,1,1,1,0,0,0,1,1,1,1,0,1,0,1,1,0,0,1,0,0,1,1,0,0,1,0,1,0,0,0,1,0,1,1,1,1,0,0,1,0,0,0,1,1,1,0,1,0,0,0,1,1,0,1,0,0,1,0,1,0,0,1,1,1,1,0,0,0,1,1,0,0,0,0,1,0,0,0,1,0,1,1,0,0,1,0,1,0,0,0,1,0,1,0,0,1,1,0,0,0,1,0,1,1,0,0,0,0,0,0,0,0,0,0,0,1,0,1,1,0,0,0,1,0,0,0,0,1,1,0,0,0,0,0,0,1,1,0,1,1,0,1,1,1,0,0,1,0,1,0,0,1,0,0,0,0,1,0,0,1,0,1,1,0,0,1,1,0,0,1,1,0,0,1,0,0,1,1,0,1,0,1,0,1,0,0,1,1,0,1,0,1,0,1,0,0,0,1,1,0,0,1,1,0,0,0,0,0,0,0,1,0,0,1,0,0,1,1,1,0,1,1,0,1,0,0,0,1,1,0,0,0,1,1,1,0,1,1,0,0,0,0,0,0,0,0,1,0,0,0,0,1,1,0,0,1,0,0,0,0,1,0,0,1,1,0,0,0,1,0,0,1,0,0,1,0,0,0,1,0,0,0,0,0,1,1,0,0,1,0,0,1,0,1,0,1,0,1,1,0,0,0,0,0,0,0,1,1,1,1,0,0,0,0,0,1,1,1,1,0,1,1,1,0,0,0,0,0,1,0,1,1,0,1,1,1,0,1,0,0,0,0,0,0,1,1,1,1,1,0,0,0,1,0,0,1,0,1,1,0,0,0,0,1,0,0,1,1,0,0,0,0,0,0,1,1,0,1,1,0,0,0,1,0,0,0,0,0,0,0,1,1,0,0,1,0,1,0,0,0,0,0,1,0,1,1,0,0,0,1,0,0,1,0,0,0,0,1,0,0,1,0,0,0,1,0,1,0,0,0,0,0,0,1,0,1,1,0,1,1,0,1,0,1,0,1,1,0,0,1,1,1,1,1,0,1,0,0,1,0,1,0,1,0,0,1,0,0,1,1,1,1,0,0,1,0,0,0,1,1,1,0,0,1,0,0,0,0,1,1,0,1,1,0,1,0,1,0,1,0,1,0,1,0,0,0,0,1,1,0,0,1,1,0,1,0,0,0,0,0,0,0,1,0,0,0,0,1,1,0,0,0,0,0,1,0,0,0,0,1,0,0,0,1,0,0,0,0,0,1,1,0,1,0,1,0,0,0,1,0,0,0,0,1,1,0,0,0,1,0,1,1,0,0,0,0,1,0,1,0,1,1,0,1,1,0,1,0,0,0,1,0,0,0,0,0,1,0,0,1,0,1,1,1,1,0,0,1,0,1,0,0,1,1,1,1,0,0,1,1,0,0,1,1,1,0,0,0,0,0,0,1,0,1,0,0,0,0,0,1,0,0,0,1,1,1,0,1,0,1,0,1,1,0,0,0,0,1,1,0,0,1,0,1,1,1,1,0,1,0,0,0,1,0,0,1,1,1,0,0,1,0,0,0,0,0,1,0,0,0,1,1,1,1,0,1,0,1,1,0,0,0,0,0,0,1,1,0,0,0,0,1,0,0,1,1,0,1,1,0,1,1,0,0,1,1,1,0,0,1,1,0,0,1,1,0,1,0,0,0,1,1,1,1,0,0,0,0,0,1,1,1,0,1,1,0,1,0,0,0,0,0,0,1,0,1,0,1,0,1,0,0,0,0,1,1,1,0,1,0,0,0,0,1,0,0,0,0,0,1,0,1,1,1,0,1,0,0,0,0,0,0,0,0,1,1,0,0,1,1,1,0,0,0,0,0,1,1,0,1,0,0,0,1,1,0,0,0,1,1,1,1,0,0,0,0,0,0,0,0,0,0,0,1,0,0,0,0,0,0,1,1,0,0,0,1,0,1,1,1,1,0,0,0,0,1,1,0,0,0,1,0,1,0,1,1,0,0,0,0,0,0,1,0,1,0,0,1,0,1,1,0,1,0,0,1,0,0,0,0,1,0,1,1,1,0,1,0,1,1,0,1,0,0,1,1,1,0,0,0,1,0,0,1,1,0,1,1,0,1,1,1,1,0,0,0,1,1,1,0,0,0,0,0,1,1,1,1,0,0,0,1,1,0,1,1,1,0,1,0,0,1,0,1,1,0,1,1,0,0,0,1,1,0,0,0,1,0,0,1,1,1,0,0,1,1,1,0,0,0,1,0,1,1,0,1,0,1,0,1,1,0,0,0,0,0,1,1,0,0,1,1,0,0,0,0,1,1,1,1,1,0,1,0,1,0,0,0,1,1,0,0,1,0,0,0,0,1,1,1,0,1,0,0,1,1,0,1,1,0,0,0,0,0,0,1,0,1,0,1,0,1,1,1,1,1,0,1,0,0,1,1,1,1,0,0,1,1,1,0,1,0,0,0,1,1,0,0,0,0,0,1,1,1,0,0,1,0,1,1,0,1,1,1,1,0,0,1,0,1,0,0,0,0,1,0,1,0,0,0,1,0,0,1,1,1,0,1,1,0,0,1,1,0,0,0,1,0,0,1,0,0,1,0,1,1,0,1,1,0,1,1,0,0,0,0,0,1,1,1,0,1,0,0,0,0,1,0,0,0,0,0,0,0,0,1,1,0,1,0,0,0,1,0,0,0,1,1,0,0,0,1,0,1,0,1,1,0,1,0,1,0,0,1,1,0,1,1,0,0,0,0,0,0,0,1,0,1,1,0,0,0,1,1,0,1,0,0,0,1,1,1,0,1,1,1,0,0,1,0,0,1,0,0,1,1,0,0,1,0,1,0,0,1,0,0,0,0,0,0,1,1,1,1,0,1,0,0,0,1,1,1,0,0,0,0,0,0,0,1,1,0,0,0,0,1,1,0,0,1,0,1,0,0,0,1,0,1,0,1,0,1,0,0,1,0,1,0,1,0,0,0,0,1,0,0,1,0,1,0,1,1,0,1,1,0,1,0,0,0,1,0,0,1,0,0,0,0,0,0,1,1,1,0,1,0,1,0,1,0,1,1,1,1,0,0,1,0,1,0,0,0,0,0,0,0,0,1,1,0,0,1,0,0,0,1,0,0,0,1,1,0,1,0,1,1,1,0,1,0,0,0,0,1,0,1,1,0,0,1,0,1,1,1,1,0,0,1,0,0,1,1,1,0,0,1,0,1,1,1,1,0,1,1,0,1,1,0,1,0,1,0,1,1,0,0,0,0,0,1,1,0,0,1,1,0,1,1,0,1,0,0,1,0,1,0,0,1,1,1,0,0,1,0,1,0,0,1,1,0,1,0,0,0,0,1,0,1,0,1,0,1,0,0,0,1,0,0,0,1,0,0,0,1,1,1,0,1,1,1,1,0,0,1,0,1,0,0,0,0,1,0,0,1,1,0,1,0,0,1,1,0,0,0,0,0,0,0,1,0,0,0,0,1,0,1,0,0,0,1,0,1,0,0,1,0,0,1,1,1,1,0,1,1,0,1,0,0,1,1,1,1,1,0,0,1,1,0,1,1,0,1,1,1,0,0,0,1,0,1,1,1,0,0,1,1,1,1,0,1,0,0,1,1,0,0,0,0,0,0,0,0,1,1,1,0,1,1,1,0,0,0,1,1,1,0,1,0,0,1,0,0,1,1,1,1,1,0,0,1,1,1,1,0,0,0,0,0,0,0,0,1,1,1,0,0,0,1,0,0,0,0,0,0,1,0,1,0,0,0,0,1,0,0,1,0,0,0,0,0,1,1,1,0,1,0,0,0,1,0,0,1,1,0,1,1,1,0,0,0,1,0,1,1,0,0,0,1,0,0,0,0,1,0,0,1,0,0,1,1,0,1,0,0,0,0,1,1,1,0,0,1,1,0,1,1,0,1,0,0,0,1,0,1,0,1,1,0,0,1,0,0,1,0,0,0,0,1,0,0,1,1,1,1,1,1,1,0,0,0,1,1,0,0,0,1,1,1,0,0,0,1,1,1,0,1,0,0,1,1,0,0,1,0,0,0,1,1,0,0,1,0,1,1,0,1,0,0,0,1,1,0,0,0,0,1,1,0,0,1,1,1,1,1,0,0,1,0,0,0,1,0,0,1,1,0,0,1,1,0,0,1,1,1,1,1,0,0,0,0,1,0,0,0,0,1,0,0,0,1,0,1,0,0,1],\"xaxis\":\"x\",\"yaxis\":\"y\",\"type\":\"histogram\"},{\"alignmentgroup\":\"True\",\"bingroup\":\"x\",\"hovertemplate\":\"Contract=1\\u003cbr\\u003eChurn=%{x}\\u003cbr\\u003ecount=%{y}\\u003cextra\\u003e\\u003c\\u002fextra\\u003e\",\"legendgroup\":\"1\",\"marker\":{\"color\":\"#EF553B\",\"pattern\":{\"shape\":\"\"}},\"name\":\"1\",\"offsetgroup\":\"1\",\"orientation\":\"v\",\"showlegend\":true,\"x\":[0,0,0,0,0,0,0,0,0,0,0,0,0,0,0,0,0,0,0,0,0,0,0,0,0,0,0,0,0,0,0,0,0,0,0,1,0,0,0,0,0,0,0,0,0,0,0,0,0,0,0,0,0,0,0,0,0,0,0,0,0,0,1,1,0,0,0,1,0,0,0,0,0,0,0,0,0,0,0,0,0,0,0,0,0,0,0,0,0,0,0,0,0,0,0,0,0,0,0,1,0,0,0,0,0,0,0,0,0,0,0,0,0,0,0,0,0,0,0,1,0,0,0,0,0,0,0,0,0,0,0,0,0,0,0,1,0,0,0,1,0,0,0,0,0,0,0,0,0,0,0,0,0,0,0,1,0,0,1,0,0,0,1,1,0,0,0,1,1,0,0,1,1,0,0,1,0,0,1,0,0,0,0,0,0,0,0,0,0,0,0,0,0,0,0,0,0,0,0,0,1,0,0,0,0,0,1,0,0,0,0,0,0,0,0,0,0,0,0,0,0,0,0,0,0,1,0,0,0,0,0,1,0,0,0,0,0,0,0,0,0,0,0,1,0,0,0,0,0,0,1,0,0,0,0,0,0,0,0,1,0,1,0,0,0,0,0,0,0,1,0,0,0,1,0,0,0,1,0,0,0,0,0,0,1,0,0,0,0,1,1,0,0,0,0,0,0,0,0,0,0,0,0,0,0,0,1,0,0,0,0,0,0,1,0,0,0,0,0,1,1,0,0,0,0,1,0,0,0,0,0,0,0,0,1,0,0,1,1,0,0,0,0,0,0,0,0,0,0,0,0,0,0,1,0,0,0,0,0,0,0,0,0,0,0,0,0,0,0,1,0,0,0,0,0,0,0,0,0,0,0,0,0,0,0,0,0,0,0,0,0,0,0,0,0,0,0,0,0,0,0,0,0,0,1,0,0,0,1,0,0,1,0,1,0,0,0,0,1,0,0,0,0,0,0,0,0,0,0,1,0,0,0,0,0,1,1,0,0,0,0,0,0,0,0,0,0,0,0,0,0,0,0,0,1,0,0,0,0,0,0,0,0,1,0,0,0,0,0,0,0,1,1,0,0,0,0,0,0,0,0,0,0,1,0,0,0,0,0,0,0,0,0,0,1,0,0,0,0,0,0,1,0,0,0,0,0,0,0,0,1,0,0,0,0,0,0,0,0,0,0,0,0,0,0,0,1,0,0,1,0,0,0,0,0,1,0,0,0,0,1,0,0,0,0,1,0,0,0,0,0,0,0,0,0,0,0,0,0,0,1,0,0,0,0,0,0,0,0,0,0,0,1,0,1,0,0,0,0,1,0,0,1,0,0,0,0,0,0,0,0,0,0,0,0,1,0,0,0,0,0,0,0,0,0,0,0,0,0,0,0,0,0,0,0,0,0,0,1,0,0,0,0,0,0,0,1,0,0,0,0,0,0,0,0,0,0,0,0,0,0,0,0,0,0,0,0,0,0,0,0,0,0,0,0,0,0,1,0,0,0,0,0,0,0,0,0,0,0,1,0,0,0,0,0,0,0,0,0,0,0,1,0,0,1,0,0,0,0,0,1,0,0,0,0,0,0,0,0,0,0,0,0,0,0,0,0,0,1,0,0,0,0,0,0,0,0,0,0,0,0,0,0,0,0,0,0,0,0,0,0,0,0,0,0,0,0,1,0,0,0,0,1,0,0,0,0,0,0,0,0,0,1,0,0,0,0,0,0,0,0,0,0,0,0,0,0,0,0,0,1,0,0,1,0,0,0,0,0,0,0,0,0,0,0,0,0,0,0,0,0,0,0,0,1,0,0,0,0,0,1,0,1,0,0,1,1,0,0,0,0,1,1,0,0,0,1,0,0,0,0,0,0,1,0,0,0,0,0,0,0,0,0,0,0,0,0,1,0,0,0,0,0,0,0,0,0,0,1,1,0,0,0,0,0,0,0,0,0,0,1,0,0,0,0,0,0,0,0,0,0,1,0,0,0,0,0,0,0,0,0,0,0,0,0,1,1,0,0,1,0,0,0,0,0,1,0,0,0,0,0,0,0,0,0,1,0,0,0,0,0,0,0,0,0,0,0,0,0,0,0,1,0,0,0,0,0,0,0,0,0,0,0,0,0,0,0,0,0,0,0,0,0,0,0,0,0,0,0,0,0,1,0,0,0,0,0,0,0,1,1,0,0,0,0,0,0,0,0,0,0,0,0,1,0,0,0,0,0,0,0,0,0,0,1,0,0,1,0,1,0,0,0,1,0,0,0,0,0,0,0,0,0,0,0,0,0,0,0,0,0,0,0,0,0,0,0,0,1,0,0,0,0,0,0,0,0,1,0,1,0,1,0,0,0,0,0,0,0,0,0,0,0,0,1,0,0,1,0,0,0,1,0,0,0,1,1,0,1,0,0,0,0,0,0,0,0,0,0,0,0,0,0,0,0,1,1,0,0,0,0,0,1,0,0,0,0,0,0,0,1,0,0,0,0,0,0,0,0,0,0,0,0,0,0,0,0,0,0,0,0,0,0,0,1,0,0,1,0,0,0,0,0,0,0,0,0,1,0,0,0,0,0,0,0,0,0,0,0,1,0,0,1,0,1,0,0,0,0,0,0,0,0,0,0,0,0,0,0,0,0,0,0,0,0,0,0,0,0,0,0,0,0,0,0,0,0,0,0,0,0,0,0,0,0,0,1,0,0,0,1,0,0,0,0,0,0,1,0,0,0,1,0,0,0,0,0,0,0,1,0,0,0,0,0,0,1,0,0,1,0,1,0,0,0,0,0,0,0,1,0,0,0,1,0,0,0,1,0,0,0,0,0,0,0,1,0,0,0,1,0,0,0,0,0,0,0,0,0,0,0,0,0,0,1,0,0,0,0,0,0,0,0,0,0,0,0,0,0,0,0,1,0,0,1,0,0,0,0,0,0,0,0,0,0,0,0,0,0,0,0,0,0,0,0,0,0,0,0,0,0,0,0,1,0,0,0,0,1,0,0,0,0,1,0,0,0,0,0,1,0,0,0,0,0,0,0,0,0,0,0,0,0,1,0,0,1,0,0,0,0,0,0,0,0,0,0,0,0,0,0,0,1,0,0,0,1,1,0,0,0,0,0,0,0,0,0,0,0,0,0,0,0,1,1,0,0,0,0,0,0,0,0,0,0,0,0,0,0,0,0,0,0,0,0,0,0,0,0,0,0,0,0,0,0,0,0,1,0,0,0,1,1,1,0,0,0,0,0,0,0,1,0,0,0,0,0,0,0,0,0,0,0,1,0,0,0,0,0,0,0,0,0,0,0,0,1,0,0,0,0,0,0,0,1,0,0,1,0,0,0,0,0],\"xaxis\":\"x\",\"yaxis\":\"y\",\"type\":\"histogram\"},{\"alignmentgroup\":\"True\",\"bingroup\":\"x\",\"hovertemplate\":\"Contract=2\\u003cbr\\u003eChurn=%{x}\\u003cbr\\u003ecount=%{y}\\u003cextra\\u003e\\u003c\\u002fextra\\u003e\",\"legendgroup\":\"2\",\"marker\":{\"color\":\"#00cc96\",\"pattern\":{\"shape\":\"\"}},\"name\":\"2\",\"offsetgroup\":\"2\",\"orientation\":\"v\",\"showlegend\":true,\"x\":[0,0,0,0,0,0,0,0,0,0,0,0,0,0,0,0,0,0,0,0,0,0,0,0,1,0,0,0,0,0,0,0,0,0,0,0,0,0,0,0,0,0,0,0,0,0,0,0,0,0,0,0,0,0,0,0,0,0,0,0,0,0,0,0,0,0,0,0,0,0,1,0,0,0,0,0,0,0,0,0,0,0,1,0,0,0,0,0,0,0,0,0,0,0,0,0,0,0,0,0,0,0,0,0,0,0,0,0,0,0,0,0,0,0,0,0,0,0,0,0,0,0,0,0,0,0,0,0,0,0,0,0,0,0,0,0,0,0,0,0,0,0,0,0,0,0,0,0,0,0,0,0,0,0,0,0,0,0,0,0,0,0,0,0,0,0,0,0,0,0,0,0,0,0,0,0,0,0,0,0,0,0,0,0,0,0,0,0,0,0,0,0,0,0,0,0,0,0,0,1,0,0,0,0,0,0,0,0,0,0,0,0,0,0,0,0,0,0,0,0,0,0,0,0,0,0,0,0,0,0,0,0,0,0,0,0,0,0,1,0,0,0,0,0,0,0,0,0,0,0,0,0,0,0,0,0,0,0,0,0,0,0,0,0,0,0,0,0,0,0,0,0,0,0,0,0,0,0,0,0,0,0,0,0,0,0,0,0,0,0,0,0,0,0,0,0,0,0,0,0,0,0,0,0,0,0,0,0,0,0,0,0,0,0,0,0,0,0,0,0,0,0,0,0,0,0,0,0,0,0,0,0,0,0,0,0,0,0,0,0,0,0,0,0,0,0,0,0,0,0,0,0,0,0,0,0,0,0,0,0,0,0,0,0,0,0,0,0,0,0,0,0,0,0,0,0,0,0,0,0,0,0,0,0,0,0,0,0,0,0,0,0,0,0,0,0,0,0,0,0,0,0,0,0,0,0,0,0,0,0,0,0,0,0,0,0,0,0,0,0,0,0,0,0,0,0,0,0,0,0,0,0,0,0,0,0,0,0,0,0,0,0,0,0,0,0,0,1,0,0,0,0,0,0,0,0,0,0,0,0,0,0,0,0,0,0,0,0,0,0,0,0,0,0,0,0,0,0,0,0,0,0,0,0,1,0,0,0,0,0,0,0,0,0,0,0,0,0,0,0,0,0,0,0,0,0,0,0,0,0,0,0,0,0,0,0,0,0,0,0,0,0,0,0,0,0,0,0,0,0,0,0,0,0,0,0,0,0,0,0,0,0,0,0,0,0,0,0,0,0,0,0,0,0,0,0,1,0,0,0,0,0,0,0,0,0,0,0,0,0,0,0,0,0,0,0,0,0,0,0,0,0,0,0,0,0,0,1,0,0,0,0,0,0,0,0,0,0,0,0,0,0,0,0,0,0,0,0,0,0,0,0,0,0,0,0,0,0,0,0,0,0,0,0,0,0,0,0,0,0,0,0,0,0,0,0,0,0,0,0,0,0,0,0,0,0,0,0,0,0,0,0,0,0,0,0,0,0,0,0,0,0,0,0,0,0,0,0,0,0,0,0,0,0,0,0,0,0,0,0,0,0,0,0,0,1,0,0,0,0,0,0,0,0,0,0,0,0,0,0,0,0,0,0,0,0,0,0,0,0,0,0,0,0,0,0,0,0,0,0,0,0,0,0,0,0,0,0,0,0,0,0,0,0,0,0,0,0,0,0,0,0,0,0,0,0,0,0,0,0,0,0,0,0,0,1,0,0,0,0,0,0,0,0,0,0,0,0,0,1,0,0,0,0,0,0,0,0,0,0,0,0,0,0,0,0,0,0,0,0,0,0,0,0,0,0,0,0,0,0,0,0,0,0,0,0,0,0,0,0,0,0,0,0,0,0,0,0,0,0,0,0,0,0,0,0,0,0,0,0,0,0,0,0,0,0,0,0,1,0,0,0,0,0,0,0,0,0,0,0,0,0,0,0,0,0,0,0,0,0,0,0,0,0,0,0,0,0,0,0,0,0,0,0,0,0,0,0,0,0,0,0,1,0,0,0,0,0,0,0,0,0,0,0,0,0,0,0,0,0,1,0,1,0,1,0,0,0,0,0,0,0,0,0,0,1,0,0,0,0,0,0,0,0,0,0,0,0,0,0,0,0,0,0,0,0,0,0,0,0,0,0,1,0,0,0,0,0,0,0,0,0,0,0,0,0,0,0,0,0,0,0,0,0,0,0,0,0,0,0,0,0,0,0,0,0,0,0,0,0,0,0,0,0,0,0,0,0,0,0,0,1,0,0,0,0,0,0,0,0,0,0,0,0,0,0,0,0,0,0,0,0,0,0,0,0,0,0,0,0,0,0,0,0,0,1,0,0,0,0,0,0,0,0,0,0,0,0,0,0,0,0,0,0,0,0,0,0,0,1,0,0,0,0,0,0,0,0,0,0,0,0,0,0,0,0,0,0,0,0,0,0,0,0,0,0,0,0,0,0,1,0,1,0,0,1,0,0,0,0,0,0,0,0,0,0,0,0,0,0,0,0,0,0,0,0,0,0,0,0,0,1,0,0,0,0,0,0,0,0,0,0,1,0,0,0,0,0,0,0,0,0,0,0,0,0,0,0,0,0,0,0,0,0,0,0,0,0,0,0,0,0,0,0,1,0,0,0,0,0,0,0,0,0,0,0,0,0,0,0,0,0,0,0,0,0,0,0,0,0,0,0,0,0,0,0,0,0,0,0,0,0,0,0,0,0,0,0,0,0,0,0,0,0,0,1,0,0,0,0,0,0,0,0,0,0,0,0,0,0,0,0,0,0,0,0,0,0,0,0,0,0,0,0,0,0,0,0,0,0,0,0,0,0,0,0,0,0,0,0,0,1,0,0,0,0,0,0,0,0,0,0,0,0,0,0,0,0,0,0,1,0,0,0,0,0,0,0,0,0,0,0,0,0,0,0,0,0,0,0,0,0,0,0,0,0,0,0,0,0,0,1,0,0,0,0,0,0,0,0,0,0,0,0,0,0,0,0,0,0,0,0,0,0,0,1,0,0,0,0,0,0,0,0,0,1,1,0,1,0,0,0,0,0,0,0,0,0,0,0,0,0,0,0,0,0,0,0,0,0,0,0,0,0,0,0,0,0,0,0,0,0,0,0,0,0,0,0,0,0,0,0,0,0,0,0,0,0,0,0,0,0,0,0,0,0,0,0,0,0,0,0,0,0,0,0,0,0,0,0,0,0,0,0,0,0,0,0,0,0,0,0,0,0,1,0,0,0,0,0,0,0,0,0,0,0,0,0,0,0,0,0,0,0,1,0,0,0,0,0,0,0,0,0,0,0,0,0,0,0,0,0,0,0,0,0,0,0,0,0,0,0,0,0,0,0,0,0,0,0,0,0,0,0,0,0,0,0,0,0,0,0,0,0,0,0,0,0,0,0,0,0,0,0,0,0,0,0,0,1,1,0,0,0,0,0,0,0,0,0,0,0,0,0,0,0,0,0,0,0,0,0,0,0,0,0,0,0,1,0,0,0,0,1,0,0,0,0,0,1,0,0,0,0,0,0,0,0,0,0,0,0,0,0,0,0,0,0,0,0,0,0,0,0,0,0,0,0,0,0,0,0,0,0,0,0,0,0,0,0,0,0,0,0,0,0,0,0,0,0,0,0,0,0,0,0,1,0,0,0,0,0,0,0,0,0,0,0,0,0,1,0,0,0,0,0,0,0,0,0,0,0,0,0,0,0,0,0,1,0,0,0,0,0,0,0,1,0,0,0,0,0,0,0,0,0,0,0,0,0,0,0,0,0,0,0,0,0,0,0,0,0,0,0,0,0,0,0,1,0,0,0,0,0,0,0,0,0,0,0,0,0,0,0,0],\"xaxis\":\"x\",\"yaxis\":\"y\",\"type\":\"histogram\"}],                        {\"template\":{\"data\":{\"histogram2dcontour\":[{\"type\":\"histogram2dcontour\",\"colorbar\":{\"outlinewidth\":0,\"ticks\":\"\"},\"colorscale\":[[0.0,\"#0d0887\"],[0.1111111111111111,\"#46039f\"],[0.2222222222222222,\"#7201a8\"],[0.3333333333333333,\"#9c179e\"],[0.4444444444444444,\"#bd3786\"],[0.5555555555555556,\"#d8576b\"],[0.6666666666666666,\"#ed7953\"],[0.7777777777777778,\"#fb9f3a\"],[0.8888888888888888,\"#fdca26\"],[1.0,\"#f0f921\"]]}],\"choropleth\":[{\"type\":\"choropleth\",\"colorbar\":{\"outlinewidth\":0,\"ticks\":\"\"}}],\"histogram2d\":[{\"type\":\"histogram2d\",\"colorbar\":{\"outlinewidth\":0,\"ticks\":\"\"},\"colorscale\":[[0.0,\"#0d0887\"],[0.1111111111111111,\"#46039f\"],[0.2222222222222222,\"#7201a8\"],[0.3333333333333333,\"#9c179e\"],[0.4444444444444444,\"#bd3786\"],[0.5555555555555556,\"#d8576b\"],[0.6666666666666666,\"#ed7953\"],[0.7777777777777778,\"#fb9f3a\"],[0.8888888888888888,\"#fdca26\"],[1.0,\"#f0f921\"]]}],\"heatmap\":[{\"type\":\"heatmap\",\"colorbar\":{\"outlinewidth\":0,\"ticks\":\"\"},\"colorscale\":[[0.0,\"#0d0887\"],[0.1111111111111111,\"#46039f\"],[0.2222222222222222,\"#7201a8\"],[0.3333333333333333,\"#9c179e\"],[0.4444444444444444,\"#bd3786\"],[0.5555555555555556,\"#d8576b\"],[0.6666666666666666,\"#ed7953\"],[0.7777777777777778,\"#fb9f3a\"],[0.8888888888888888,\"#fdca26\"],[1.0,\"#f0f921\"]]}],\"heatmapgl\":[{\"type\":\"heatmapgl\",\"colorbar\":{\"outlinewidth\":0,\"ticks\":\"\"},\"colorscale\":[[0.0,\"#0d0887\"],[0.1111111111111111,\"#46039f\"],[0.2222222222222222,\"#7201a8\"],[0.3333333333333333,\"#9c179e\"],[0.4444444444444444,\"#bd3786\"],[0.5555555555555556,\"#d8576b\"],[0.6666666666666666,\"#ed7953\"],[0.7777777777777778,\"#fb9f3a\"],[0.8888888888888888,\"#fdca26\"],[1.0,\"#f0f921\"]]}],\"contourcarpet\":[{\"type\":\"contourcarpet\",\"colorbar\":{\"outlinewidth\":0,\"ticks\":\"\"}}],\"contour\":[{\"type\":\"contour\",\"colorbar\":{\"outlinewidth\":0,\"ticks\":\"\"},\"colorscale\":[[0.0,\"#0d0887\"],[0.1111111111111111,\"#46039f\"],[0.2222222222222222,\"#7201a8\"],[0.3333333333333333,\"#9c179e\"],[0.4444444444444444,\"#bd3786\"],[0.5555555555555556,\"#d8576b\"],[0.6666666666666666,\"#ed7953\"],[0.7777777777777778,\"#fb9f3a\"],[0.8888888888888888,\"#fdca26\"],[1.0,\"#f0f921\"]]}],\"surface\":[{\"type\":\"surface\",\"colorbar\":{\"outlinewidth\":0,\"ticks\":\"\"},\"colorscale\":[[0.0,\"#0d0887\"],[0.1111111111111111,\"#46039f\"],[0.2222222222222222,\"#7201a8\"],[0.3333333333333333,\"#9c179e\"],[0.4444444444444444,\"#bd3786\"],[0.5555555555555556,\"#d8576b\"],[0.6666666666666666,\"#ed7953\"],[0.7777777777777778,\"#fb9f3a\"],[0.8888888888888888,\"#fdca26\"],[1.0,\"#f0f921\"]]}],\"mesh3d\":[{\"type\":\"mesh3d\",\"colorbar\":{\"outlinewidth\":0,\"ticks\":\"\"}}],\"scatter\":[{\"fillpattern\":{\"fillmode\":\"overlay\",\"size\":10,\"solidity\":0.2},\"type\":\"scatter\"}],\"parcoords\":[{\"type\":\"parcoords\",\"line\":{\"colorbar\":{\"outlinewidth\":0,\"ticks\":\"\"}}}],\"scatterpolargl\":[{\"type\":\"scatterpolargl\",\"marker\":{\"colorbar\":{\"outlinewidth\":0,\"ticks\":\"\"}}}],\"bar\":[{\"error_x\":{\"color\":\"#2a3f5f\"},\"error_y\":{\"color\":\"#2a3f5f\"},\"marker\":{\"line\":{\"color\":\"#E5ECF6\",\"width\":0.5},\"pattern\":{\"fillmode\":\"overlay\",\"size\":10,\"solidity\":0.2}},\"type\":\"bar\"}],\"scattergeo\":[{\"type\":\"scattergeo\",\"marker\":{\"colorbar\":{\"outlinewidth\":0,\"ticks\":\"\"}}}],\"scatterpolar\":[{\"type\":\"scatterpolar\",\"marker\":{\"colorbar\":{\"outlinewidth\":0,\"ticks\":\"\"}}}],\"histogram\":[{\"marker\":{\"pattern\":{\"fillmode\":\"overlay\",\"size\":10,\"solidity\":0.2}},\"type\":\"histogram\"}],\"scattergl\":[{\"type\":\"scattergl\",\"marker\":{\"colorbar\":{\"outlinewidth\":0,\"ticks\":\"\"}}}],\"scatter3d\":[{\"type\":\"scatter3d\",\"line\":{\"colorbar\":{\"outlinewidth\":0,\"ticks\":\"\"}},\"marker\":{\"colorbar\":{\"outlinewidth\":0,\"ticks\":\"\"}}}],\"scattermapbox\":[{\"type\":\"scattermapbox\",\"marker\":{\"colorbar\":{\"outlinewidth\":0,\"ticks\":\"\"}}}],\"scatterternary\":[{\"type\":\"scatterternary\",\"marker\":{\"colorbar\":{\"outlinewidth\":0,\"ticks\":\"\"}}}],\"scattercarpet\":[{\"type\":\"scattercarpet\",\"marker\":{\"colorbar\":{\"outlinewidth\":0,\"ticks\":\"\"}}}],\"carpet\":[{\"aaxis\":{\"endlinecolor\":\"#2a3f5f\",\"gridcolor\":\"white\",\"linecolor\":\"white\",\"minorgridcolor\":\"white\",\"startlinecolor\":\"#2a3f5f\"},\"baxis\":{\"endlinecolor\":\"#2a3f5f\",\"gridcolor\":\"white\",\"linecolor\":\"white\",\"minorgridcolor\":\"white\",\"startlinecolor\":\"#2a3f5f\"},\"type\":\"carpet\"}],\"table\":[{\"cells\":{\"fill\":{\"color\":\"#EBF0F8\"},\"line\":{\"color\":\"white\"}},\"header\":{\"fill\":{\"color\":\"#C8D4E3\"},\"line\":{\"color\":\"white\"}},\"type\":\"table\"}],\"barpolar\":[{\"marker\":{\"line\":{\"color\":\"#E5ECF6\",\"width\":0.5},\"pattern\":{\"fillmode\":\"overlay\",\"size\":10,\"solidity\":0.2}},\"type\":\"barpolar\"}],\"pie\":[{\"automargin\":true,\"type\":\"pie\"}]},\"layout\":{\"autotypenumbers\":\"strict\",\"colorway\":[\"#636efa\",\"#EF553B\",\"#00cc96\",\"#ab63fa\",\"#FFA15A\",\"#19d3f3\",\"#FF6692\",\"#B6E880\",\"#FF97FF\",\"#FECB52\"],\"font\":{\"color\":\"#2a3f5f\"},\"hovermode\":\"closest\",\"hoverlabel\":{\"align\":\"left\"},\"paper_bgcolor\":\"white\",\"plot_bgcolor\":\"#E5ECF6\",\"polar\":{\"bgcolor\":\"#E5ECF6\",\"angularaxis\":{\"gridcolor\":\"white\",\"linecolor\":\"white\",\"ticks\":\"\"},\"radialaxis\":{\"gridcolor\":\"white\",\"linecolor\":\"white\",\"ticks\":\"\"}},\"ternary\":{\"bgcolor\":\"#E5ECF6\",\"aaxis\":{\"gridcolor\":\"white\",\"linecolor\":\"white\",\"ticks\":\"\"},\"baxis\":{\"gridcolor\":\"white\",\"linecolor\":\"white\",\"ticks\":\"\"},\"caxis\":{\"gridcolor\":\"white\",\"linecolor\":\"white\",\"ticks\":\"\"}},\"coloraxis\":{\"colorbar\":{\"outlinewidth\":0,\"ticks\":\"\"}},\"colorscale\":{\"sequential\":[[0.0,\"#0d0887\"],[0.1111111111111111,\"#46039f\"],[0.2222222222222222,\"#7201a8\"],[0.3333333333333333,\"#9c179e\"],[0.4444444444444444,\"#bd3786\"],[0.5555555555555556,\"#d8576b\"],[0.6666666666666666,\"#ed7953\"],[0.7777777777777778,\"#fb9f3a\"],[0.8888888888888888,\"#fdca26\"],[1.0,\"#f0f921\"]],\"sequentialminus\":[[0.0,\"#0d0887\"],[0.1111111111111111,\"#46039f\"],[0.2222222222222222,\"#7201a8\"],[0.3333333333333333,\"#9c179e\"],[0.4444444444444444,\"#bd3786\"],[0.5555555555555556,\"#d8576b\"],[0.6666666666666666,\"#ed7953\"],[0.7777777777777778,\"#fb9f3a\"],[0.8888888888888888,\"#fdca26\"],[1.0,\"#f0f921\"]],\"diverging\":[[0,\"#8e0152\"],[0.1,\"#c51b7d\"],[0.2,\"#de77ae\"],[0.3,\"#f1b6da\"],[0.4,\"#fde0ef\"],[0.5,\"#f7f7f7\"],[0.6,\"#e6f5d0\"],[0.7,\"#b8e186\"],[0.8,\"#7fbc41\"],[0.9,\"#4d9221\"],[1,\"#276419\"]]},\"xaxis\":{\"gridcolor\":\"white\",\"linecolor\":\"white\",\"ticks\":\"\",\"title\":{\"standoff\":15},\"zerolinecolor\":\"white\",\"automargin\":true,\"zerolinewidth\":2},\"yaxis\":{\"gridcolor\":\"white\",\"linecolor\":\"white\",\"ticks\":\"\",\"title\":{\"standoff\":15},\"zerolinecolor\":\"white\",\"automargin\":true,\"zerolinewidth\":2},\"scene\":{\"xaxis\":{\"backgroundcolor\":\"#E5ECF6\",\"gridcolor\":\"white\",\"linecolor\":\"white\",\"showbackground\":true,\"ticks\":\"\",\"zerolinecolor\":\"white\",\"gridwidth\":2},\"yaxis\":{\"backgroundcolor\":\"#E5ECF6\",\"gridcolor\":\"white\",\"linecolor\":\"white\",\"showbackground\":true,\"ticks\":\"\",\"zerolinecolor\":\"white\",\"gridwidth\":2},\"zaxis\":{\"backgroundcolor\":\"#E5ECF6\",\"gridcolor\":\"white\",\"linecolor\":\"white\",\"showbackground\":true,\"ticks\":\"\",\"zerolinecolor\":\"white\",\"gridwidth\":2}},\"shapedefaults\":{\"line\":{\"color\":\"#2a3f5f\"}},\"annotationdefaults\":{\"arrowcolor\":\"#2a3f5f\",\"arrowhead\":0,\"arrowwidth\":1},\"geo\":{\"bgcolor\":\"white\",\"landcolor\":\"#E5ECF6\",\"subunitcolor\":\"white\",\"showland\":true,\"showlakes\":true,\"lakecolor\":\"white\"},\"title\":{\"x\":0.05},\"mapbox\":{\"style\":\"light\"}}},\"xaxis\":{\"anchor\":\"y\",\"domain\":[0.0,1.0],\"title\":{\"text\":\"Churn\"}},\"yaxis\":{\"anchor\":\"x\",\"domain\":[0.0,1.0],\"title\":{\"text\":\"count\"}},\"legend\":{\"title\":{\"text\":\"Contract\"},\"tracegroupgap\":0},\"title\":{\"text\":\"\\u003cb\\u003eCustomer contract distribution\\u003cb\\u003e\"},\"barmode\":\"group\",\"width\":700,\"height\":500,\"bargap\":0.1},                        {\"responsive\": true}                    ).then(function(){\n",
              "                            \n",
              "var gd = document.getElementById('a6fdb0ca-ae1c-4080-948b-4d1f688ce849');\n",
              "var x = new MutationObserver(function (mutations, observer) {{\n",
              "        var display = window.getComputedStyle(gd).display;\n",
              "        if (!display || display === 'none') {{\n",
              "            console.log([gd, 'removed!']);\n",
              "            Plotly.purge(gd);\n",
              "            observer.disconnect();\n",
              "        }}\n",
              "}});\n",
              "\n",
              "// Listen for the removal of the full notebook cells\n",
              "var notebookContainer = gd.closest('#notebook-container');\n",
              "if (notebookContainer) {{\n",
              "    x.observe(notebookContainer, {childList: true});\n",
              "}}\n",
              "\n",
              "// Listen for the clearing of the current output cell\n",
              "var outputEl = gd.closest('.output');\n",
              "if (outputEl) {{\n",
              "    x.observe(outputEl, {childList: true});\n",
              "}}\n",
              "\n",
              "                        })                };                            </script>        </div>\n",
              "</body>\n",
              "</html>"
            ]
          },
          "metadata": {}
        }
      ],
      "source": [
        "# Customer contract distribution\n",
        "'''\n",
        "0. Month to Month\n",
        "1. One Year\n",
        "2. Two Year\n",
        "'''\n",
        "\n",
        "fig = px.histogram(data, x=\"Churn\", color=\"Contract\", barmode=\"group\", title=\"<b>Customer contract distribution<b>\")\n",
        "fig.update_layout(width=700, height=500, bargap=0.1)\n",
        "fig.show()"
      ]
    },
    {
      "cell_type": "code",
      "execution_count": null,
      "metadata": {
        "id": "VuPTxze3W9bT"
      },
      "outputs": [],
      "source": [
        "processed_data = data"
      ]
    },
    {
      "cell_type": "code",
      "source": [
        "# prompt: save data after Processing\n",
        "\n",
        "# Save the processed DataFrame to a CSV file\n",
        "df_cleaned.to_csv('/content/drive/MyDrive/Text/processed_data.csv', index=False)\n",
        "\n",
        "print(\"Processed data saved to: /content/drive/MyDrive/Text/processed_data.csv\")\n"
      ],
      "metadata": {
        "colab": {
          "base_uri": "https://localhost:8080/"
        },
        "id": "TAF1SHfbTopa",
        "outputId": "15e37a12-8f59-4d4e-a441-a426fbc26311"
      },
      "execution_count": null,
      "outputs": [
        {
          "output_type": "stream",
          "name": "stdout",
          "text": [
            "Processed data saved to: /content/drive/MyDrive/Text/processed_data.csv\n"
          ]
        }
      ]
    },
    {
      "cell_type": "markdown",
      "metadata": {
        "id": "aH5bZiNmVe4x"
      },
      "source": [
        "**6. Data Split**"
      ]
    },
    {
      "cell_type": "code",
      "execution_count": null,
      "metadata": {
        "id": "gFl1Tf4qTdOo"
      },
      "outputs": [],
      "source": [
        "X = data.drop(columns=[\"Churn\"])\n",
        "y = data['Churn']"
      ]
    },
    {
      "cell_type": "code",
      "execution_count": null,
      "metadata": {
        "id": "zG2BgRf2YZMb"
      },
      "outputs": [],
      "source": [
        "X_train, X_test, y_train, y_test = train_test_split(X, y, test_size=0.2, random_state=42)"
      ]
    },
    {
      "cell_type": "code",
      "execution_count": null,
      "metadata": {
        "colab": {
          "base_uri": "https://localhost:8080/"
        },
        "id": "3pLiBigmZ0Gi",
        "outputId": "d73c582a-55a6-4d28-ae6b-ee542b0c7a4d"
      },
      "outputs": [
        {
          "output_type": "stream",
          "name": "stdout",
          "text": [
            "Number of training samples: 5634\n",
            "Number of testing samples: 1409\n"
          ]
        }
      ],
      "source": [
        "print(f\"Number of training samples: {len(X_train)}\")\n",
        "print(f\"Number of testing samples: {len(X_test)}\")"
      ]
    },
    {
      "cell_type": "code",
      "execution_count": null,
      "metadata": {
        "colab": {
          "base_uri": "https://localhost:8080/",
          "height": 428
        },
        "id": "PmjgPmgbp4in",
        "outputId": "7667a911-bba7-490b-a5a3-6fbbb362b595"
      },
      "outputs": [
        {
          "output_type": "display_data",
          "data": {
            "text/plain": [
              "<Figure size 640x480 with 1 Axes>"
            ],
            "image/png": "[encoded data removed]"
          },
          "metadata": {}
        }
      ],
      "source": [
        "labels = ['Train', 'Test']\n",
        "sizes = [len(X_train), len(X_test)]\n",
        "colors = ['lightblue', 'lightcoral']\n",
        "explode = (0.1, 0)  # To explode the first slice\n",
        "\n",
        "def func(pct, allvals):\n",
        "    absolute = int(pct/100.*sum(allvals))\n",
        "    return \"{:.1f}%\\n({:d})\".format(pct, absolute)\n",
        "\n",
        "plt.pie(sizes, explode=explode, labels=labels, colors=colors,\n",
        "        autopct=lambda pct: func(pct, sizes), shadow=True, startangle=90)\n",
        "\n",
        "plt.axis('equal')\n",
        "plt.title('Dataset Split (Train vs. Test)')\n",
        "plt.legend(loc='upper left')\n",
        "plt.show()"
      ]
    },
    {
      "cell_type": "markdown",
      "metadata": {
        "id": "QdQhOaywLx94"
      },
      "source": [
        "## **Deep Learning Model using PyTorch**\n",
        "* **Define PyToch Model**\n",
        "* **Define Loss Function and Optimizers**\n",
        "* **Run a Training Loop**\n",
        "* **Evaluate the Model**\n",
        "* **Make Predictions**\n",
        "\n",
        "![download.png](data:image/png;base64,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)"
      ]
    },
    {
      "cell_type": "code",
      "source": [
        "# Data Split\n",
        "X = data.drop(columns=[\"Churn\"])\n",
        "y = data['Churn']\n",
        "\n",
        "X_train, X_test, y_train, y_test = train_test_split(X, y, test_size=0.2, random_state=42)\n",
        "print(f\"Number of training samples: {len(X_train)}\")\n",
        "print(f\"Number of testing samples: {len(X_test)}\")"
      ],
      "metadata": {
        "id": "paa-NRXPhkEk"
      },
      "execution_count": null,
      "outputs": []
    },
    {
      "cell_type": "code",
      "source": [],
      "metadata": {
        "id": "P4MHUkS_hj8S"
      },
      "execution_count": null,
      "outputs": []
    },
    {
      "cell_type": "code",
      "source": [
        "# Hyperparameters\n",
        "num_epochs = 100\n",
        "batch_size = 64\n",
        "learning_rate = 0.005\n",
        "patience = 3\n",
        "lr_factor = 0.5\n",
        "weight_decay  = 1e-4"
      ],
      "metadata": {
        "id": "n9oAWB9Wd_ps"
      },
      "execution_count": null,
      "outputs": []
    },
    {
      "cell_type": "markdown",
      "source": [
        "**StandardScaler**"
      ],
      "metadata": {
        "id": "MlKnZsOfZUh-"
      }
    },
    {
      "cell_type": "code",
      "source": [
        "import joblib"
      ],
      "metadata": {
        "id": "JrJE5HnLZc_t"
      },
      "execution_count": null,
      "outputs": []
    },
    {
      "cell_type": "code",
      "execution_count": null,
      "metadata": {
        "id": "DgniRONRbDwn",
        "colab": {
          "base_uri": "https://localhost:8080/"
        },
        "collapsed": true,
        "outputId": "1b339ea2-1a65-42fa-cf43-52a8a8c0f443"
      },
      "outputs": [
        {
          "output_type": "execute_result",
          "data": {
            "text/plain": [
              "['scaler.pkl']"
            ]
          },
          "metadata": {},
          "execution_count": 40
        }
      ],
      "source": [
        "scaler = StandardScaler()\n",
        "X_train = scaler.fit_transform(X_train)\n",
        "X_test = scaler.transform(X_test)\n",
        "joblib.dump(scaler, 'scaler.pkl')"
      ]
    },
    {
      "cell_type": "code",
      "source": [],
      "metadata": {
        "id": "MAjFt1dKZaT8"
      },
      "execution_count": null,
      "outputs": []
    },
    {
      "cell_type": "code",
      "source": [
        "# Convert y_train and y_test to NumPy arrays before creating tensors\n",
        "y_train = y_train.values  # Extract NumPy array from y_train Series\n",
        "y_test = y_test.values    # Extract NumPy array from y_test Series\n",
        "\n",
        "\n",
        "X_train_tensor = torch.tensor(X_train, dtype=torch.float32)\n",
        "y_train_tensor = torch.tensor(y_train, dtype=torch.float32).unsqueeze(1)\n",
        "X_test_tensor = torch.tensor(X_test, dtype=torch.float32)\n",
        "y_test_tensor = torch.tensor(y_test, dtype=torch.float32).unsqueeze(1)"
      ],
      "metadata": {
        "id": "okrA9EEJZaMl"
      },
      "execution_count": null,
      "outputs": []
    },
    {
      "cell_type": "code",
      "source": [
        "# Create a DataLoader to improve data processing during training\n",
        "train_dataset = TensorDataset(X_train_tensor, y_train_tensor)\n",
        "test_dataset = TensorDataset(X_test_tensor, y_test_tensor)\n",
        "\n",
        "train_loader = DataLoader(train_dataset, batch_size=32, shuffle=True)\n",
        "test_loader = DataLoader(test_dataset, batch_size=32, shuffle=False)"
      ],
      "metadata": {
        "id": "QJPCSz55t6Od"
      },
      "execution_count": null,
      "outputs": []
    },
    {
      "cell_type": "code",
      "source": [],
      "metadata": {
        "id": "4zUdwE5NXDKc"
      },
      "execution_count": null,
      "outputs": []
    },
    {
      "cell_type": "markdown",
      "source": [
        "**Function Data after processed**"
      ],
      "metadata": {
        "id": "onV39czqXcSm"
      }
    },
    {
      "cell_type": "code",
      "source": [],
      "metadata": {
        "id": "3MjnaUV0XDEy"
      },
      "execution_count": null,
      "outputs": []
    },
    {
      "cell_type": "markdown",
      "source": [
        "**Neural Network Architecture**"
      ],
      "metadata": {
        "id": "rh5hZBi4fQuf"
      }
    },
    {
      "cell_type": "code",
      "source": [
        "'''\n",
        "class ImprovedNN(nn.Module):\n",
        "    def __init__(self, input_size):\n",
        "        super(ImprovedNN, self).__init__()\n",
        "\n",
        "        self.fc1 = nn.Linear(input_size, 128)\n",
        "        self.bn1 = nn.BatchNorm1d(128)\n",
        "        self.dropout1 = nn.Dropout(0.15)\n",
        "\n",
        "        self.fc2 = nn.Linear(128, 64)\n",
        "        self.bn2 = nn.BatchNorm1d(64)\n",
        "        self.dropout2 = nn.Dropout(0.15)\n",
        "\n",
        "        self.fc3 = nn.Linear(64, 32)\n",
        "        self.bn3 = nn.BatchNorm1d(32)\n",
        "        self.dropout3 = nn.Dropout(0.1)\n",
        "\n",
        "        self.fc4 = nn.Linear(32, 1)\n",
        "\n",
        "    def forward(self, x):\n",
        "        x = F.relu(self.bn1(self.fc1(x)))\n",
        "        x = self.dropout1(x)\n",
        "\n",
        "        x = F.relu(self.bn2(self.fc2(x)))\n",
        "        x = self.dropout2(x)\n",
        "\n",
        "        x = F.relu(self.bn3(self.fc3(x)))\n",
        "        x = self.dropout3(x)\n",
        "\n",
        "        x = torch.sigmoid(self.fc4(x))\n",
        "        return x\n",
        "\n",
        "\n",
        "# Define the Model\n",
        "input_dim = X_train.shape[1]\n",
        "model = ImprovedNN(input_dim)\n",
        "\n",
        "'''"
      ],
      "metadata": {
        "id": "zvTpITG1vkpZ"
      },
      "execution_count": null,
      "outputs": []
    },
    {
      "cell_type": "code",
      "execution_count": null,
      "metadata": {
        "id": "Dh0OPAcIH93H"
      },
      "outputs": [],
      "source": [
        "class ChurnModel(nn.Module):\n",
        "  def __init__(self, input_dim):\n",
        "\n",
        "    super(ChurnModel, self).__init__()\n",
        "\n",
        "    self.layers = nn.Sequential(\n",
        "\n",
        "        nn.Linear(input_dim, 256), # The first layer\n",
        "        nn.BatchNorm1d(256),\n",
        "        nn.ReLU(),\n",
        "        nn.Dropout(0.2),\n",
        "\n",
        "        nn.Linear(256, 128), # The second layer\n",
        "        nn.BatchNorm1d(128),\n",
        "        nn.ReLU(),\n",
        "        nn.Dropout(0.2),\n",
        "\n",
        "        nn.Linear(128, 64), # 3th layer\n",
        "        nn.BatchNorm1d(64),\n",
        "        nn.ReLU(),\n",
        "        nn.Dropout(0.2),\n",
        "\n",
        "        nn.Linear(64, 32), # 4th layer\n",
        "        nn.ReLU(),\n",
        "\n",
        "        nn.Linear(32,1), # output layer\n",
        "        nn.Sigmoid()\n",
        "\n",
        "    )\n",
        "\n",
        "  # Define forward pass\n",
        "  def forward(self,x):\n",
        "    return self.layers(x)\n",
        "\n",
        "# Define the Model\n",
        "input_dim = X_train.shape[1]\n",
        "model = ChurnModel(input_dim)"
      ]
    },
    {
      "cell_type": "code",
      "source": [
        "print(model)"
      ],
      "metadata": {
        "id": "pb-xb1czjsYI"
      },
      "execution_count": null,
      "outputs": []
    },
    {
      "cell_type": "markdown",
      "source": [
        "**Define Loss Function and Optimizers**"
      ],
      "metadata": {
        "id": "IdFpbCyLkyKj"
      }
    },
    {
      "cell_type": "code",
      "execution_count": null,
      "metadata": {
        "id": "2CIWP3q_H9__",
        "colab": {
          "base_uri": "https://localhost:8080/",
          "height": 73
        },
        "outputId": "62eec876-20a7-48ec-8ac5-381e957ecee8",
        "collapsed": true
      },
      "outputs": [
        {
          "output_type": "execute_result",
          "data": {
            "text/plain": [
              "\"\\n# Define the loss function and optimizer\\ncriterion = nn.BCELoss()\\noptimizer = torch.optim.AdamW(model.parameters(), lr=learning_rate, weight_decay=weight_decay)\\n\\nscheduler = torch.optim.lr_scheduler.ReduceLROnPlateau(\\n    optimizer, mode='min', patience=patience, factor=lr_factor, verbose=True\\n)\\n\""
            ],
            "application/vnd.google.colaboratory.intrinsic+json": {
              "type": "string"
            }
          },
          "metadata": {},
          "execution_count": 27
        }
      ],
      "source": [
        "# Define the loss function and optimizer\n",
        "criterion = nn.BCEWithLogitsLoss()\n",
        "optimizer = torch.optim.Adam(model.parameters(), lr=learning_rate) # Using the Adam optimizer\n",
        "\n",
        "# Learning rate scheduler (optional but recommended)\n",
        "scheduler = torch.optim.lr_scheduler.ReduceLROnPlateau(\n",
        "    optimizer, mode='min', patience=patience, factor=lr_factor, verbose=True\n",
        ")\n",
        "\n",
        "'''\n",
        "# Define the loss function and optimizer\n",
        "criterion = nn.BCELoss()\n",
        "optimizer = torch.optim.AdamW(model.parameters(), lr=learning_rate, weight_decay=weight_decay)\n",
        "\n",
        "scheduler = torch.optim.lr_scheduler.ReduceLROnPlateau(\n",
        "    optimizer, mode='min', patience=patience, factor=lr_factor, verbose=True\n",
        ")\n",
        "'''"
      ]
    },
    {
      "cell_type": "code",
      "source": [],
      "metadata": {
        "id": "Fi4Qi_Zonw_7"
      },
      "execution_count": null,
      "outputs": []
    },
    {
      "cell_type": "markdown",
      "source": [
        "**Training Loop**"
      ],
      "metadata": {
        "id": "EveRMfBZnrQY"
      }
    },
    {
      "cell_type": "code",
      "source": [
        "def train_model(model, train_loader, criterion, optimizer, scheduler, num_epochs):\n",
        "    device = torch.device(\"cuda\" if torch.cuda.is_available() else \"cpu\")\n",
        "    model.to(device)\n",
        "\n",
        "\n",
        "    for epoch in range(num_epochs):\n",
        "        model.train()  # Training Mode\n",
        "        total_loss = 0.0\n",
        "\n",
        "        for inputs, labels in train_loader:\n",
        "            inputs, labels = inputs.to(device), labels.to(device)\n",
        "            optimizer.zero_grad()\n",
        "\n",
        "            # Remove squeezing from the output\n",
        "            outputs = model(inputs)\n",
        "            loss = criterion(outputs, labels)  # Remove float() as it's already float32\n",
        "            loss.backward()\n",
        "            optimizer.step()\n",
        "            total_loss += loss.item()\n",
        "\n",
        "        avg_loss = total_loss / len(train_loader)\n",
        "        print(f\"Epoch [{epoch + 1}/{num_epochs}], Loss: {avg_loss:.4f}\")"
      ],
      "metadata": {
        "id": "o1UwCazaukzx"
      },
      "execution_count": null,
      "outputs": []
    },
    {
      "cell_type": "code",
      "source": [
        "# def train_model(model, train_loader, criterion, optimizer, scheduler, num_epochs):\n",
        "#     device = torch.device(\"cuda\" if torch.cuda.is_available() else \"cpu\")\n",
        "#     model.to(device)\n",
        "\n",
        "#     for epoch in range(num_epochs):\n",
        "#         model.train()  # Training Mode\n",
        "#         running_loss = 0.0\n",
        "\n",
        "#         for inputs, labels in train_loader:\n",
        "#             inputs, labels = inputs.to(device), labels.to(device)\n",
        "\n",
        "#             optimizer.zero_grad()\n",
        "#             outputs = model(inputs).squeeze(1)\n",
        "\n",
        "#             # Reshape labels to match outputs (remove the extra dimension)\n",
        "#             loss = criterion(outputs, labels.squeeze(1).float())\n",
        "#             loss.backward()\n",
        "#             optimizer.step()\n",
        "\n",
        "#             running_loss += loss.item()\n",
        "\n",
        "#         avg_loss = running_loss / len(train_loader)\n",
        "#         print(f\"Epoch [{epoch+1}/{num_epochs}], Loss: {avg_loss:.4f}\")\n",
        "\n",
        "#         scheduler.step(avg_loss)\n",
        "\n",
        "\n",
        "# print(\"\\n✅ Finished Train!\")"
      ],
      "metadata": {
        "id": "_qdTTvaClo3b"
      },
      "execution_count": null,
      "outputs": []
    },
    {
      "cell_type": "markdown",
      "source": [
        "**Testing  Loop**"
      ],
      "metadata": {
        "id": "OgcsDAfSuvsx"
      }
    },
    {
      "cell_type": "code",
      "source": [
        "def evaluate_model(model, test_loader, criterion):\n",
        "    device = torch.device(\"cuda\" if torch.cuda.is_available() else \"cpu\")\n",
        "    model.to(device)\n",
        "    model.eval()\n",
        "\n",
        "    total_loss, correct, total = 0.0, 0, 0\n",
        "\n",
        "    with torch.no_grad():\n",
        "        for inputs, labels in test_loader:\n",
        "            inputs, labels = inputs.to(device), labels.to(device)\n",
        "\n",
        "            # Remove squeezing from the output\n",
        "            outputs = model(inputs)\n",
        "            loss = criterion(outputs, labels)  # Remove float() as it's already float32\n",
        "            total_loss += loss.item()\n",
        "\n",
        "            preds = torch.round(torch.sigmoid(outputs))\n",
        "            correct += (preds == labels).sum().item()\n",
        "            total += labels.size(0)\n",
        "\n",
        "    avg_loss = total_loss / len(test_loader)\n",
        "    accuracy = 100 * correct / total\n",
        "    print(f\"Test Loss: {avg_loss:.4f}, Accuracy: {accuracy:.2f}%\")\n",
        "    return avg_loss, accuracy"
      ],
      "metadata": {
        "id": "SMjLMRPpuyqm"
      },
      "execution_count": null,
      "outputs": []
    },
    {
      "cell_type": "code",
      "source": [
        "# def evaluate_model(model, test_loader, criterion):\n",
        "#     device = torch.device(\"cuda\" if torch.cuda.is_available() else \"cpu\")\n",
        "#     model.to(device)\n",
        "#     model.eval() # Val Mode\n",
        "\n",
        "#     total_loss = 0.0\n",
        "#     correct = 0\n",
        "#     total = 0\n",
        "\n",
        "#     with torch.no_grad():\n",
        "#         for inputs, labels in test_loader:\n",
        "#             inputs, labels = inputs.to(device), labels.to(device)\n",
        "#             outputs = model(inputs).squeeze(1)\n",
        "\n",
        "#             # Reshape labels to match outputs (remove the extra dimension)\n",
        "#             loss = criterion(outputs, labels.squeeze(1).float())\n",
        "#             total_loss += loss.item()\n",
        "\n",
        "\n",
        "#             preds = torch.round(torch.sigmoid(outputs))\n",
        "#             correct += (preds == labels.squeeze(1)).sum().item()  # Compare with squeezed labels\n",
        "#             total += labels.size(0)\n",
        "\n",
        "#     avg_loss = total_loss / len(test_loader)\n",
        "#     accuracy = 100 * correct / total\n",
        "\n",
        "#     print(f\"Test Loss: {avg_loss:.4f}, Accuracy: {accuracy:.2f}%\")\n",
        "#     return avg_loss, accuracy"
      ],
      "metadata": {
        "id": "KWjFgNujlozH"
      },
      "execution_count": null,
      "outputs": []
    },
    {
      "cell_type": "markdown",
      "source": [
        "**Full Training process**"
      ],
      "metadata": {
        "id": "iLjZL_hPvCu-"
      }
    },
    {
      "cell_type": "code",
      "source": [
        "train_model(model, train_loader, criterion, optimizer, scheduler, num_epochs)\n",
        "evaluate_model(model, test_loader, criterion)"
      ],
      "metadata": {
        "colab": {
          "base_uri": "https://localhost:8080/"
        },
        "id": "07HDVxHulowt",
        "outputId": "11a72e7e-ffbc-4fb2-df2b-03bc2d565af9",
        "collapsed": true
      },
      "execution_count": null,
      "outputs": [
        {
          "output_type": "stream",
          "name": "stdout",
          "text": [
            "Epoch [1/100], Loss: 0.6736\n",
            "Epoch [2/100], Loss: 0.6732\n",
            "Epoch [3/100], Loss: 0.6742\n",
            "Epoch [4/100], Loss: 0.6723\n",
            "Epoch [5/100], Loss: 0.6755\n",
            "Epoch [6/100], Loss: 0.6719\n",
            "Epoch [7/100], Loss: 0.6734\n",
            "Epoch [8/100], Loss: 0.6721\n",
            "Epoch [9/100], Loss: 0.6744\n",
            "Epoch [10/100], Loss: 0.6738\n",
            "Epoch [11/100], Loss: 0.6726\n",
            "Epoch [12/100], Loss: 0.6730\n",
            "Epoch [13/100], Loss: 0.6716\n",
            "Epoch [14/100], Loss: 0.6701\n",
            "Epoch [15/100], Loss: 0.6734\n",
            "Epoch [16/100], Loss: 0.6733\n",
            "Epoch [17/100], Loss: 0.6738\n",
            "Epoch [18/100], Loss: 0.6699\n",
            "Epoch [19/100], Loss: 0.6734\n",
            "Epoch [20/100], Loss: 0.6715\n",
            "Epoch [21/100], Loss: 0.6722\n",
            "Epoch [22/100], Loss: 0.6707\n",
            "Epoch [23/100], Loss: 0.6714\n",
            "Epoch [24/100], Loss: 0.6724\n",
            "Epoch [25/100], Loss: 0.6720\n",
            "Epoch [26/100], Loss: 0.6734\n",
            "Epoch [27/100], Loss: 0.6718\n",
            "Epoch [28/100], Loss: 0.6721\n",
            "Epoch [29/100], Loss: 0.6723\n",
            "Epoch [30/100], Loss: 0.6707\n",
            "Epoch [31/100], Loss: 0.6701\n",
            "Epoch [32/100], Loss: 0.6720\n",
            "Epoch [33/100], Loss: 0.6699\n",
            "Epoch [34/100], Loss: 0.6729\n",
            "Epoch [35/100], Loss: 0.6736\n",
            "Epoch [36/100], Loss: 0.6728\n",
            "Epoch [37/100], Loss: 0.6717\n",
            "Epoch [38/100], Loss: 0.6727\n",
            "Epoch [39/100], Loss: 0.6724\n",
            "Epoch [40/100], Loss: 0.6709\n",
            "Epoch [41/100], Loss: 0.6705\n",
            "Epoch [42/100], Loss: 0.6693\n",
            "Epoch [43/100], Loss: 0.6734\n",
            "Epoch [44/100], Loss: 0.6703\n",
            "Epoch [45/100], Loss: 0.6703\n",
            "Epoch [46/100], Loss: 0.6714\n",
            "Epoch [47/100], Loss: 0.6697\n",
            "Epoch [48/100], Loss: 0.6715\n",
            "Epoch [49/100], Loss: 0.6668\n",
            "Epoch [50/100], Loss: 0.6724\n",
            "Epoch [51/100], Loss: 0.6706\n",
            "Epoch [52/100], Loss: 0.6710\n",
            "Epoch [53/100], Loss: 0.6693\n",
            "Epoch [54/100], Loss: 0.6712\n",
            "Epoch [55/100], Loss: 0.6715\n",
            "Epoch [56/100], Loss: 0.6737\n",
            "Epoch [57/100], Loss: 0.6725\n",
            "Epoch [58/100], Loss: 0.6714\n",
            "Epoch [59/100], Loss: 0.6694\n",
            "Epoch [60/100], Loss: 0.6711\n",
            "Epoch [61/100], Loss: 0.6725\n",
            "Epoch [62/100], Loss: 0.6685\n",
            "Epoch [63/100], Loss: 0.6724\n",
            "Epoch [64/100], Loss: 0.6717\n",
            "Epoch [65/100], Loss: 0.6705\n",
            "Epoch [66/100], Loss: 0.6708\n",
            "Epoch [67/100], Loss: 0.6697\n",
            "Epoch [68/100], Loss: 0.6711\n",
            "Epoch [69/100], Loss: 0.6711\n",
            "Epoch [70/100], Loss: 0.6705\n",
            "Epoch [71/100], Loss: 0.6684\n",
            "Epoch [72/100], Loss: 0.6698\n",
            "Epoch [73/100], Loss: 0.6707\n",
            "Epoch [74/100], Loss: 0.6704\n",
            "Epoch [75/100], Loss: 0.6678\n",
            "Epoch [76/100], Loss: 0.6708\n",
            "Epoch [77/100], Loss: 0.6701\n",
            "Epoch [78/100], Loss: 0.6697\n",
            "Epoch [79/100], Loss: 0.6721\n",
            "Epoch [80/100], Loss: 0.6702\n",
            "Epoch [81/100], Loss: 0.6696\n",
            "Epoch [82/100], Loss: 0.6681\n",
            "Epoch [83/100], Loss: 0.6729\n",
            "Epoch [84/100], Loss: 0.6708\n",
            "Epoch [85/100], Loss: 0.6709\n",
            "Epoch [86/100], Loss: 0.6688\n",
            "Epoch [87/100], Loss: 0.6697\n",
            "Epoch [88/100], Loss: 0.6684\n",
            "Epoch [89/100], Loss: 0.6699\n",
            "Epoch [90/100], Loss: 0.6707\n",
            "Epoch [91/100], Loss: 0.6711\n",
            "Epoch [92/100], Loss: 0.6692\n",
            "Epoch [93/100], Loss: 0.6701\n",
            "Epoch [94/100], Loss: 0.6693\n",
            "Epoch [95/100], Loss: 0.6694\n",
            "Epoch [96/100], Loss: 0.6724\n",
            "Epoch [97/100], Loss: 0.6702\n",
            "Epoch [98/100], Loss: 0.6679\n",
            "Epoch [99/100], Loss: 0.6707\n",
            "Epoch [100/100], Loss: 0.6711\n",
            "Test Loss: 0.6780, Accuracy: 80.70%\n"
          ]
        },
        {
          "output_type": "execute_result",
          "data": {
            "text/plain": [
              "(0.6779665986696879, 80.69552874378992)"
            ]
          },
          "metadata": {},
          "execution_count": 34
        }
      ]
    },
    {
      "cell_type": "code",
      "source": [
        "epochs = range(1, num_epochs + 1)\n",
        "loss_history = [0.5] * num_epochs # Replace with your loss values\n",
        "accuracy_history = [75.0] * num_epochs # Replace with your accuracy values\n",
        "\n",
        "\n",
        "# Plot the loss curve\n",
        "plt.figure(figsize=(10, 5))\n",
        "plt.subplot(1, 2, 1)\n",
        "plt.plot(epochs, loss_history, marker='o', linestyle='-')\n",
        "plt.title('Loss Curve')\n",
        "plt.xlabel('Epoch')\n",
        "plt.ylabel('Loss')\n",
        "plt.grid(True)\n",
        "\n",
        "# Plot the accuracy curve\n",
        "plt.subplot(1, 2, 2)\n",
        "plt.plot(epochs, accuracy_history, marker='o', linestyle='-')\n",
        "plt.title('Accuracy Curve')\n",
        "plt.xlabel('Epoch')\n",
        "plt.ylabel('Accuracy (%)')\n",
        "plt.grid(True)\n",
        "\n",
        "plt.tight_layout()\n",
        "plt.show()\n"
      ],
      "metadata": {
        "colab": {
          "base_uri": "https://localhost:8080/",
          "height": 507
        },
        "id": "VylGzDz1zov2",
        "outputId": "19844df6-daf6-4e1b-8bc2-d811836f6e1b"
      },
      "execution_count": null,
      "outputs": [
        {
          "output_type": "display_data",
          "data": {
            "text/plain": [
              "<Figure size 1000x500 with 2 Axes>"
            ],
            "image/png": "[encoded data removed]"
          },
          "metadata": {}
        }
      ]
    },
    {
      "cell_type": "markdown",
      "source": [
        "### **Save the model**"
      ],
      "metadata": {
        "id": "umfraJk2WjvK"
      }
    },
    {
      "cell_type": "code",
      "source": [
        "torch.save(model.state_dict(), 'churn_model.pth')"
      ],
      "metadata": {
        "id": "3viQq3PMU1Gz"
      },
      "execution_count": null,
      "outputs": []
    },
    {
      "cell_type": "code",
      "source": [],
      "metadata": {
        "id": "jODN34gTV9jN"
      },
      "execution_count": null,
      "outputs": []
    },
    {
      "cell_type": "markdown",
      "source": [
        "### **Predictions Function--Eva**"
      ],
      "metadata": {
        "id": "MZkENQI8VEw_"
      }
    },
    {
      "cell_type": "code",
      "source": [
        "## testing Dataset\n",
        "import pandas as pd\n",
        "\n",
        "data = {\n",
        "    'gender': [0, 1],\n",
        "    'SeniorCitizen': [0, 1],\n",
        "    'Partner': [1, 0],\n",
        "    'Dependents': [0, 1],\n",
        "    'tenure': [5, 24],\n",
        "    'MultipleLines': [0, 1],\n",
        "    'InternetService': [2, 1],\n",
        "    'OnlineSecurity': [0, 1],\n",
        "    'OnlineBackup': [1, 0],\n",
        "    'DeviceProtection': [0, 1],\n",
        "    'TechSupport': [1, 0],\n",
        "    'StreamingMovies': [1, 0],\n",
        "    'Contract': [0, 2],\n",
        "    'PaperlessBilling': [1, 0],\n",
        "    'PaymentMethod': [0, 2],\n",
        "    'MonthlyCharges': [29.85, 89.10],\n",
        "    'TotalCharges': [150.65, 2150.50],\n",
        "}\n",
        "\n",
        "df = pd.DataFrame(data)\n",
        "df"
      ],
      "metadata": {
        "collapsed": true,
        "id": "SvF7RoYiYFLZ"
      },
      "execution_count": null,
      "outputs": []
    },
    {
      "cell_type": "code",
      "source": [],
      "metadata": {
        "id": "Y3u31OS7axwW"
      },
      "execution_count": null,
      "outputs": []
    },
    {
      "cell_type": "code",
      "source": [],
      "metadata": {
        "collapsed": true,
        "id": "lSbOjwykYEsM"
      },
      "execution_count": null,
      "outputs": []
    },
    {
      "cell_type": "code",
      "source": [
        "# Predictions Function--Eva\n",
        "import numpy as np\n",
        "import torch\n",
        "import pandas as pd\n",
        "import joblib\n",
        "from sklearn.preprocessing import StandardScaler\n",
        "\n",
        "model = ChurnModel(17)  ## imput_dim = df.shape[1]\n",
        "model.load_state_dict(torch.load('.model path/.model.pth'))\n",
        "model.eval()\n",
        "#----------------------------------------------------------------------\n",
        "\n",
        "new_data = df\n",
        "# Preprocess the new data (similar to how you preprocessed your training data)\n",
        "# 1. Handle missing values\n",
        "# 2. Feature engineering (if needed)\n",
        "# 3. Feature scaling\n",
        "\n",
        "features = [\n",
        "    'gender', 'SeniorCitizen', 'Partner', 'Dependents', 'tenure',\n",
        "    'MultipleLines', 'InternetService', 'OnlineSecurity', 'OnlineBackup',\n",
        "    'DeviceProtection', 'TechSupport', 'StreamingMovies', 'Contract',\n",
        "    'PaperlessBilling', 'PaymentMethod', 'MonthlyCharges', 'TotalCharges'\n",
        "]\n",
        "X_new = new_data[features]\n",
        "\n",
        "# Scale the new data using the same scaler you used for training\n",
        "scaler = joblib.load('/content/scaler.pkl')\n",
        "X_new = scaler.transform(X_new)\n",
        "\n",
        "# Convert the new data to a PyTorch tensor\n",
        "X_new_tensor = torch.tensor(X_new, dtype=torch.float32)\n",
        "\n",
        "# Make predictions\n",
        "with torch.no_grad():\n",
        "  predictions = model(X_new_tensor)\n",
        "  predicted_labels = (predictions > 0.5).float()  # binary classification task\n",
        "\n",
        "predicted_labels_text = predicted_labels.numpy().astype(int)\n",
        "\n",
        "#\n",
        "predicted_labels_text = predicted_labels_text.reshape(-1)  # Flatten the array\n",
        "predicted_labels_text = pd.Series(predicted_labels_text).map({0: \"Stay\", 1: \"Will Churn\"})\n",
        "\n",
        "new_data['Churn Prediction'] = predicted_labels_text\n",
        "new_data['Churn Prediction']"
      ],
      "metadata": {
        "colab": {
          "base_uri": "https://localhost:8080/",
          "height": 147
        },
        "id": "zQED9X5_U1AK",
        "outputId": "4e143bf9-834e-4a9b-ad26-68c78dc15faa"
      },
      "execution_count": null,
      "outputs": [
        {
          "output_type": "execute_result",
          "data": {
            "text/plain": [
              "0    Stay\n",
              "1    Stay\n",
              "Name: Churn Prediction, dtype: object"
            ],
            "text/html": [
              "<div>\n",
              "<style scoped>\n",
              "    .dataframe tbody tr th:only-of-type {\n",
              "        vertical-align: middle;\n",
              "    }\n",
              "\n",
              "    .dataframe tbody tr th {\n",
              "        vertical-align: top;\n",
              "    }\n",
              "\n",
              "    .dataframe thead th {\n",
              "        text-align: right;\n",
              "    }\n",
              "</style>\n",
              "<table border=\"1\" class=\"dataframe\">\n",
              "  <thead>\n",
              "    <tr style=\"text-align: right;\">\n",
              "      <th></th>\n",
              "      <th>Churn Prediction</th>\n",
              "    </tr>\n",
              "  </thead>\n",
              "  <tbody>\n",
              "    <tr>\n",
              "      <th>0</th>\n",
              "      <td>Stay</td>\n",
              "    </tr>\n",
              "    <tr>\n",
              "      <th>1</th>\n",
              "      <td>Stay</td>\n",
              "    </tr>\n",
              "  </tbody>\n",
              "</table>\n",
              "</div><br><label><b>dtype:</b> object</label>"
            ]
          },
          "metadata": {},
          "execution_count": 45
        }
      ]
    },
    {
      "cell_type": "markdown",
      "source": [
        "##**ML Models**"
      ],
      "metadata": {
        "id": "nwOsIgam0NyE"
      }
    },
    {
      "cell_type": "code",
      "source": [
        "## ML Models\n",
        "\n",
        "from sklearn.linear_model import LogisticRegression\n",
        "from sklearn.svm import SVC\n",
        "from sklearn.tree import DecisionTreeClassifier\n",
        "from sklearn.ensemble import RandomForestClassifier, GradientBoostingClassifier\n",
        "from sklearn.neighbors import KNeighborsClassifier\n",
        "from sklearn.metrics import accuracy_score\n",
        "\n",
        "# Define the models\n",
        "models = {\n",
        "    \"Logistic Regression\": LogisticRegression(),\n",
        "    \"SVM\": SVC(),\n",
        "    \"Decision Tree\": DecisionTreeClassifier(),\n",
        "    \"Random Forest\": RandomForestClassifier(),\n",
        "    \"Gradient Boosting\": GradientBoostingClassifier(),\n",
        "    \"K-Nearest Neighbors\": KNeighborsClassifier()\n",
        "}\n",
        "\n",
        "\n",
        "# Function for model training and evaluation\n",
        "def train_and_evaluate_model(model, X_train, y_train, X_test, y_test):\n",
        "  model.fit(X_train, y_train)\n",
        "  y_pred = model.predict(X_test)\n",
        "  accuracy = accuracy_score(y_test, y_pred)\n",
        "  return accuracy\n",
        "\n",
        "# Train and evaluate each model\n",
        "results = {}\n",
        "for name, model in models.items():\n",
        "  accuracy = train_and_evaluate_model(model, X_train, y_train, X_test, y_test)\n",
        "  results[name] = accuracy\n",
        "  print(f\"{name}: Accuracy = {accuracy:.4f}\")\n",
        "\n",
        "# The best model\n",
        "best_model = max(results, key=results.get)\n",
        "print(f\"\\nBest Model: {best_model} with accuracy {results[best_model]:.4f}\")"
      ],
      "metadata": {
        "colab": {
          "base_uri": "https://localhost:8080/"
        },
        "id": "tcgdakkbrcZ8",
        "outputId": "e8586d83-54ae-4334-f4fe-a1daee17af00"
      },
      "execution_count": null,
      "outputs": [
        {
          "output_type": "stream",
          "name": "stdout",
          "text": [
            "Logistic Regression: Accuracy = 0.8162\n",
            "SVM: Accuracy = 0.8006\n",
            "Decision Tree: Accuracy = 0.7182\n",
            "Random Forest: Accuracy = 0.7921\n",
            "Gradient Boosting: Accuracy = 0.8098\n",
            "K-Nearest Neighbors: Accuracy = 0.7658\n",
            "\n",
            "Best Model: Logistic Regression with accuracy 0.8162\n"
          ]
        }
      ]
    },
    {
      "cell_type": "code",
      "source": [
        "# # Save the best model\n",
        "# import joblib\n",
        "\n",
        "# joblib.dump(logistic_regression_model, \"lr_model.pkl\")\n",
        "# print(\"Model saved successfully!\")"
      ],
      "metadata": {
        "id": "kLvLWxL3esGn"
      },
      "execution_count": null,
      "outputs": []
    },
    {
      "cell_type": "code",
      "source": [],
      "metadata": {
        "id": "JByGGoYZesBS"
      },
      "execution_count": null,
      "outputs": []
    },
    {
      "cell_type": "code",
      "source": [
        "models = ['Logistic Regression', 'SVM', 'Decision Tree', 'Random Forest', 'Gradient Boosting']\n",
        "accuracies = [0.85, 0.90, 0.82, 0.92, 0.88]  # Example accuracies\n",
        "\n",
        "\n",
        "# Pie chart\n",
        "plt.figure(figsize=(8, 8))\n",
        "plt.pie(accuracies, labels=models, autopct='%1.1f%%', startangle=90, colors=['skyblue', 'lightcoral', 'lightgreen', 'gold', 'lightseagreen'])\n",
        "plt.title(\"Model Performance Distribution\")\n",
        "plt.axis('equal')  # Equal aspect ratio ensures that pie is drawn as a circle.\n",
        "plt.show()\n"
      ],
      "metadata": {
        "colab": {
          "base_uri": "https://localhost:8080/",
          "height": 684
        },
        "id": "7Wi-CaRn07Wd",
        "outputId": "f12f71c8-bbad-4928-d973-5515cb31e574"
      },
      "execution_count": null,
      "outputs": [
        {
          "output_type": "display_data",
          "data": {
            "text/plain": [
              "<Figure size 800x800 with 1 Axes>"
            ],
            "image/png": "[encoded data removed]"
          },
          "metadata": {}
        }
      ]
    },
    {
      "cell_type": "code",
      "source": [],
      "metadata": {
        "id": "fb766W1n1ZR-"
      },
      "execution_count": null,
      "outputs": []
    },
    {
      "cell_type": "code",
      "source": [],
      "metadata": {
        "id": "R5OgND591ZJA"
      },
      "execution_count": null,
      "outputs": []
    }
  ],
  "metadata": {
    "accelerator": "GPU",
    "colab": {
      "gpuType": "T4",
      "provenance": [],
      "collapsed_sections": [
        "zvYDtbKpZS0M"
      ],
      "toc_visible": true
    },
    "kernelspec": {
      "display_name": "Python 3",
      "name": "python3"
    },
    "language_info": {
      "name": "python"
    }
  },
  "nbformat": 4,
  "nbformat_minor": 0
}